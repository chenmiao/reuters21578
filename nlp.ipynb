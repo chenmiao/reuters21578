{
 "cells": [
  {
   "cell_type": "code",
   "execution_count": 6,
   "metadata": {},
   "outputs": [],
   "source": [
    "from __future__ import print_function\n",
    "\n",
    "from glob import glob\n",
    "import itertools\n",
    "import os.path\n",
    "import re\n",
    "import tarfile\n",
    "import time\n",
    "\n",
    "import numpy as np"
   ]
  },
  {
   "cell_type": "code",
   "execution_count": 7,
   "metadata": {},
   "outputs": [],
   "source": [
    "import six\n",
    "import sys\n",
    "sys.modules['sklearn.externals.six'] = six"
   ]
  },
  {
   "cell_type": "code",
   "execution_count": 8,
   "metadata": {},
   "outputs": [],
   "source": [
    "from six.moves import html_parser\n",
    "from six.moves import urllib"
   ]
  },
  {
   "cell_type": "code",
   "execution_count": 19,
   "metadata": {},
   "outputs": [],
   "source": [
    "import os\n",
    "import collections\n",
    "import pandas as pd\n",
    "import tensorflow as tf\n",
    "import tensorflow_hub as hub\n",
    "from datetime import datetime"
   ]
  },
  {
   "cell_type": "code",
   "execution_count": 24,
   "metadata": {},
   "outputs": [],
   "source": [
    "from sklearn.model_selection import train_test_split"
   ]
  },
  {
   "cell_type": "code",
   "execution_count": 35,
   "metadata": {},
   "outputs": [],
   "source": [
    "from collections import defaultdict"
   ]
  },
  {
   "cell_type": "code",
   "execution_count": 42,
   "metadata": {},
   "outputs": [],
   "source": [
    "import matplotlib.pyplot as plt"
   ]
  },
  {
   "cell_type": "code",
   "execution_count": 20,
   "metadata": {},
   "outputs": [],
   "source": [
    "sys.path.append(r\"C:\\Users\\vivin\\Documents\\GitHub\\bert\")"
   ]
  },
  {
   "cell_type": "code",
   "execution_count": 108,
   "metadata": {},
   "outputs": [],
   "source": [
    "from run_classifier import DataProcessor, InputExample"
   ]
  },
  {
   "cell_type": "code",
   "execution_count": 105,
   "metadata": {},
   "outputs": [],
   "source": [
    "import tokenization"
   ]
  },
  {
   "cell_type": "code",
   "execution_count": 22,
   "metadata": {},
   "outputs": [
    {
     "data": {
      "text/plain": [
       "'1.15.0'"
      ]
     },
     "execution_count": 22,
     "metadata": {},
     "output_type": "execute_result"
    }
   ],
   "source": [
    "tf.__version__"
   ]
  },
  {
   "cell_type": "markdown",
   "metadata": {},
   "source": [
    "from sklearn.externals.six.moves import html_parser\n",
    "from sklearn.externals.six.moves import urllib"
   ]
  },
  {
   "cell_type": "code",
   "execution_count": 9,
   "metadata": {},
   "outputs": [],
   "source": [
    "#reuters parsing code from https://scikit-learn-docs-chs.readthedocs.io/zh_CN/latest/auto_examples/applications/plot_out_of_core_classification.html"
   ]
  },
  {
   "cell_type": "code",
   "execution_count": 10,
   "metadata": {},
   "outputs": [],
   "source": [
    "class ReutersParser(html_parser.HTMLParser):\n",
    "    \"\"\"Utility class to parse a SGML file and yield documents one at a time.\"\"\"\n",
    "\n",
    "    def __init__(self, encoding='latin-1'):\n",
    "        html_parser.HTMLParser.__init__(self)\n",
    "        self._reset()\n",
    "        self.encoding = encoding\n",
    "\n",
    "    def handle_starttag(self, tag, attrs):\n",
    "        method = 'start_' + tag\n",
    "        getattr(self, method, lambda x: None)(attrs)\n",
    "\n",
    "    def handle_endtag(self, tag):\n",
    "        method = 'end_' + tag\n",
    "        getattr(self, method, lambda: None)()\n",
    "\n",
    "    def _reset(self):\n",
    "        self.in_title = 0\n",
    "        self.in_body = 0\n",
    "        self.in_topics = 0\n",
    "        self.in_topic_d = 0\n",
    "        self.title = \"\"\n",
    "        self.body = \"\"\n",
    "        self.topics = []\n",
    "        self.topic_d = \"\"\n",
    "\n",
    "    def parse(self, fd):\n",
    "        self.docs = []\n",
    "        for chunk in fd:\n",
    "            self.feed(chunk.decode(self.encoding))\n",
    "            for doc in self.docs:\n",
    "                yield doc\n",
    "            self.docs = []\n",
    "        self.close()\n",
    "\n",
    "    def handle_data(self, data):\n",
    "        if self.in_body:\n",
    "            self.body += data\n",
    "        elif self.in_title:\n",
    "            self.title += data\n",
    "        elif self.in_topic_d:\n",
    "            self.topic_d += data\n",
    "\n",
    "    def start_reuters(self, attributes):\n",
    "        pass\n",
    "\n",
    "    def end_reuters(self):\n",
    "        self.body = re.sub(r'\\s+', r' ', self.body)\n",
    "        self.docs.append({'title': self.title,\n",
    "                          'body': self.body,\n",
    "                          'topics': self.topics})\n",
    "        self._reset()\n",
    "\n",
    "    def start_title(self, attributes):\n",
    "        self.in_title = 1\n",
    "\n",
    "    def end_title(self):\n",
    "        self.in_title = 0\n",
    "\n",
    "    def start_body(self, attributes):\n",
    "        self.in_body = 1\n",
    "\n",
    "    def end_body(self):\n",
    "        self.in_body = 0\n",
    "\n",
    "    def start_topics(self, attributes):\n",
    "        self.in_topics = 1\n",
    "\n",
    "    def end_topics(self):\n",
    "        self.in_topics = 0\n",
    "\n",
    "    def start_d(self, attributes):\n",
    "        self.in_topic_d = 1\n",
    "\n",
    "    def end_d(self):\n",
    "        self.in_topic_d = 0\n",
    "        self.topics.append(self.topic_d)\n",
    "        self.topic_d = \"\""
   ]
  },
  {
   "cell_type": "code",
   "execution_count": 11,
   "metadata": {},
   "outputs": [],
   "source": [
    "# def stream_reuters_documents(data_path=None):\n",
    "#     \"\"\"Iterate over documents of the Reuters dataset.\n",
    "\n",
    "#     The Reuters archive will automatically be downloaded and uncompressed if\n",
    "#     the `data_path` directory does not exist.\n",
    "\n",
    "#     Documents are represented as dictionaries with 'body' (str),\n",
    "#     'title' (str), 'topics' (list(str)) keys.\n",
    "\n",
    "#     \"\"\"\n",
    "#     parser = ReutersParser()\n",
    "#     for filename in glob(os.path.join(data_path, \"*.sgm\")):\n",
    "#         for doc in parser.parse(open(filename, 'rb')):\n",
    "#             yield doc"
   ]
  },
  {
   "cell_type": "code",
   "execution_count": 12,
   "metadata": {},
   "outputs": [],
   "source": [
    "def get_reuters_documents(data_path=None):\n",
    "    \"\"\"Iterate over documents of the Reuters dataset.\n",
    "\n",
    "    The Reuters archive will automatically be downloaded and uncompressed if\n",
    "    the `data_path` directory does not exist.\n",
    "\n",
    "    Documents are represented as dictionaries with 'body' (str),\n",
    "    'title' (str), 'topics' (list(str)) keys.\n",
    "\n",
    "    \"\"\"\n",
    "    docs = []\n",
    "    parser = ReutersParser()\n",
    "    for filename in glob(os.path.join(data_path, \"*.sgm\")):\n",
    "        docs.extend(parser.parse(open(filename, 'rb')))\n",
    "    return docs"
   ]
  },
  {
   "cell_type": "code",
   "execution_count": 13,
   "metadata": {},
   "outputs": [],
   "source": [
    "data_dir = r\"C:\\Users\\vivin\\Documents\\Projects\\fidelity\\reuters21578\""
   ]
  },
  {
   "cell_type": "code",
   "execution_count": 14,
   "metadata": {},
   "outputs": [],
   "source": [
    "# # Iterator over parsed Reuters SGML files.\n",
    "# data_stream = stream_reuters_documents(data_dir)"
   ]
  },
  {
   "cell_type": "code",
   "execution_count": 15,
   "metadata": {},
   "outputs": [],
   "source": [
    "docs = get_reuters_documents(data_dir)"
   ]
  },
  {
   "cell_type": "code",
   "execution_count": 16,
   "metadata": {},
   "outputs": [],
   "source": [
    "data = [(u'{title}\\n\\n{body}'.format(**doc), doc['topics']) for doc in docs if doc['topics']]"
   ]
  },
  {
   "cell_type": "code",
   "execution_count": 83,
   "metadata": {},
   "outputs": [],
   "source": [
    "texts, labels= zip(*data)"
   ]
  },
  {
   "cell_type": "code",
   "execution_count": 84,
   "metadata": {},
   "outputs": [
    {
     "data": {
      "text/plain": [
       "('BAHIA COCOA REVIEW\\n\\nShowers continued throughout the week in the Bahia cocoa zone, alleviating the drought since early January and improving prospects for the coming temporao, although normal humidity levels have not been restored, Comissaria Smith said in its weekly review. The dry period means the temporao will be late this year. Arrivals for the week ended February 22 were 155,221 bags of 60 kilos making a cumulative total for the season of 5.93 mln against 5.81 at the same stage last year. Again it seems that cocoa delivered earlier on consignment was included in the arrivals figures. Comissaria Smith said there is still some doubt as to how much old crop cocoa is still available as harvesting has practically come to an end. With total Bahia crop estimates around 6.4 mln bags and sales standing at almost 6.2 mln there are a few hundred thousand bags still in the hands of farmers, middlemen, exporters and processors. There are doubts as to how much of this cocoa would be fit for export as shippers are now experiencing dificulties in obtaining +Bahia superior+ certificates. In view of the lower quality over recent weeks farmers have sold a good part of their cocoa held on consignment. Comissaria Smith said spot bean prices rose to 340 to 350 cruzados per arroba of 15 kilos. Bean shippers were reluctant to offer nearby shipment and only limited sales were booked for March shipment at 1,750 to 1,780 dlrs per tonne to ports to be named. New crop sales were also light and all to open ports with June/July going at 1,850 and 1,880 dlrs and at 35 and 45 dlrs under New York july, Aug/Sept at 1,870, 1,875 and 1,880 dlrs per tonne FOB. Routine sales of butter were made. March/April sold at 4,340, 4,345 and 4,350 dlrs. April/May butter went at 2.27 times New York May, June/July at 4,400 and 4,415 dlrs, Aug/Sept at 4,351 to 4,450 dlrs and at 2.27 and 2.28 times New York Sept and Oct/Dec at 4,480 dlrs and 2.27 times New York Dec, Comissaria Smith said. Destinations were the U.S., Covertible currency areas, Uruguay and open ports. Cake sales were registered at 785 to 995 dlrs for March/April, 785 dlrs for May, 753 dlrs for Aug and 0.39 times New York Dec for Oct/Dec. Buyers were the U.S., Argentina, Uruguay and convertible currency areas. Liquor sales were limited with March/April selling at 2,325 and 2,380 dlrs, June/July at 2,375 dlrs and at 1.25 times New York July, Aug/Sept at 2,400 dlrs and at 1.25 times New York Sept and Oct/Dec at 1.25 times New York Dec, Comissaria Smith said. Total Bahia sales are currently estimated at 6.13 mln bags against the 1986/87 crop and 1.06 mln bags against the 1987/88 crop. Final figures for the period to February 28 are expected to be published by the Brazilian Cocoa Trade Commission after carnival which ends midday on February 27. Reuter ',\n",
       " ['cocoa', 'el-salvador', 'usa', 'uruguay'])"
      ]
     },
     "execution_count": 84,
     "metadata": {},
     "output_type": "execute_result"
    }
   ],
   "source": [
    "texts[0], labels[0]"
   ]
  },
  {
   "cell_type": "code",
   "execution_count": 85,
   "metadata": {},
   "outputs": [
    {
     "data": {
      "text/plain": [
       "(19716, 19716)"
      ]
     },
     "execution_count": 85,
     "metadata": {},
     "output_type": "execute_result"
    }
   ],
   "source": [
    "len(texts), len(labels)"
   ]
  },
  {
   "cell_type": "markdown",
   "metadata": {},
   "source": [
    "#### plot histogram and set lower threshold of class samples"
   ]
  },
  {
   "cell_type": "code",
   "execution_count": 38,
   "metadata": {},
   "outputs": [],
   "source": [
    "def count_labels (y):\n",
    "    label_freq = defaultdict(int)\n",
    "    for labels in y:\n",
    "        for l in labels:\n",
    "            label_freq[l]+=1\n",
    "    return label_freq"
   ]
  },
  {
   "cell_type": "code",
   "execution_count": 39,
   "metadata": {},
   "outputs": [],
   "source": [
    "label_freq = count_labels(y)"
   ]
  },
  {
   "cell_type": "code",
   "execution_count": 40,
   "metadata": {},
   "outputs": [
    {
     "data": {
      "text/plain": [
       "defaultdict(int,\n",
       "            {'cocoa': 76,\n",
       "             'el-salvador': 11,\n",
       "             'usa': 12542,\n",
       "             'uruguay': 5,\n",
       "             'brazil': 332,\n",
       "             'grain': 628,\n",
       "             'wheat': 306,\n",
       "             'corn': 254,\n",
       "             'barley': 54,\n",
       "             'oat': 14,\n",
       "             'sorghum': 35,\n",
       "             'veg-oil': 137,\n",
       "             'linseed': 2,\n",
       "             'lin-oil': 2,\n",
       "             'soy-oil': 25,\n",
       "             'sun-oil': 8,\n",
       "             'soybean': 120,\n",
       "             'oilseed': 192,\n",
       "             'sunseed': 17,\n",
       "             'argentina': 90,\n",
       "             'earn': 3987,\n",
       "             'acq': 2448,\n",
       "             'yemen-arab-republic': 8,\n",
       "             'copper': 78,\n",
       "             'venezuela': 75,\n",
       "             'reagan': 166,\n",
       "             'housing': 21,\n",
       "             'money-supply': 190,\n",
       "             'canada': 1104,\n",
       "             'coffee': 145,\n",
       "             'uk': 1489,\n",
       "             'ico-coffee': 56,\n",
       "             'iran': 179,\n",
       "             'ship': 305,\n",
       "             'sugar': 184,\n",
       "             'trade': 552,\n",
       "             'reserves': 84,\n",
       "             'new-zealand': 112,\n",
       "             'panama': 12,\n",
       "             'honduras': 12,\n",
       "             'wilson': 16,\n",
       "             'meal-feed': 51,\n",
       "             'soy-meal': 27,\n",
       "             'maxwell': 1,\n",
       "             'philippines': 136,\n",
       "             'rye': 2,\n",
       "             'cotton': 63,\n",
       "             'iraq': 90,\n",
       "             'carcass': 75,\n",
       "             'livestock': 114,\n",
       "             'china': 223,\n",
       "             'nyse': 97,\n",
       "             'crude': 634,\n",
       "             'opec': 93,\n",
       "             'nat-gas': 130,\n",
       "             'algeria': 35,\n",
       "             'cpi': 112,\n",
       "             'gnp': 163,\n",
       "             'switzerland': 214,\n",
       "             'oecd': 50,\n",
       "             'ussr': 216,\n",
       "             'lyng': 40,\n",
       "             'volcker': 79,\n",
       "             'south-korea': 111,\n",
       "             'japan': 1138,\n",
       "             'france': 469,\n",
       "             'chirac': 12,\n",
       "             'italy': 170,\n",
       "             'russell': 1,\n",
       "             'money-fx': 801,\n",
       "             'interest': 513,\n",
       "             'hong-kong': 142,\n",
       "             'taiwan': 128,\n",
       "             'bop': 116,\n",
       "             'australia': 270,\n",
       "             'keating': 8,\n",
       "             'rice': 67,\n",
       "             'thailand': 81,\n",
       "             'red-bean': 1,\n",
       "             'ongpin': 25,\n",
       "             'colombia': 53,\n",
       "             'rubber': 51,\n",
       "             'copra-cake': 3,\n",
       "             'palm-oil': 43,\n",
       "             'palmkernel': 3,\n",
       "             'tea': 15,\n",
       "             'plywood': 4,\n",
       "             'indonesia': 99,\n",
       "             'kuwait': 53,\n",
       "             'ecuador': 72,\n",
       "             'worldbank': 87,\n",
       "             'india': 82,\n",
       "             'gandhi': 3,\n",
       "             'bahrain': 46,\n",
       "             'saudi-arabia': 87,\n",
       "             'bangladesh': 34,\n",
       "             'qatar': 17,\n",
       "             'oman': 6,\n",
       "             'uae': 42,\n",
       "             'hisham-nazer': 7,\n",
       "             'egypt': 49,\n",
       "             'zambia': 23,\n",
       "             'poland': 18,\n",
       "             'imf': 106,\n",
       "             'congo': 2,\n",
       "             'belgium': 214,\n",
       "             'ec': 349,\n",
       "             'sri-lanka': 33,\n",
       "             'alum': 63,\n",
       "             'singapore': 71,\n",
       "             'sse': 5,\n",
       "             'nasdaq': 69,\n",
       "             'lse': 28,\n",
       "             'west-germany': 567,\n",
       "             'simex': 7,\n",
       "             'netherlands': 196,\n",
       "             'sweden': 112,\n",
       "             'nigeria': 37,\n",
       "             'nakasone': 61,\n",
       "             'gold': 135,\n",
       "             'platinum': 12,\n",
       "             'strategic-metal': 32,\n",
       "             'south-africa': 113,\n",
       "             'tapioca': 4,\n",
       "             'tin': 33,\n",
       "             'malaysia': 78,\n",
       "             'zaire': 9,\n",
       "             'bolivia': 23,\n",
       "             'atpc': 3,\n",
       "             'rapeseed': 35,\n",
       "             'groundnut-oil': 2,\n",
       "             'lebanon': 19,\n",
       "             'syria': 10,\n",
       "             'rape-oil': 8,\n",
       "             'cornglutenfeed': 2,\n",
       "             'citruspulp': 1,\n",
       "             'rape-meal': 1,\n",
       "             'pakistan': 39,\n",
       "             'hungary': 19,\n",
       "             'gatt': 80,\n",
       "             'brodersohn': 3,\n",
       "             'james-baker': 168,\n",
       "             'camdessus': 6,\n",
       "             'sumita': 36,\n",
       "             'balladur': 35,\n",
       "             'spain': 115,\n",
       "             'howard-baker': 11,\n",
       "             'leigh-pemberton': 7,\n",
       "             'conable': 20,\n",
       "             'wool': 2,\n",
       "             'dlr': 217,\n",
       "             'tanzania': 16,\n",
       "             'l-cattle': 9,\n",
       "             'bhutan': 1,\n",
       "             'nepal': 3,\n",
       "             'yemen-demo-republic': 3,\n",
       "             'fao': 8,\n",
       "             'retail': 27,\n",
       "             'turkey': 64,\n",
       "             'ipi': 65,\n",
       "             'lawson': 60,\n",
       "             'silver': 37,\n",
       "             'austria': 27,\n",
       "             'liechtenstein': 1,\n",
       "             'iron-steel': 67,\n",
       "             'cme': 32,\n",
       "             'amex': 60,\n",
       "             'cuba': 18,\n",
       "             'nymex': 10,\n",
       "             'yeutter': 63,\n",
       "             'dauster': 8,\n",
       "             'comex': 7,\n",
       "             'hog': 27,\n",
       "             'lme': 13,\n",
       "             'us-virgin-islands': 2,\n",
       "             'guam': 2,\n",
       "             'propane': 6,\n",
       "             'heat': 25,\n",
       "             'gas': 65,\n",
       "             'portugal': 38,\n",
       "             'greece': 36,\n",
       "             'mose': 2,\n",
       "             'sprinkel': 11,\n",
       "             'cbt': 37,\n",
       "             'jobs': 76,\n",
       "             'lei': 17,\n",
       "             'deng-xiaoping': 3,\n",
       "             'yen': 69,\n",
       "             'subroto': 16,\n",
       "             'libya': 16,\n",
       "             'finland': 40,\n",
       "             'saudriyal': 3,\n",
       "             'mexico': 81,\n",
       "             'zimbabwe': 16,\n",
       "             'aquino': 4,\n",
       "             'de-larosiere': 2,\n",
       "             'ireland': 18,\n",
       "             'kenya': 19,\n",
       "             'czechoslovakia': 5,\n",
       "             'romania': 5,\n",
       "             'zinc': 44,\n",
       "             'israel': 27,\n",
       "             'yugoslavia': 47,\n",
       "             'chile': 17,\n",
       "             'liberia': 3,\n",
       "             'denmark': 56,\n",
       "             'uganda': 17,\n",
       "             'jamaica': 13,\n",
       "             'peru': 45,\n",
       "             'stoltenberg': 53,\n",
       "             'morocco': 18,\n",
       "             'orange': 29,\n",
       "             'cboe': 15,\n",
       "             'nicaragua': 28,\n",
       "             'halikias': 1,\n",
       "             'pet-chem': 41,\n",
       "             'dominican-republic': 8,\n",
       "             'luxembourg': 49,\n",
       "             'costa-rica': 19,\n",
       "             'guatemala': 9,\n",
       "             'languetin': 4,\n",
       "             'fuel': 28,\n",
       "             'aqazadeh': 6,\n",
       "             'de-kock': 4,\n",
       "             'icahn': 8,\n",
       "             'suriname': 5,\n",
       "             'ivory-coast': 20,\n",
       "             'cossiga': 1,\n",
       "             'suharto': 3,\n",
       "             'hawke': 7,\n",
       "             'cayman-islands': 2,\n",
       "             'papua-new-guinea': 7,\n",
       "             'wpi': 32,\n",
       "             'potato': 6,\n",
       "             'adb-africa': 10,\n",
       "             'gabon': 5,\n",
       "             'boesky': 11,\n",
       "             'lead': 35,\n",
       "             'duisenberg': 2,\n",
       "             'ruding': 6,\n",
       "             'pse': 13,\n",
       "             'jordan': 17,\n",
       "             'east-germany': 4,\n",
       "             'afghanistan': 3,\n",
       "             'tunisia': 10,\n",
       "             'sudan': 9,\n",
       "             'somalia': 3,\n",
       "             'groundnut': 10,\n",
       "             'haughey': 2,\n",
       "             'delors': 8,\n",
       "             'can': 3,\n",
       "             'kohl': 10,\n",
       "             'iea': 6,\n",
       "             'goria': 3,\n",
       "             'fishmeal': 2,\n",
       "             'tose': 10,\n",
       "             'du-plessis': 8,\n",
       "             'income': 18,\n",
       "             'norway': 44,\n",
       "             'ghana': 15,\n",
       "             'unctad': 9,\n",
       "             'liffe': 12,\n",
       "             'palladium': 3,\n",
       "             'nickel': 11,\n",
       "             'lumber': 17,\n",
       "             'paraguay': 2,\n",
       "             'un': 10,\n",
       "             'jet': 8,\n",
       "             'imco': 1,\n",
       "             'instal-debt': 7,\n",
       "             'poehl': 25,\n",
       "             'dfl': 3,\n",
       "             'dmk': 15,\n",
       "             'biffex': 4,\n",
       "             'angola': 2,\n",
       "             'stg': 21,\n",
       "             'bis': 2,\n",
       "             'ipe': 2,\n",
       "             'mulroney': 7,\n",
       "             'euratom': 1,\n",
       "             'pickens': 1,\n",
       "             'miyazawa': 59,\n",
       "             'douglas': 9,\n",
       "             'king-fahd': 3,\n",
       "             'murdoch': 2,\n",
       "             'schlueter': 2,\n",
       "             'coconut-oil': 7,\n",
       "             'inro': 7,\n",
       "             'sarney': 13,\n",
       "             'bulgaria': 3,\n",
       "             'corn-oil': 1,\n",
       "             'tse': 43,\n",
       "             'stse': 2,\n",
       "             'james-miller': 16,\n",
       "             'ida': 4,\n",
       "             'tamura': 9,\n",
       "             'kampuchea': 2,\n",
       "             'zse': 4,\n",
       "             'burma': 2,\n",
       "             'inventories': 7,\n",
       "             'haiti': 8,\n",
       "             'sierra-leone': 3,\n",
       "             'aruba': 1,\n",
       "             'ase': 11,\n",
       "             'machinea': 4,\n",
       "             'mnse': 1,\n",
       "             'khomeini': 1,\n",
       "             'icco': 44,\n",
       "             'mohammed-ali-abal-khail': 2,\n",
       "             'lange': 2,\n",
       "             'cyprus': 20,\n",
       "             'itc': 12,\n",
       "             'madagascar': 5,\n",
       "             'cpu': 4,\n",
       "             'peseta': 1,\n",
       "             'nycsce': 6,\n",
       "             'ethiopia': 5,\n",
       "             'babangida': 2,\n",
       "             'alfonsin': 2,\n",
       "             'von-weizsaecker': 7,\n",
       "             'de-clercq': 14,\n",
       "             'austdlr': 4,\n",
       "             'north-korea': 7,\n",
       "             'eib': 7,\n",
       "             'iceland': 3,\n",
       "             'guyana': 2,\n",
       "             'herrington': 16,\n",
       "             'gcc': 3,\n",
       "             'oapec': 2,\n",
       "             'cotton-oil': 3,\n",
       "             'naphtha': 7,\n",
       "             'petricioli': 5,\n",
       "             'trinidad-tobago': 4,\n",
       "             'djibouti': 2,\n",
       "             'iwcc': 1,\n",
       "             'nzdlr': 4,\n",
       "             'siregar': 1,\n",
       "             'rand': 3,\n",
       "             'bermuda': 4,\n",
       "             'isa': 3,\n",
       "             'singhasaneh': 1,\n",
       "             'adb-asia': 20,\n",
       "             'garcia': 5,\n",
       "             'kullberg': 1,\n",
       "             'thatcher': 19,\n",
       "             'chad': 8,\n",
       "             'pork-belly': 4,\n",
       "             'malawi': 4,\n",
       "             'ciampi': 2,\n",
       "             'mikulic': 5,\n",
       "             'ringgit': 1,\n",
       "             'coconut': 6,\n",
       "             'bangemann': 6,\n",
       "             'concepcion': 4,\n",
       "             'martens': 2,\n",
       "             'senegal': 5,\n",
       "             'barbados': 3,\n",
       "             'fernandez': 6,\n",
       "             'okongwu': 1,\n",
       "             'masse': 2,\n",
       "             'vietnam': 8,\n",
       "             'zhao-ziyang': 8,\n",
       "             'mousavi': 3,\n",
       "             'brunei': 6,\n",
       "             'cavaco-silva': 4,\n",
       "             'wang-bingqian': 2,\n",
       "             'iwc-wheat': 4,\n",
       "             'jaruzelski': 2,\n",
       "             'castorseed': 1,\n",
       "             'castor-oil': 2,\n",
       "             'botswana': 3,\n",
       "             'fse': 7,\n",
       "             'papandreou': 5,\n",
       "             'macsharry': 2,\n",
       "             'cameroon': 4,\n",
       "             'togo': 3,\n",
       "             'guinea': 1,\n",
       "             'lit': 3,\n",
       "             'prawiro': 1,\n",
       "             'rupiah': 1,\n",
       "             'comecon': 1,\n",
       "             'ozal': 3,\n",
       "             'nyce': 6,\n",
       "             'ryzhkov': 1,\n",
       "             'mauritius': 5,\n",
       "             'mozambique': 5,\n",
       "             'set': 1,\n",
       "             'hkse': 7,\n",
       "             'asx': 5,\n",
       "             'asean': 2,\n",
       "             'young': 1,\n",
       "             'mauritania': 1,\n",
       "             'vanuatu': 1,\n",
       "             'skr': 1,\n",
       "             'nkr': 3,\n",
       "             'dkr': 1,\n",
       "             'sun-meal': 2,\n",
       "             'lin-meal': 1,\n",
       "             'steeg': 1,\n",
       "             'eyskens': 10,\n",
       "             'bse': 2,\n",
       "             'carlsson': 1,\n",
       "             'efta': 1,\n",
       "             'sourrouille': 4,\n",
       "             'kaufman': 2,\n",
       "             'malta': 1,\n",
       "             'cruzado': 1,\n",
       "             'johnston': 1,\n",
       "             'namibia': 2,\n",
       "             'lukman': 1,\n",
       "             'cottonseed': 1,\n",
       "             'bond': 1,\n",
       "             'f-cattle': 3,\n",
       "             'rubio': 1,\n",
       "             'fujioka': 4,\n",
       "             'escap': 2,\n",
       "             'bfr': 1,\n",
       "             'eca': 2,\n",
       "             'del-mazo': 3,\n",
       "             'mancera-aguayo': 5,\n",
       "             'de-la-madrid': 2,\n",
       "             'corrigan': 3,\n",
       "             'ose': 1,\n",
       "             'andriessen': 1,\n",
       "             'hk': 1,\n",
       "             'sfr': 3,\n",
       "             'antigua': 1,\n",
       "             'oeien': 1,\n",
       "             'perez-de-cuellar': 4,\n",
       "             'rwanda': 2,\n",
       "             'fiji': 3,\n",
       "             'greenspan': 37,\n",
       "             'bresser-pereira': 2,\n",
       "             'kiechle': 1,\n",
       "             'benin': 1,\n",
       "             'burkina-faso': 1,\n",
       "             'niger': 2,\n",
       "             'mise': 4,\n",
       "             'lesotho': 1,\n",
       "             'swaziland': 1,\n",
       "             'bahamas': 1,\n",
       "             'mitterrand': 1,\n",
       "             'takeshita': 4,\n",
       "             'stich': 1,\n",
       "             'verity': 3})"
      ]
     },
     "execution_count": 40,
     "metadata": {},
     "output_type": "execute_result"
    }
   ],
   "source": [
    "label_freq"
   ]
  },
  {
   "cell_type": "code",
   "execution_count": 41,
   "metadata": {},
   "outputs": [
    {
     "data": {
      "text/plain": [
       "445"
      ]
     },
     "execution_count": 41,
     "metadata": {},
     "output_type": "execute_result"
    }
   ],
   "source": [
    "len(label_freq)"
   ]
  },
  {
   "cell_type": "code",
   "execution_count": 50,
   "metadata": {},
   "outputs": [
    {
     "data": {
      "image/png": "[encoded data removed]",
      "text/plain": [
       "<Figure size 432x288 with 1 Axes>"
      ]
     },
     "metadata": {
      "needs_background": "light"
     },
     "output_type": "display_data"
    }
   ],
   "source": [
    "plt.hist(label_freq.values(), bins=50)\n",
    "plt.show()"
   ]
  },
  {
   "cell_type": "markdown",
   "metadata": {},
   "source": [
    "#### remove classes that have low number of samples"
   ]
  },
  {
   "cell_type": "code",
   "execution_count": 74,
   "metadata": {},
   "outputs": [],
   "source": [
    "threshold = 100 #frequency lower threshold to being a class"
   ]
  },
  {
   "cell_type": "code",
   "execution_count": 58,
   "metadata": {},
   "outputs": [],
   "source": [
    "#this is the labels to remove\n",
    "labels_small = [l for l in label_freq if label_freq[l] <= threshold]"
   ]
  },
  {
   "cell_type": "code",
   "execution_count": 75,
   "metadata": {},
   "outputs": [],
   "source": [
    "labels_tokeep = [l for l in label_freq if label_freq[l] > threshold]"
   ]
  },
  {
   "cell_type": "code",
   "execution_count": 59,
   "metadata": {},
   "outputs": [
    {
     "data": {
      "text/plain": [
       "395"
      ]
     },
     "execution_count": 59,
     "metadata": {},
     "output_type": "execute_result"
    }
   ],
   "source": [
    "len(labels_small)"
   ]
  },
  {
   "cell_type": "code",
   "execution_count": 87,
   "metadata": {},
   "outputs": [],
   "source": [
    "#replace labels in labels_small to \"others\"\n",
    "texts_cleaned = []\n",
    "labels_cleaned = []\n",
    "for text, labels in zip(x, y):\n",
    "    l_cleaned = []\n",
    "    for label in labels:\n",
    "        if label not in labels_small:\n",
    "            l_cleaned.append(label)\n",
    "        else:\n",
    "            l_cleaned.append(\"other\")\n",
    "    if l_cleaned:\n",
    "        texts_cleaned.append(text)\n",
    "        labels_cleaned.append(l_cleaned)"
   ]
  },
  {
   "cell_type": "code",
   "execution_count": 89,
   "metadata": {},
   "outputs": [
    {
     "data": {
      "text/plain": [
       "(\"COMPUTER TERMINAL SYSTEMS <CPML> COMPLETES SALE\\n\\nComputer Terminal Systems Inc said it has completed the sale of 200,000 shares of its common stock, and warrants to acquire an additional one mln shares, to <Sedio N.V.> of Lugano, Switzerland for 50,000 dlrs. The company said the warrants are exercisable for five years at a purchase price of .125 dlrs per share. Computer Terminal said Sedio also has the right to buy additional shares and increase its total holdings up to 40 pct of the Computer Terminal's outstanding common stock under certain circumstances involving change of control at the company. The company said if the conditions occur the warrants would be exercisable at a price equal to 75 pct of its common stock's market price at the time, not to exceed 1.50 dlrs per share. Computer Terminal also said it sold the technolgy rights to its Dot Matrix impact technology, including any future improvements, to <Woodco Inc> of Houston, Tex. for 200,000 dlrs. But, it said it would continue to be the exclusive worldwide licensee of the technology for Woodco. The company said the moves were part of its reorganization plan and would help pay current operation costs and ensure product delivery. Computer Terminal makes computer generated labels, forms, tags and ticket printers and terminals. Reuter \",\n",
       " ['acq', 'usa'])"
      ]
     },
     "execution_count": 89,
     "metadata": {},
     "output_type": "execute_result"
    }
   ],
   "source": [
    "texts_cleaned[9], labels_cleaned[9]"
   ]
  },
  {
   "cell_type": "code",
   "execution_count": 90,
   "metadata": {},
   "outputs": [
    {
     "data": {
      "text/plain": [
       "(19716, 19716)"
      ]
     },
     "execution_count": 90,
     "metadata": {},
     "output_type": "execute_result"
    }
   ],
   "source": [
    "len(texts_cleaned), len(labels_cleaned)"
   ]
  },
  {
   "cell_type": "code",
   "execution_count": 91,
   "metadata": {},
   "outputs": [
    {
     "data": {
      "image/png": "[encoded data removed]",
      "text/plain": [
       "<Figure size 432x288 with 1 Axes>"
      ]
     },
     "metadata": {
      "needs_background": "light"
     },
     "output_type": "display_data"
    }
   ],
   "source": [
    "#plot freq again\n",
    "label_freq_cleaned = {l:label_freq[l] for l in label_freq if label_freq[l] > 100}\n",
    "plt.hist(label_freq_cleaned.values(), bins=50)\n",
    "plt.show()"
   ]
  },
  {
   "cell_type": "markdown",
   "metadata": {},
   "source": [
    "#### train and test data split"
   ]
  },
  {
   "cell_type": "code",
   "execution_count": 92,
   "metadata": {},
   "outputs": [],
   "source": [
    "texts_train, texts_test, labels_train, labels_test = \\\n",
    "train_test_split(texts_cleaned, labels_cleaned, test_size=0.3, random_state=12345)"
   ]
  },
  {
   "cell_type": "code",
   "execution_count": 93,
   "metadata": {},
   "outputs": [
    {
     "data": {
      "text/plain": [
       "('TRIANGLE MICROWAVE <TRMW> IN TALKS ON BUYOUT\\n\\nTriangle Microwave Inc said it is involved in talks on its possible purchase by a \"substantial U.S. company\" it did not identify. Triangle said no agreement has yet been reached and there can be no assurance that one will be reached. Any acquisitioon would be subject to approval by its shareholders and to regulatory filings, it said. Triangle Microwave makes microwave system components and had earnings for the first half ended January 31 of 1,055,000 dlrs on sales of 7,292,000 dlrs, up from earnings of 763,000 dlrs on sales of 6,034,000 dlrs a year before. Reuter ',\n",
       " ['acq', 'usa'])"
      ]
     },
     "execution_count": 93,
     "metadata": {},
     "output_type": "execute_result"
    }
   ],
   "source": [
    "texts_train[0], labels_train[0]"
   ]
  },
  {
   "cell_type": "code",
   "execution_count": 94,
   "metadata": {},
   "outputs": [
    {
     "data": {
      "text/plain": [
       "(13801, 13801)"
      ]
     },
     "execution_count": 94,
     "metadata": {},
     "output_type": "execute_result"
    }
   ],
   "source": [
    "len(texts_train), len(labels_train)"
   ]
  },
  {
   "cell_type": "code",
   "execution_count": 95,
   "metadata": {},
   "outputs": [
    {
     "data": {
      "text/plain": [
       "('VW,TOYOTA LIGHT TRUCK DEAL CLOSE TO CONCLUSION\\n\\nVolkswagen AG <VOWG.F> said negotiations with Toyota Motor Corp <TOYO.T> over a joint production accord have reached \"an advanced stage.\" An announcement on an agreement to assemble Toyota Hi Lux light trucks at VW\\'s Hanover plant is expected next week, industry sources close to VW said. The Financial Times newspaper quoted VW managing board chairman Carl Hahn saying he was certain the two companies would agree to produce one tonne pick-up trucks from 1988. Reuter ',\n",
       " ['west-germany'])"
      ]
     },
     "execution_count": 95,
     "metadata": {},
     "output_type": "execute_result"
    }
   ],
   "source": [
    "texts_test[0], labels_test[0]"
   ]
  },
  {
   "cell_type": "code",
   "execution_count": 96,
   "metadata": {},
   "outputs": [
    {
     "data": {
      "text/plain": [
       "(5915, 5915)"
      ]
     },
     "execution_count": 96,
     "metadata": {},
     "output_type": "execute_result"
    }
   ],
   "source": [
    "len(texts_test), len(labels_test)"
   ]
  },
  {
   "cell_type": "markdown",
   "metadata": {},
   "source": [
    "#### preprocessing text and labels for TF input"
   ]
  },
  {
   "cell_type": "code",
   "execution_count": 119,
   "metadata": {},
   "outputs": [],
   "source": [
    "class ReuterProcessor(DataProcessor):\n",
    "  \"\"\"Processor for the CoLA data set (GLUE version).\"\"\"\n",
    "\n",
    "  def get_train_examples(self, texts, labels):\n",
    "    \"\"\"See base class.\"\"\"\n",
    "    return self._create_examples(texts, labels, \"train\")\n",
    "\n",
    "  def get_dev_examples(self, texts, labels):\n",
    "    \"\"\"See base class.\"\"\"\n",
    "    return self._create_examples(texts, labels, \"dev\")\n",
    "\n",
    "  def get_test_examples(self, texts, labels):\n",
    "    \"\"\"See base class.\"\"\"\n",
    "    return self._create_examples(texts, labels, \"test\")\n",
    "\n",
    "  def get_labels(self, labels_tokeep):\n",
    "    \"\"\"See base class.\"\"\"\n",
    "    return [\"other\"] + labels_tokeep\n",
    "\n",
    "  def _create_examples(self, texts, labels, set_type):\n",
    "    \"\"\"Creates examples for the training and dev sets.\"\"\"\n",
    "    examples = []\n",
    "    for i, (text, label) in enumerate(zip(texts, labels)):\n",
    "      # Only the test set has a header\n",
    "      guid = \"%s-%s\" % (set_type, i)\n",
    "      if set_type == \"test\":\n",
    "        text_a = tokenization.convert_to_unicode(text)\n",
    "        label = [\"other\"]\n",
    "      else:\n",
    "        text_a = tokenization.convert_to_unicode(text)\n",
    "        label = [tokenization.convert_to_unicode(l) for l in label]\n",
    "      examples.append(\n",
    "          InputExample(guid=guid, text_a=text_a, text_b=None, label=label))\n",
    "    return examples"
   ]
  },
  {
   "cell_type": "code",
   "execution_count": 120,
   "metadata": {},
   "outputs": [],
   "source": [
    "processor = ReuterProcessor()"
   ]
  },
  {
   "cell_type": "code",
   "execution_count": 128,
   "metadata": {},
   "outputs": [
    {
     "name": "stdout",
     "output_type": "stream",
     "text": [
      "['other', 'usa', 'brazil', 'grain', 'wheat', 'corn', 'veg-oil', 'soybean', 'oilseed', 'earn', 'acq', 'reagan', 'money-supply', 'canada', 'coffee', 'uk', 'iran', 'ship', 'sugar', 'trade', 'new-zealand', 'philippines', 'livestock', 'china', 'crude', 'nat-gas', 'cpi', 'gnp', 'switzerland', 'ussr', 'south-korea', 'japan', 'france', 'italy', 'money-fx', 'interest', 'hong-kong', 'taiwan', 'bop', 'australia', 'imf', 'belgium', 'ec', 'west-germany', 'netherlands', 'sweden', 'gold', 'south-africa', 'james-baker', 'spain', 'dlr']\n"
     ]
    }
   ],
   "source": [
    "print(processor.get_labels(labels_tokeep))"
   ]
  },
  {
   "cell_type": "code",
   "execution_count": 121,
   "metadata": {},
   "outputs": [],
   "source": [
    "examples = processor.get_train_examples(texts_train, labels_train)"
   ]
  },
  {
   "cell_type": "code",
   "execution_count": 125,
   "metadata": {},
   "outputs": [
    {
     "data": {
      "text/plain": [
       "('train-0',\n",
       " 'TRIANGLE MICROWAVE <TRMW> IN TALKS ON BUYOUT\\n\\nTriangle Microwave Inc said it is involved in talks on its possible purchase by a \"substantial U.S. company\" it did not identify. Triangle said no agreement has yet been reached and there can be no assurance that one will be reached. Any acquisitioon would be subject to approval by its shareholders and to regulatory filings, it said. Triangle Microwave makes microwave system components and had earnings for the first half ended January 31 of 1,055,000 dlrs on sales of 7,292,000 dlrs, up from earnings of 763,000 dlrs on sales of 6,034,000 dlrs a year before. Reuter ',\n",
       " None,\n",
       " ['acq', 'usa'])"
      ]
     },
     "execution_count": 125,
     "metadata": {},
     "output_type": "execute_result"
    }
   ],
   "source": [
    "examples[0].guid, examples[0].text_a, examples[0].text_b, examples[0].label"
   ]
  },
  {
   "cell_type": "code",
   "execution_count": 132,
   "metadata": {},
   "outputs": [],
   "source": [
    "def convert_single_example(ex_index, example, label_list, max_seq_length,\n",
    "                           tokenizer):\n",
    "  \"\"\"Converts a single `InputExample` into a single `InputFeatures`.\"\"\"\n",
    "\n",
    "  if isinstance(example, PaddingInputExample):\n",
    "    return InputFeatures(\n",
    "        input_ids=[0] * max_seq_length,\n",
    "        input_mask=[0] * max_seq_length,\n",
    "        segment_ids=[0] * max_seq_length,\n",
    "        label_id=0,\n",
    "        is_real_example=False)\n",
    "\n",
    "  label_map = {}\n",
    "  for (i, label) in enumerate(label_list):\n",
    "    label_map[label] = i\n",
    "\n",
    "  tokens_a = tokenizer.tokenize(example.text_a)\n",
    "  tokens_b = None\n",
    "  if example.text_b:\n",
    "    tokens_b = tokenizer.tokenize(example.text_b)\n",
    "\n",
    "  if tokens_b:\n",
    "    _truncate_seq_pair(tokens_a, tokens_b, max_seq_length - 3)\n",
    "  else:\n",
    "    if len(tokens_a) > max_seq_length - 2:\n",
    "      tokens_a = tokens_a[0:(max_seq_length - 2)]\n",
    "\n",
    "  tokens = []\n",
    "  segment_ids = []\n",
    "  tokens.append(\"[CLS]\")\n",
    "  segment_ids.append(0)\n",
    "  for token in tokens_a:\n",
    "    tokens.append(token)\n",
    "    segment_ids.append(0)\n",
    "  tokens.append(\"[SEP]\")\n",
    "  segment_ids.append(0)\n",
    "\n",
    "  if tokens_b:\n",
    "    for token in tokens_b:\n",
    "      tokens.append(token)\n",
    "      segment_ids.append(1)\n",
    "    tokens.append(\"[SEP]\")\n",
    "    segment_ids.append(1)\n",
    "\n",
    "  input_ids = tokenizer.convert_tokens_to_ids(tokens)\n",
    "\n",
    "  # The mask has 1 for real tokens and 0 for padding tokens. Only real\n",
    "  # tokens are attended to.\n",
    "  input_mask = [1] * len(input_ids)\n",
    "\n",
    "  # Zero-pad up to the sequence length.\n",
    "  while len(input_ids) < max_seq_length:\n",
    "    input_ids.append(0)\n",
    "    input_mask.append(0)\n",
    "    segment_ids.append(0)\n",
    "\n",
    "  assert len(input_ids) == max_seq_length\n",
    "  assert len(input_mask) == max_seq_length\n",
    "  assert len(segment_ids) == max_seq_length\n",
    "\n",
    "#   label_id = label_map[example.label]\n",
    "  #actually this is label_ids - a list of label ids\n",
    "  label_id = [1 if l in example.label else 0 for l in label_list]\n",
    "    \n",
    "  if ex_index < 5:\n",
    "    tf.logging.info(\"*** Example ***\")\n",
    "    tf.logging.info(\"guid: %s\" % (example.guid))\n",
    "    tf.logging.info(\"tokens: %s\" % \" \".join(\n",
    "        [tokenization.printable_text(x) for x in tokens]))\n",
    "    tf.logging.info(\"input_ids: %s\" % \" \".join([str(x) for x in input_ids]))\n",
    "    tf.logging.info(\"input_mask: %s\" % \" \".join([str(x) for x in input_mask]))\n",
    "    tf.logging.info(\"segment_ids: %s\" % \" \".join([str(x) for x in segment_ids]))\n",
    "    tf.logging.info(\"label: %s (id = %d)\" % (example.label, label_id))\n",
    "\n",
    "  feature = InputFeatures(\n",
    "      input_ids=input_ids,\n",
    "      input_mask=input_mask,\n",
    "      segment_ids=segment_ids,\n",
    "      label_id=label_id,\n",
    "      is_real_example=True)\n",
    "  return feature\n"
   ]
  },
  {
   "cell_type": "code",
   "execution_count": 133,
   "metadata": {},
   "outputs": [],
   "source": [
    "def file_based_convert_examples_to_features(\n",
    "    examples, label_list, max_seq_length, tokenizer, output_file):\n",
    "  \"\"\"Convert a set of `InputExample`s to a TFRecord file.\"\"\"\n",
    "\n",
    "  writer = tf.python_io.TFRecordWriter(output_file)\n",
    "\n",
    "  for (ex_index, example) in enumerate(examples):\n",
    "    if ex_index % 10000 == 0:\n",
    "      tf.logging.info(\"Writing example %d of %d\" % (ex_index, len(examples)))\n",
    "\n",
    "    feature = convert_single_example(ex_index, example, label_list,\n",
    "                                     max_seq_length, tokenizer)\n",
    "\n",
    "    def create_int_feature(values):\n",
    "      f = tf.train.Feature(int64_list=tf.train.Int64List(value=list(values)))\n",
    "      return f\n",
    "\n",
    "    features = collections.OrderedDict()\n",
    "    features[\"input_ids\"] = create_int_feature(feature.input_ids)\n",
    "    features[\"input_mask\"] = create_int_feature(feature.input_mask)\n",
    "    features[\"segment_ids\"] = create_int_feature(feature.segment_ids)\n",
    "    features[\"label_ids\"] = create_int_feature(feature.label_id)\n",
    "    features[\"is_real_example\"] = create_int_feature(\n",
    "        [int(feature.is_real_example)])\n",
    "\n",
    "    tf_example = tf.train.Example(features=tf.train.Features(feature=features))\n",
    "    writer.write(tf_example.SerializeToString())\n",
    "  writer.close()"
   ]
  },
  {
   "cell_type": "code",
   "execution_count": 134,
   "metadata": {},
   "outputs": [],
   "source": [
    "def file_based_input_fn_builder(input_file, seq_length, label_list, is_training,\n",
    "                                drop_remainder):\n",
    "  \"\"\"Creates an `input_fn` closure to be passed to TPUEstimator.\"\"\"\n",
    "\n",
    "  name_to_features = {\n",
    "      \"input_ids\": tf.FixedLenFeature([seq_length], tf.int64),\n",
    "      \"input_mask\": tf.FixedLenFeature([seq_length], tf.int64),\n",
    "      \"segment_ids\": tf.FixedLenFeature([seq_length], tf.int64),\n",
    "      \"label_ids\": tf.FixedLenFeature([len(label_list)], tf.int64),\n",
    "      \"is_real_example\": tf.FixedLenFeature([], tf.int64),\n",
    "  }\n",
    "\n",
    "  def _decode_record(record, name_to_features):\n",
    "    \"\"\"Decodes a record to a TensorFlow example.\"\"\"\n",
    "    example = tf.parse_single_example(record, name_to_features)\n",
    "\n",
    "    # tf.Example only supports tf.int64, but the TPU only supports tf.int32.\n",
    "    # So cast all int64 to int32.\n",
    "    for name in list(example.keys()):\n",
    "      t = example[name]\n",
    "      if t.dtype == tf.int64:\n",
    "        t = tf.to_int32(t)\n",
    "      example[name] = t\n",
    "\n",
    "    return example\n",
    "\n",
    "  def input_fn(params):\n",
    "    \"\"\"The actual input function.\"\"\"\n",
    "    batch_size = params[\"batch_size\"]\n",
    "\n",
    "    # For training, we want a lot of parallel reading and shuffling.\n",
    "    # For eval, we want no shuffling and parallel reading doesn't matter.\n",
    "    d = tf.data.TFRecordDataset(input_file)\n",
    "    if is_training:\n",
    "      d = d.repeat()\n",
    "      d = d.shuffle(buffer_size=100)\n",
    "\n",
    "    d = d.apply(\n",
    "        tf.contrib.data.map_and_batch(\n",
    "            lambda record: _decode_record(record, name_to_features),\n",
    "            batch_size=batch_size,\n",
    "            drop_remainder=drop_remainder))\n",
    "\n",
    "    return d\n",
    "\n",
    "  return input_fn"
   ]
  },
  {
   "cell_type": "code",
   "execution_count": 135,
   "metadata": {},
   "outputs": [],
   "source": [
    "def create_model(bert_config, is_training, input_ids, input_mask, segment_ids,\n",
    "                 labels, num_labels, use_one_hot_embeddings):\n",
    "  \"\"\"Creates a classification model.\"\"\"\n",
    "  model = modeling.BertModel(\n",
    "      config=bert_config,\n",
    "      is_training=is_training,\n",
    "      input_ids=input_ids,\n",
    "      input_mask=input_mask,\n",
    "      token_type_ids=segment_ids,\n",
    "      use_one_hot_embeddings=use_one_hot_embeddings)\n",
    "\n",
    "  # In the demo, we are doing a simple classification task on the entire\n",
    "  # segment.\n",
    "  #\n",
    "  # If you want to use the token-level output, use model.get_sequence_output()\n",
    "  # instead.\n",
    "  output_layer = model.get_pooled_output()\n",
    "\n",
    "  hidden_size = output_layer.shape[-1].value\n",
    "\n",
    "  output_weights = tf.get_variable(\n",
    "      \"output_weights\", [num_labels, hidden_size],\n",
    "      initializer=tf.truncated_normal_initializer(stddev=0.02))\n",
    "\n",
    "  output_bias = tf.get_variable(\n",
    "      \"output_bias\", [num_labels], initializer=tf.zeros_initializer())\n",
    "\n",
    "  with tf.variable_scope(\"loss\"):\n",
    "    if is_training:\n",
    "      # I.e., 0.1 dropout\n",
    "      output_layer = tf.nn.dropout(output_layer, keep_prob=0.9)\n",
    "\n",
    "    logits = tf.matmul(output_layer, output_weights, transpose_b=True)\n",
    "    logits = tf.nn.bias_add(logits, output_bias)\n",
    "    probabilities = tf.exp(logits) #for multi-label classification\n",
    "#     probabilities = tf.nn.softmax(logits, axis=-1)\n",
    "#     log_probs = tf.nn.log_softmax(logits, axis=-1)\n",
    "\n",
    "#     one_hot_labels = tf.one_hot(labels, depth=num_labels, dtype=tf.float32)\n",
    "\n",
    "#     per_example_loss = -tf.reduce_sum(labels * log_probs, axis=-1)\n",
    "    per_example_loss = -tf.reduce_sum(labels * logits, axis=-1) #can also try reduce_mean here\n",
    "    loss = tf.reduce_mean(per_example_loss)\n",
    "\n",
    "    return (loss, per_example_loss, logits, probabilities)\n",
    "\n"
   ]
  },
  {
   "cell_type": "code",
   "execution_count": null,
   "metadata": {},
   "outputs": [],
   "source": [
    "def model_fn_builder(bert_config, num_labels, init_checkpoint, learning_rate,\n",
    "                     num_train_steps, num_warmup_steps, use_tpu,\n",
    "                     use_one_hot_embeddings):\n",
    "  \"\"\"Returns `model_fn` closure for TPUEstimator.\"\"\"\n",
    "\n",
    "  def model_fn(features, labels, mode, params):  # pylint: disable=unused-argument\n",
    "    \"\"\"The `model_fn` for TPUEstimator.\"\"\"\n",
    "\n",
    "    tf.logging.info(\"*** Features ***\")\n",
    "    for name in sorted(features.keys()):\n",
    "      tf.logging.info(\"  name = %s, shape = %s\" % (name, features[name].shape))\n",
    "\n",
    "    input_ids = features[\"input_ids\"]\n",
    "    input_mask = features[\"input_mask\"]\n",
    "    segment_ids = features[\"segment_ids\"]\n",
    "    label_ids = features[\"label_ids\"]\n",
    "    is_real_example = None\n",
    "    if \"is_real_example\" in features:\n",
    "      is_real_example = tf.cast(features[\"is_real_example\"], dtype=tf.float32)\n",
    "    else:\n",
    "      is_real_example = tf.ones(tf.shape(label_ids), dtype=tf.float32)\n",
    "\n",
    "    is_training = (mode == tf.estimator.ModeKeys.TRAIN)\n",
    "\n",
    "    (total_loss, per_example_loss, logits, probabilities) = create_model(\n",
    "        bert_config, is_training, input_ids, input_mask, segment_ids, label_ids,\n",
    "        num_labels, use_one_hot_embeddings)\n",
    "\n",
    "    tvars = tf.trainable_variables()\n",
    "    initialized_variable_names = {}\n",
    "    scaffold_fn = None\n",
    "    if init_checkpoint:\n",
    "      (assignment_map, initialized_variable_names\n",
    "      ) = modeling.get_assignment_map_from_checkpoint(tvars, init_checkpoint)\n",
    "      if use_tpu:\n",
    "\n",
    "        def tpu_scaffold():\n",
    "          tf.train.init_from_checkpoint(init_checkpoint, assignment_map)\n",
    "          return tf.train.Scaffold()\n",
    "\n",
    "        scaffold_fn = tpu_scaffold\n",
    "      else:\n",
    "        tf.train.init_from_checkpoint(init_checkpoint, assignment_map)\n",
    "\n",
    "    tf.logging.info(\"**** Trainable Variables ****\")\n",
    "    for var in tvars:\n",
    "      init_string = \"\"\n",
    "      if var.name in initialized_variable_names:\n",
    "        init_string = \", *INIT_FROM_CKPT*\"\n",
    "      tf.logging.info(\"  name = %s, shape = %s%s\", var.name, var.shape,\n",
    "                      init_string)\n",
    "\n",
    "    output_spec = None\n",
    "    if mode == tf.estimator.ModeKeys.TRAIN:\n",
    "\n",
    "      train_op = optimization.create_optimizer(\n",
    "          total_loss, learning_rate, num_train_steps, num_warmup_steps, use_tpu)\n",
    "\n",
    "      output_spec = tf.contrib.tpu.TPUEstimatorSpec(\n",
    "          mode=mode,\n",
    "          loss=total_loss,\n",
    "          train_op=train_op,\n",
    "          scaffold_fn=scaffold_fn)\n",
    "    elif mode == tf.estimator.ModeKeys.EVAL:\n",
    "\n",
    "      def metric_fn(per_example_loss, label_ids, logits, is_real_example):\n",
    "        predictions = tf.argmax(logits, axis=-1, output_type=tf.int32)\n",
    "        accuracy = tf.metrics.accuracy(\n",
    "            labels=label_ids, predictions=predictions, weights=is_real_example)\n",
    "        loss = tf.metrics.mean(values=per_example_loss, weights=is_real_example)\n",
    "        return {\n",
    "            \"eval_accuracy\": accuracy,\n",
    "            \"eval_loss\": loss,\n",
    "        }\n",
    "\n",
    "      eval_metrics = (metric_fn,\n",
    "                      [per_example_loss, label_ids, logits, is_real_example])\n",
    "      output_spec = tf.contrib.tpu.TPUEstimatorSpec(\n",
    "          mode=mode,\n",
    "          loss=total_loss,\n",
    "          eval_metrics=eval_metrics,\n",
    "          scaffold_fn=scaffold_fn)\n",
    "    else:\n",
    "      output_spec = tf.contrib.tpu.TPUEstimatorSpec(\n",
    "          mode=mode,\n",
    "          predictions={\"probabilities\": probabilities},\n",
    "          scaffold_fn=scaffold_fn)\n",
    "    return output_spec\n",
    "\n",
    "  return model_fn"
   ]
  },
  {
   "cell_type": "code",
   "execution_count": null,
   "metadata": {},
   "outputs": [],
   "source": []
  }
 ],
 "metadata": {
  "interpreter": {
   "hash": "3c20aabbdf1c0744689a78eeb442f6f67404174c325396e0eaa17f09b85f3c1a"
  },
  "kernelspec": {
   "display_name": "Python 3 (ipykernel)",
   "language": "python",
   "name": "python3"
  },
  "language_info": {
   "codemirror_mode": {
    "name": "ipython",
    "version": 3
   },
   "file_extension": ".py",
   "mimetype": "text/x-python",
   "name": "python",
   "nbconvert_exporter": "python",
   "pygments_lexer": "ipython3",
   "version": "3.7.11"
  }
 },
 "nbformat": 4,
 "nbformat_minor": 2
}
