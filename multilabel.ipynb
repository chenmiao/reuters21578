{
  "nbformat": 4,
  "nbformat_minor": 0,
  "metadata": {
    "colab": {
      "name": "multilabel.ipynb",
      "provenance": [],
      "collapsed_sections": []
    },
    "kernelspec": {
      "name": "python3",
      "display_name": "Python 3"
    },
    "language_info": {
      "name": "python"
    },
    "accelerator": "GPU"
  },
  "cells": [
    {
      "cell_type": "code",
      "execution_count": 1,
      "metadata": {
        "colab": {
          "base_uri": "https://localhost:8080/"
        },
        "id": "WHOoB2_t3ZT-",
        "outputId": "8e4040db-8e19-404c-966e-d846a85c882b"
      },
      "outputs": [
        {
          "output_type": "stream",
          "name": "stdout",
          "text": [
            "Found GPU at: /device:GPU:0\n"
          ]
        }
      ],
      "source": [
        "# %tensorflow_version 2.x\n",
        "# import tensorflow as tf\n",
        "# device_name = tf.test.gpu_device_name()\n",
        "# if device_name != '/device:GPU:0':\n",
        "#   raise SystemError('GPU device not found')\n",
        "# print('Found GPU at: {}'.format(device_name))"
      ]
    },
    {
      "cell_type": "code",
      "source": [
        "%tensorflow_version 1.x"
      ],
      "metadata": {
        "id": "yPXxaut56OxM"
      },
      "execution_count": 13,
      "outputs": []
    },
    {
      "cell_type": "code",
      "source": [
        "import tensorflow as tf\n",
        "print(tf.__version__)"
      ],
      "metadata": {
        "colab": {
          "base_uri": "https://localhost:8080/"
        },
        "id": "TMvPMuoc6hhz",
        "outputId": "f39ebbaf-bf2a-4df1-91d4-9947a8f28202"
      },
      "execution_count": 14,
      "outputs": [
        {
          "output_type": "stream",
          "name": "stdout",
          "text": [
            "1.15.2\n"
          ]
        }
      ]
    },
    {
      "cell_type": "code",
      "source": [
        "device_name = tf.test.gpu_device_name()\n",
        "if device_name != '/device:GPU:0':\n",
        "  raise SystemError('GPU device not found')\n",
        "print('Found GPU at: {}'.format(device_name))"
      ],
      "metadata": {
        "colab": {
          "base_uri": "https://localhost:8080/",
          "height": 217
        },
        "id": "P9bqiRh74_yF",
        "outputId": "a5a80676-f242-4236-9fbd-cb81cd01e6ad"
      },
      "execution_count": 4,
      "outputs": [
        {
          "output_type": "error",
          "ename": "SystemError",
          "evalue": "ignored",
          "traceback": [
            "\u001b[0;31m---------------------------------------------------------------------------\u001b[0m",
            "\u001b[0;31mSystemError\u001b[0m                               Traceback (most recent call last)",
            "\u001b[0;32m<ipython-input-4-ce08ddae0a7d>\u001b[0m in \u001b[0;36m<module>\u001b[0;34m()\u001b[0m\n\u001b[1;32m      1\u001b[0m \u001b[0mdevice_name\u001b[0m \u001b[0;34m=\u001b[0m \u001b[0mtf\u001b[0m\u001b[0;34m.\u001b[0m\u001b[0mtest\u001b[0m\u001b[0;34m.\u001b[0m\u001b[0mgpu_device_name\u001b[0m\u001b[0;34m(\u001b[0m\u001b[0;34m)\u001b[0m\u001b[0;34m\u001b[0m\u001b[0;34m\u001b[0m\u001b[0m\n\u001b[1;32m      2\u001b[0m \u001b[0;32mif\u001b[0m \u001b[0mdevice_name\u001b[0m \u001b[0;34m!=\u001b[0m \u001b[0;34m'/device:GPU:0'\u001b[0m\u001b[0;34m:\u001b[0m\u001b[0;34m\u001b[0m\u001b[0;34m\u001b[0m\u001b[0m\n\u001b[0;32m----> 3\u001b[0;31m   \u001b[0;32mraise\u001b[0m \u001b[0mSystemError\u001b[0m\u001b[0;34m(\u001b[0m\u001b[0;34m'GPU device not found'\u001b[0m\u001b[0;34m)\u001b[0m\u001b[0;34m\u001b[0m\u001b[0;34m\u001b[0m\u001b[0m\n\u001b[0m\u001b[1;32m      4\u001b[0m \u001b[0mprint\u001b[0m\u001b[0;34m(\u001b[0m\u001b[0;34m'Found GPU at: {}'\u001b[0m\u001b[0;34m.\u001b[0m\u001b[0mformat\u001b[0m\u001b[0;34m(\u001b[0m\u001b[0mdevice_name\u001b[0m\u001b[0;34m)\u001b[0m\u001b[0;34m)\u001b[0m\u001b[0;34m\u001b[0m\u001b[0;34m\u001b[0m\u001b[0m\n",
            "\u001b[0;31mSystemError\u001b[0m: GPU device not found"
          ]
        }
      ]
    },
    {
      "cell_type": "code",
      "source": [
        "!pip install sklearn"
      ],
      "metadata": {
        "colab": {
          "base_uri": "https://localhost:8080/"
        },
        "id": "E01IFV0u6kkn",
        "outputId": "661a48d1-6930-4c13-b70a-a9e38424cccf"
      },
      "execution_count": 3,
      "outputs": [
        {
          "output_type": "stream",
          "name": "stdout",
          "text": [
            "Requirement already satisfied: sklearn in /usr/local/lib/python3.7/dist-packages (0.0)\n",
            "Requirement already satisfied: scikit-learn in /usr/local/lib/python3.7/dist-packages (from sklearn) (1.0.2)\n",
            "Requirement already satisfied: numpy>=1.14.6 in /usr/local/lib/python3.7/dist-packages (from scikit-learn->sklearn) (1.21.5)\n",
            "Requirement already satisfied: threadpoolctl>=2.0.0 in /usr/local/lib/python3.7/dist-packages (from scikit-learn->sklearn) (3.1.0)\n",
            "Requirement already satisfied: scipy>=1.1.0 in /usr/local/lib/python3.7/dist-packages (from scikit-learn->sklearn) (1.4.1)\n",
            "Requirement already satisfied: joblib>=0.11 in /usr/local/lib/python3.7/dist-packages (from scikit-learn->sklearn) (1.1.0)\n"
          ]
        }
      ]
    },
    {
      "cell_type": "code",
      "source": [
        "!pip install numpy==1.19.5"
      ],
      "metadata": {
        "colab": {
          "base_uri": "https://localhost:8080/"
        },
        "id": "BciMmUfcfflg",
        "outputId": "d3e41f7b-a9d1-486c-a68d-6b687e4cebad"
      },
      "execution_count": 15,
      "outputs": [
        {
          "output_type": "stream",
          "name": "stdout",
          "text": [
            "Requirement already satisfied: numpy==1.19.5 in /usr/local/lib/python3.7/dist-packages (1.19.5)\n"
          ]
        }
      ]
    },
    {
      "cell_type": "code",
      "source": [
        "from __future__ import absolute_import\n",
        "from __future__ import division\n",
        "from __future__ import print_function\n",
        "\n",
        "import collections\n",
        "import csv\n",
        "import os\n",
        "import sys\n",
        "import tensorflow as tf\n",
        "import glob\n",
        "from glob import glob\n",
        "import re\n",
        "\n",
        "from sklearn.model_selection import train_test_split\n",
        "from sklearn.metrics import multilabel_confusion_matrix, hamming_loss, accuracy_score \n",
        "from collections import defaultdict\n",
        "\n",
        "import six\n",
        "sys.modules['sklearn.externals.six'] = six\n",
        "from six.moves import html_parser\n",
        "from six.moves import urllib"
      ],
      "metadata": {
        "id": "oo5tCTgA9Koc"
      },
      "execution_count": 26,
      "outputs": []
    },
    {
      "cell_type": "code",
      "source": [
        "from google.colab import drive\n",
        "drive.mount('/content/gdrive')"
      ],
      "metadata": {
        "colab": {
          "base_uri": "https://localhost:8080/"
        },
        "id": "1teTDF7O-YZ8",
        "outputId": "b87ce5a3-1c23-4162-d887-9ee87ef045f7"
      },
      "execution_count": 17,
      "outputs": [
        {
          "output_type": "stream",
          "name": "stdout",
          "text": [
            "Drive already mounted at /content/gdrive; to attempt to forcibly remount, call drive.mount(\"/content/gdrive\", force_remount=True).\n"
          ]
        }
      ]
    },
    {
      "cell_type": "code",
      "source": [
        "bert_path = 'gdrive/My Drive/Colab Notebooks/bert'"
      ],
      "metadata": {
        "id": "nujZsf7H-5-L"
      },
      "execution_count": 18,
      "outputs": []
    },
    {
      "cell_type": "code",
      "source": [
        "sys.path.append(bert_path)"
      ],
      "metadata": {
        "id": "NnwrXM_d8bTz"
      },
      "execution_count": 19,
      "outputs": []
    },
    {
      "cell_type": "code",
      "source": [
        "flags = tf.flags\n",
        "\n",
        "FLAGS = flags.FLAGS\n",
        "\n",
        "## Required parameters\n",
        "flags.DEFINE_string(\n",
        "    \"reuters_data_dir\", None,\n",
        "    \"The Reuters input data dir \"\n",
        "    \"for the task.\")\n",
        "\n",
        "flags.DEFINE_integer(\n",
        "    \"threshold\", 100,\n",
        "    \"threshold of minimum number of samples for a reuters class\"\n",
        ")"
      ],
      "metadata": {
        "colab": {
          "base_uri": "https://localhost:8080/",
          "height": 398
        },
        "id": "JalJy8IaSGz9",
        "outputId": "7c1e96c4-fc7f-4e2a-81c4-d9515418e83a"
      },
      "execution_count": 20,
      "outputs": [
        {
          "output_type": "error",
          "ename": "DuplicateFlagError",
          "evalue": "ignored",
          "traceback": [
            "\u001b[0;31m---------------------------------------------------------------------------\u001b[0m",
            "\u001b[0;31mDuplicateFlagError\u001b[0m                        Traceback (most recent call last)",
            "\u001b[0;32m<ipython-input-20-8a21134a53ce>\u001b[0m in \u001b[0;36m<module>\u001b[0;34m()\u001b[0m\n\u001b[1;32m      6\u001b[0m flags.DEFINE_string(\n\u001b[1;32m      7\u001b[0m     \u001b[0;34m\"reuters_data_dir\"\u001b[0m\u001b[0;34m,\u001b[0m \u001b[0;32mNone\u001b[0m\u001b[0;34m,\u001b[0m\u001b[0;34m\u001b[0m\u001b[0;34m\u001b[0m\u001b[0m\n\u001b[0;32m----> 8\u001b[0;31m     \u001b[0;34m\"The Reuters input data dir \"\u001b[0m\u001b[0;34m\u001b[0m\u001b[0;34m\u001b[0m\u001b[0m\n\u001b[0m\u001b[1;32m      9\u001b[0m     \"for the task.\")\n\u001b[1;32m     10\u001b[0m \u001b[0;34m\u001b[0m\u001b[0m\n",
            "\u001b[0;32m/tensorflow-1.15.2/python3.7/tensorflow_core/python/platform/flags.py\u001b[0m in \u001b[0;36mwrapper\u001b[0;34m(*args, **kwargs)\u001b[0m\n\u001b[1;32m     56\u001b[0m           \u001b[0;34m'Use of the keyword argument names (flag_name, default_value, '\u001b[0m\u001b[0;34m\u001b[0m\u001b[0;34m\u001b[0m\u001b[0m\n\u001b[1;32m     57\u001b[0m           'docstring) is deprecated, please use (name, default, help) instead.')\n\u001b[0;32m---> 58\u001b[0;31m     \u001b[0;32mreturn\u001b[0m \u001b[0moriginal_function\u001b[0m\u001b[0;34m(\u001b[0m\u001b[0;34m*\u001b[0m\u001b[0margs\u001b[0m\u001b[0;34m,\u001b[0m \u001b[0;34m**\u001b[0m\u001b[0mkwargs\u001b[0m\u001b[0;34m)\u001b[0m\u001b[0;34m\u001b[0m\u001b[0;34m\u001b[0m\u001b[0m\n\u001b[0m\u001b[1;32m     59\u001b[0m \u001b[0;34m\u001b[0m\u001b[0m\n\u001b[1;32m     60\u001b[0m   \u001b[0;32mreturn\u001b[0m \u001b[0mtf_decorator\u001b[0m\u001b[0;34m.\u001b[0m\u001b[0mmake_decorator\u001b[0m\u001b[0;34m(\u001b[0m\u001b[0moriginal_function\u001b[0m\u001b[0;34m,\u001b[0m \u001b[0mwrapper\u001b[0m\u001b[0;34m)\u001b[0m\u001b[0;34m\u001b[0m\u001b[0;34m\u001b[0m\u001b[0m\n",
            "\u001b[0;32m/usr/local/lib/python3.7/dist-packages/absl/flags/_defines.py\u001b[0m in \u001b[0;36mDEFINE_string\u001b[0;34m(name, default, help, flag_values, required, **args)\u001b[0m\n\u001b[1;32m    292\u001b[0m       \u001b[0mserializer\u001b[0m\u001b[0;34m,\u001b[0m\u001b[0;34m\u001b[0m\u001b[0;34m\u001b[0m\u001b[0m\n\u001b[1;32m    293\u001b[0m       \u001b[0mrequired\u001b[0m\u001b[0;34m=\u001b[0m\u001b[0mrequired\u001b[0m\u001b[0;34m,\u001b[0m\u001b[0;34m\u001b[0m\u001b[0;34m\u001b[0m\u001b[0m\n\u001b[0;32m--> 294\u001b[0;31m       **args)\n\u001b[0m\u001b[1;32m    295\u001b[0m \u001b[0;34m\u001b[0m\u001b[0m\n\u001b[1;32m    296\u001b[0m \u001b[0;34m\u001b[0m\u001b[0m\n",
            "\u001b[0;32m/usr/local/lib/python3.7/dist-packages/absl/flags/_defines.py\u001b[0m in \u001b[0;36mDEFINE\u001b[0;34m(parser, name, default, help, flag_values, serializer, module_name, required, **args)\u001b[0m\n\u001b[1;32m    104\u001b[0m   return DEFINE_flag(\n\u001b[1;32m    105\u001b[0m       \u001b[0m_flag\u001b[0m\u001b[0;34m.\u001b[0m\u001b[0mFlag\u001b[0m\u001b[0;34m(\u001b[0m\u001b[0mparser\u001b[0m\u001b[0;34m,\u001b[0m \u001b[0mserializer\u001b[0m\u001b[0;34m,\u001b[0m \u001b[0mname\u001b[0m\u001b[0;34m,\u001b[0m \u001b[0mdefault\u001b[0m\u001b[0;34m,\u001b[0m \u001b[0mhelp\u001b[0m\u001b[0;34m,\u001b[0m \u001b[0;34m**\u001b[0m\u001b[0margs\u001b[0m\u001b[0;34m)\u001b[0m\u001b[0;34m,\u001b[0m \u001b[0mflag_values\u001b[0m\u001b[0;34m,\u001b[0m\u001b[0;34m\u001b[0m\u001b[0;34m\u001b[0m\u001b[0m\n\u001b[0;32m--> 106\u001b[0;31m       module_name, required)\n\u001b[0m\u001b[1;32m    107\u001b[0m \u001b[0;34m\u001b[0m\u001b[0m\n\u001b[1;32m    108\u001b[0m \u001b[0;34m\u001b[0m\u001b[0m\n",
            "\u001b[0;32m/usr/local/lib/python3.7/dist-packages/absl/flags/_defines.py\u001b[0m in \u001b[0;36mDEFINE_flag\u001b[0;34m(flag, flag_values, module_name, required)\u001b[0m\n\u001b[1;32m    138\u001b[0m   \u001b[0;31m# Copying the reference to flag_values prevents pychecker warnings.\u001b[0m\u001b[0;34m\u001b[0m\u001b[0;34m\u001b[0m\u001b[0;34m\u001b[0m\u001b[0m\n\u001b[1;32m    139\u001b[0m   \u001b[0mfv\u001b[0m \u001b[0;34m=\u001b[0m \u001b[0mflag_values\u001b[0m\u001b[0;34m\u001b[0m\u001b[0;34m\u001b[0m\u001b[0m\n\u001b[0;32m--> 140\u001b[0;31m   \u001b[0mfv\u001b[0m\u001b[0;34m[\u001b[0m\u001b[0mflag\u001b[0m\u001b[0;34m.\u001b[0m\u001b[0mname\u001b[0m\u001b[0;34m]\u001b[0m \u001b[0;34m=\u001b[0m \u001b[0mflag\u001b[0m\u001b[0;34m\u001b[0m\u001b[0;34m\u001b[0m\u001b[0m\n\u001b[0m\u001b[1;32m    141\u001b[0m   \u001b[0;31m# Tell flag_values who's defining the flag.\u001b[0m\u001b[0;34m\u001b[0m\u001b[0;34m\u001b[0m\u001b[0;34m\u001b[0m\u001b[0m\n\u001b[1;32m    142\u001b[0m   \u001b[0;32mif\u001b[0m \u001b[0mmodule_name\u001b[0m\u001b[0;34m:\u001b[0m\u001b[0;34m\u001b[0m\u001b[0;34m\u001b[0m\u001b[0m\n",
            "\u001b[0;32m/usr/local/lib/python3.7/dist-packages/absl/flags/_flagvalues.py\u001b[0m in \u001b[0;36m__setitem__\u001b[0;34m(self, name, flag)\u001b[0m\n\u001b[1;32m    437\u001b[0m         \u001b[0;31m# module is simply being imported a subsequent time.\u001b[0m\u001b[0;34m\u001b[0m\u001b[0;34m\u001b[0m\u001b[0;34m\u001b[0m\u001b[0m\n\u001b[1;32m    438\u001b[0m         \u001b[0;32mreturn\u001b[0m\u001b[0;34m\u001b[0m\u001b[0;34m\u001b[0m\u001b[0m\n\u001b[0;32m--> 439\u001b[0;31m       \u001b[0;32mraise\u001b[0m \u001b[0m_exceptions\u001b[0m\u001b[0;34m.\u001b[0m\u001b[0mDuplicateFlagError\u001b[0m\u001b[0;34m.\u001b[0m\u001b[0mfrom_flag\u001b[0m\u001b[0;34m(\u001b[0m\u001b[0mname\u001b[0m\u001b[0;34m,\u001b[0m \u001b[0mself\u001b[0m\u001b[0;34m)\u001b[0m\u001b[0;34m\u001b[0m\u001b[0;34m\u001b[0m\u001b[0m\n\u001b[0m\u001b[1;32m    440\u001b[0m     \u001b[0mshort_name\u001b[0m \u001b[0;34m=\u001b[0m \u001b[0mflag\u001b[0m\u001b[0;34m.\u001b[0m\u001b[0mshort_name\u001b[0m\u001b[0;34m\u001b[0m\u001b[0;34m\u001b[0m\u001b[0m\n\u001b[1;32m    441\u001b[0m     \u001b[0;31m# If a new flag overrides an old one, we need to cleanup the old flag's\u001b[0m\u001b[0;34m\u001b[0m\u001b[0;34m\u001b[0m\u001b[0;34m\u001b[0m\u001b[0m\n",
            "\u001b[0;31mDuplicateFlagError\u001b[0m: The flag 'reuters_data_dir' is defined twice. First from /usr/local/lib/python3.7/dist-packages/ipykernel_launcher.py, Second from /usr/local/lib/python3.7/dist-packages/ipykernel_launcher.py.  Description from first occurrence: The Reuters input data dir for the task."
          ]
        }
      ]
    },
    {
      "cell_type": "code",
      "source": [
        "import modeling\n",
        "import optimization\n",
        "import tokenization\n",
        "from run_classifier import DataProcessor, InputExample, PaddingInputExample, InputFeatures"
      ],
      "metadata": {
        "id": "Vc-AgMFt9Oif"
      },
      "execution_count": 21,
      "outputs": []
    },
    {
      "cell_type": "code",
      "source": [
        "# !python \"/content/gdrive/My Drive/Colab Notebooks/run_multilabel_classifier.py\" \\\n",
        "# --reuters_data_dir=C:\\Users\\vivin\\Documents\\Projects\\fidelity\\reuters21578 \\\n",
        "# --task_name=reuters \\\n",
        "# --vocab_file=C:\\Users\\vivin\\Documents\\Projects\\fidelity\\models\\uncased_L-12_H-768_A-12\\uncased_L-12_H-768_A-12\\vocab.txt \\\n",
        "# --bert_config_file=C:\\Users\\vivin\\Documents\\Projects\\fidelity\\models\\uncased_L-12_H-768_A-12\\uncased_L-12_H-768_A-12\\bert_config.json \\\n",
        "# --output_dir=C:\\Users\\vivin\\Documents\\Projects\\fidelity\\models\\model_20220317 \\\n",
        "# --do_train=True \\\n",
        "# --do_eval=True \\\n",
        "# --do_predict=False"
      ],
      "metadata": {
        "colab": {
          "base_uri": "https://localhost:8080/"
        },
        "id": "JdD7hbwO9S4p",
        "outputId": "f780dcd3-9d57-4413-a067-ddb97634501c"
      },
      "execution_count": 12,
      "outputs": [
        {
          "output_type": "stream",
          "name": "stdout",
          "text": [
            "Traceback (most recent call last):\n",
            "  File \"/content/gdrive/My Drive/Colab Notebooks/run_multilabel_classifier.py\", line 25, in <module>\n",
            "    import modeling\n",
            "ModuleNotFoundError: No module named 'modeling'\n"
          ]
        }
      ]
    },
    {
      "cell_type": "code",
      "source": [
        "class ReutersParser(html_parser.HTMLParser):\n",
        "    \"\"\"Utility class to parse a SGML file and yield documents one at a time.\"\"\"\n",
        "\n",
        "    def __init__(self, encoding='latin-1'):\n",
        "        html_parser.HTMLParser.__init__(self)\n",
        "        self._reset()\n",
        "        self.encoding = encoding\n",
        "\n",
        "    def handle_starttag(self, tag, attrs):\n",
        "        method = 'start_' + tag\n",
        "        getattr(self, method, lambda x: None)(attrs)\n",
        "\n",
        "    def handle_endtag(self, tag):\n",
        "        method = 'end_' + tag\n",
        "        getattr(self, method, lambda: None)()\n",
        "\n",
        "    def _reset(self):\n",
        "        self.in_title = 0\n",
        "        self.in_body = 0\n",
        "        self.in_topics = 0\n",
        "        self.in_topic_d = 0\n",
        "        self.title = \"\"\n",
        "        self.body = \"\"\n",
        "        self.topics = []\n",
        "        self.topic_d = \"\"\n",
        "\n",
        "    def parse(self, fd):\n",
        "        self.docs = []\n",
        "        for chunk in fd:\n",
        "            self.feed(chunk.decode(self.encoding))\n",
        "            for doc in self.docs:\n",
        "                yield doc\n",
        "            self.docs = []\n",
        "        self.close()\n",
        "\n",
        "    def handle_data(self, data):\n",
        "        if self.in_body:\n",
        "            self.body += data\n",
        "        elif self.in_title:\n",
        "            self.title += data\n",
        "        elif self.in_topic_d:\n",
        "            self.topic_d += data\n",
        "\n",
        "    def start_reuters(self, attributes):\n",
        "        pass\n",
        "\n",
        "    def end_reuters(self):\n",
        "        self.body = re.sub(r'\\s+', r' ', self.body)\n",
        "        self.docs.append({'title': self.title,\n",
        "                          'body': self.body,\n",
        "                          'topics': self.topics})\n",
        "        self._reset()\n",
        "\n",
        "    def start_title(self, attributes):\n",
        "        self.in_title = 1\n",
        "\n",
        "    def end_title(self):\n",
        "        self.in_title = 0\n",
        "\n",
        "    def start_body(self, attributes):\n",
        "        self.in_body = 1\n",
        "\n",
        "    def end_body(self):\n",
        "        self.in_body = 0\n",
        "\n",
        "    def start_topics(self, attributes):\n",
        "        self.in_topics = 1\n",
        "\n",
        "    def end_topics(self):\n",
        "        self.in_topics = 0\n",
        "\n",
        "    def start_d(self, attributes):\n",
        "        self.in_topic_d = 1\n",
        "\n",
        "    def end_d(self):\n",
        "        self.in_topic_d = 0\n",
        "        self.topics.append(self.topic_d)\n",
        "        self.topic_d = \"\"\n",
        "\n",
        "\n",
        "def get_reuters_documents(data_path=None):\n",
        "    \"\"\"Iterate over documents of the Reuters dataset.\n",
        "\n",
        "    The Reuters archive will automatically be downloaded and uncompressed if\n",
        "    the `data_path` directory does not exist.\n",
        "\n",
        "    Documents are represented as dictionaries with 'body' (str),\n",
        "    'title' (str), 'topics' (list(str)) keys.\n",
        "\n",
        "    \"\"\"\n",
        "    docs = []\n",
        "    parser = ReutersParser()\n",
        "    for filename in glob(os.path.join(data_path, \"*.sgm\")):\n",
        "        docs.extend(parser.parse(open(filename, 'rb')))\n",
        "    return docs\n",
        "\n",
        "def count_labels (y):\n",
        "    label_freq = defaultdict(int)\n",
        "    for labels in y:\n",
        "        for l in labels:\n",
        "            label_freq[l]+=1\n",
        "    return label_freq\n",
        "\n",
        "def clean (texts, labels, labels_small):\n",
        "    #replace labels in labels_small to \"others\"\n",
        "    texts_cleaned = []\n",
        "    labels_cleaned = []\n",
        "    for text, labels in zip(texts, labels):\n",
        "        l_cleaned = []\n",
        "        for label in labels:\n",
        "            if label not in labels_small:\n",
        "                l_cleaned.append(label)\n",
        "            else:\n",
        "                l_cleaned.append(\"other\")\n",
        "        if l_cleaned:\n",
        "            texts_cleaned.append(text)\n",
        "            labels_cleaned.append(l_cleaned)\n",
        "    return texts_cleaned, labels_cleaned\n",
        "\n",
        "\n",
        "class ReuterProcessor(DataProcessor):\n",
        "  \"\"\"Processor for the Reuters data set.\"\"\"\n",
        "\n",
        "  def get_train_examples(self, texts, labels):\n",
        "    \"\"\"See base class.\"\"\"\n",
        "    return self._create_examples(texts, labels, \"train\")\n",
        "\n",
        "  def get_dev_examples(self, texts, labels):\n",
        "    \"\"\"See base class.\"\"\"\n",
        "    return self._create_examples(texts, labels, \"dev\")\n",
        "\n",
        "  def get_test_examples(self, texts, labels):\n",
        "    \"\"\"See base class.\"\"\"\n",
        "    return self._create_examples(texts, labels, \"test\")\n",
        "\n",
        "  def get_labels(self, labels_tokeep):\n",
        "    \"\"\"See base class.\"\"\"\n",
        "    return [\"other\"] + labels_tokeep\n",
        "\n",
        "  def _create_examples(self, texts, labels, set_type):\n",
        "    \"\"\"Creates examples for the training and dev sets.\"\"\"\n",
        "    examples = []\n",
        "    for i, (text, label) in enumerate(zip(texts, labels)):\n",
        "      # Only the test set has a header\n",
        "      guid = \"%s-%s\" % (set_type, i)\n",
        "      if set_type == \"test\":\n",
        "        text_a = tokenization.convert_to_unicode(text)\n",
        "        label = [\"other\"]\n",
        "      else:\n",
        "        text_a = tokenization.convert_to_unicode(text)\n",
        "        label = [tokenization.convert_to_unicode(l) for l in label]\n",
        "      examples.append(\n",
        "          InputExample(guid=guid, text_a=text_a, text_b=None, label=label))\n",
        "    return examples\n",
        "\n",
        "def create_model(bert_config, is_training, input_ids, input_mask, segment_ids,\n",
        "                 labels, num_labels, use_one_hot_embeddings):\n",
        "  \"\"\"Creates a classification model.\"\"\"\n",
        "  model = modeling.BertModel(\n",
        "      config=bert_config,\n",
        "      is_training=is_training,\n",
        "      input_ids=input_ids,\n",
        "      input_mask=input_mask,\n",
        "      token_type_ids=segment_ids,\n",
        "      use_one_hot_embeddings=use_one_hot_embeddings)\n",
        "\n",
        "  # In the demo, we are doing a simple classification task on the entire\n",
        "  # segment.\n",
        "  #\n",
        "  # If you want to use the token-level output, use model.get_sequence_output()\n",
        "  # instead.\n",
        "  output_layer = model.get_pooled_output()\n",
        "\n",
        "  hidden_size = output_layer.shape[-1].value\n",
        "\n",
        "  output_weights = tf.get_variable(\n",
        "      \"output_weights\", [num_labels, hidden_size],\n",
        "      initializer=tf.truncated_normal_initializer(stddev=0.02))\n",
        "\n",
        "  output_bias = tf.get_variable(\n",
        "      \"output_bias\", [num_labels], initializer=tf.zeros_initializer())\n",
        "\n",
        "  with tf.variable_scope(\"loss\"):\n",
        "    if is_training:\n",
        "      # I.e., 0.1 dropout\n",
        "      output_layer = tf.nn.dropout(output_layer, keep_prob=0.9)\n",
        "\n",
        "    logits = tf.matmul(output_layer, output_weights, transpose_b=True)\n",
        "    logits = tf.nn.bias_add(logits, output_bias)\n",
        "    probabilities = tf.math.sigmoid(logits) #for multi-label classification\n",
        "#     probabilities = tf.nn.softmax(logits, axis=-1)\n",
        "#     log_probs = tf.nn.log_softmax(logits, axis=-1)\n",
        "\n",
        "#     one_hot_labels = tf.one_hot(labels, depth=num_labels, dtype=tf.float32)\n",
        "\n",
        "#     per_example_loss = -tf.reduce_sum(labels * log_probs, axis=-1)\n",
        "    per_example_loss = -tf.reduce_sum(tf.cast(labels, dtype=tf.float32) * tf.math.log_sigmoid(logits), axis=-1) #can also try reduce_mean here\n",
        "    # per_example_loss = tf.reduce_sum(tf.nn.sigmoid_cross_entropy_with_logits(labels=labels, logits=logits), axis=-1)\n",
        "    loss = tf.reduce_mean(per_example_loss)\n",
        "\n",
        "    return (loss, per_example_loss, logits, probabilities)\n",
        "\n",
        "\n",
        "def model_fn_builder(bert_config, num_labels, init_checkpoint, learning_rate,\n",
        "                     num_train_steps, num_warmup_steps, use_tpu,\n",
        "                     use_one_hot_embeddings):\n",
        "  \"\"\"Returns `model_fn` closure for TPUEstimator.\"\"\"\n",
        "\n",
        "  def model_fn(features, labels, mode, params):  # pylint: disable=unused-argument\n",
        "    \"\"\"The `model_fn` for TPUEstimator.\"\"\"\n",
        "\n",
        "    tf.logging.info(\"*** Features ***\")\n",
        "    for name in sorted(features.keys()):\n",
        "      tf.logging.info(\"  name = %s, shape = %s\" % (name, features[name].shape))\n",
        "\n",
        "    input_ids = features[\"input_ids\"]\n",
        "    input_mask = features[\"input_mask\"]\n",
        "    segment_ids = features[\"segment_ids\"]\n",
        "    label_ids = features[\"label_ids\"]\n",
        "    is_real_example = None\n",
        "    if \"is_real_example\" in features:\n",
        "      is_real_example = tf.cast(features[\"is_real_example\"], dtype=tf.float32)\n",
        "    else:\n",
        "      is_real_example = tf.ones(tf.shape(label_ids), dtype=tf.float32)\n",
        "\n",
        "    is_training = (mode == tf.estimator.ModeKeys.TRAIN)\n",
        "\n",
        "    (total_loss, per_example_loss, logits, probabilities) = create_model(\n",
        "        bert_config, is_training, input_ids, input_mask, segment_ids, label_ids,\n",
        "        num_labels, use_one_hot_embeddings)\n",
        "\n",
        "    tvars = tf.trainable_variables()\n",
        "    initialized_variable_names = {}\n",
        "    scaffold_fn = None\n",
        "    if init_checkpoint:\n",
        "      (assignment_map, initialized_variable_names\n",
        "      ) = modeling.get_assignment_map_from_checkpoint(tvars, init_checkpoint)\n",
        "      if use_tpu:\n",
        "\n",
        "        def tpu_scaffold():\n",
        "          tf.train.init_from_checkpoint(init_checkpoint, assignment_map)\n",
        "          return tf.train.Scaffold()\n",
        "\n",
        "        scaffold_fn = tpu_scaffold\n",
        "      else:\n",
        "        tf.train.init_from_checkpoint(init_checkpoint, assignment_map)\n",
        "\n",
        "    tf.logging.info(\"**** Trainable Variables ****\")\n",
        "    for var in tvars:\n",
        "      init_string = \"\"\n",
        "      if var.name in initialized_variable_names:\n",
        "        init_string = \", *INIT_FROM_CKPT*\"\n",
        "      tf.logging.info(\"  name = %s, shape = %s%s\", var.name, var.shape,\n",
        "                      init_string)\n",
        "\n",
        "    output_spec = None\n",
        "    if mode == tf.estimator.ModeKeys.TRAIN:\n",
        "\n",
        "      train_op = optimization.create_optimizer(\n",
        "          total_loss, learning_rate, num_train_steps, num_warmup_steps, use_tpu)\n",
        "\n",
        "      output_spec = tf.contrib.tpu.TPUEstimatorSpec(\n",
        "          mode=mode,\n",
        "          loss=total_loss,\n",
        "          train_op=train_op,\n",
        "          scaffold_fn=scaffold_fn)\n",
        "    elif mode == tf.estimator.ModeKeys.EVAL:\n",
        "\n",
        "      def metric_fn(per_example_loss, label_ids, logits, is_real_example):\n",
        "        # predictions = tf.argmax(logits, axis=-1, output_type=tf.int32)\n",
        "        predictions = tf.cast(probabilities > 0.5, dtype=tf.int32) #if prob for a class is larger than 0.5, then it is positive prediction for this class\n",
        "        accuracy = tf.metrics.accuracy(\n",
        "            labels=label_ids, predictions=predictions, weights=is_real_example)\n",
        "        loss = tf.metrics.mean(values=per_example_loss, weights=is_real_example)\n",
        "        return {\n",
        "            \"eval_accuracy\": accuracy,\n",
        "            \"eval_loss\": loss,\n",
        "        }\n",
        "\n",
        "      eval_metrics = (metric_fn,\n",
        "                      [per_example_loss, label_ids, logits, is_real_example])\n",
        "      output_spec = tf.contrib.tpu.TPUEstimatorSpec(\n",
        "          mode=mode,\n",
        "          loss=total_loss,\n",
        "          eval_metrics=eval_metrics,\n",
        "          scaffold_fn=scaffold_fn)\n",
        "    else:\n",
        "      predictions = tf.cast(probabilities > 0.5, dtype=tf.int32)\n",
        "      output_spec = tf.contrib.tpu.TPUEstimatorSpec(\n",
        "          mode=mode,\n",
        "          predictions={\"predictions\": predictions},\n",
        "          scaffold_fn=scaffold_fn)\n",
        "    return output_spec\n",
        "\n",
        "  return model_fn\n",
        "\n",
        "\n",
        "def file_based_convert_examples_to_features(\n",
        "    examples, label_list, max_seq_length, tokenizer, output_file):\n",
        "  \"\"\"Convert a set of `InputExample`s to a TFRecord file.\"\"\"\n",
        "\n",
        "  writer = tf.python_io.TFRecordWriter(output_file)\n",
        "\n",
        "  for (ex_index, example) in enumerate(examples):\n",
        "    if ex_index % 10000 == 0:\n",
        "      tf.logging.info(\"Writing example %d of %d\" % (ex_index, len(examples)))\n",
        "\n",
        "    feature = convert_single_example(ex_index, example, label_list,\n",
        "                                     max_seq_length, tokenizer)\n",
        "\n",
        "    def create_int_feature(values):\n",
        "      f = tf.train.Feature(int64_list=tf.train.Int64List(value=list(values)))\n",
        "      return f\n",
        "\n",
        "    features = collections.OrderedDict()\n",
        "    features[\"input_ids\"] = create_int_feature(feature.input_ids)\n",
        "    features[\"input_mask\"] = create_int_feature(feature.input_mask)\n",
        "    features[\"segment_ids\"] = create_int_feature(feature.segment_ids)\n",
        "    features[\"label_ids\"] = create_int_feature(feature.label_id)\n",
        "    features[\"is_real_example\"] = create_int_feature(\n",
        "        [int(feature.is_real_example)])\n",
        "\n",
        "    tf_example = tf.train.Example(features=tf.train.Features(feature=features))\n",
        "    writer.write(tf_example.SerializeToString())\n",
        "  writer.close()\n",
        "\n",
        "def _truncate_seq_pair(tokens_a, tokens_b, max_length):\n",
        "  \"\"\"Truncates a sequence pair in place to the maximum length.\"\"\"\n",
        "\n",
        "  # This is a simple heuristic which will always truncate the longer sequence\n",
        "  # one token at a time. This makes more sense than truncating an equal percent\n",
        "  # of tokens from each, since if one sequence is very short then each token\n",
        "  # that's truncated likely contains more information than a longer sequence.\n",
        "  while True:\n",
        "    total_length = len(tokens_a) + len(tokens_b)\n",
        "    if total_length <= max_length:\n",
        "      break\n",
        "    if len(tokens_a) > len(tokens_b):\n",
        "      tokens_a.pop()\n",
        "    else:\n",
        "      tokens_b.pop()\n",
        "\n",
        "def convert_single_example(ex_index, example, label_list, max_seq_length,\n",
        "                           tokenizer):\n",
        "  \"\"\"Converts a single `InputExample` into a single `InputFeatures`.\"\"\"\n",
        "\n",
        "  if isinstance(example, PaddingInputExample):\n",
        "    return InputFeatures(\n",
        "        input_ids=[0] * max_seq_length,\n",
        "        input_mask=[0] * max_seq_length,\n",
        "        segment_ids=[0] * max_seq_length,\n",
        "        label_id=0,\n",
        "        is_real_example=False)\n",
        "\n",
        "  label_map = {}\n",
        "  for (i, label) in enumerate(label_list):\n",
        "    label_map[label] = i\n",
        "\n",
        "  tokens_a = tokenizer.tokenize(example.text_a)\n",
        "  tokens_b = None\n",
        "  if example.text_b:\n",
        "    tokens_b = tokenizer.tokenize(example.text_b)\n",
        "\n",
        "  if tokens_b:\n",
        "    _truncate_seq_pair(tokens_a, tokens_b, max_seq_length - 3)\n",
        "  else:\n",
        "    if len(tokens_a) > max_seq_length - 2:\n",
        "      tokens_a = tokens_a[0:(max_seq_length - 2)]\n",
        "\n",
        "  tokens = []\n",
        "  segment_ids = []\n",
        "  tokens.append(\"[CLS]\")\n",
        "  segment_ids.append(0)\n",
        "  for token in tokens_a:\n",
        "    tokens.append(token)\n",
        "    segment_ids.append(0)\n",
        "  tokens.append(\"[SEP]\")\n",
        "  segment_ids.append(0)\n",
        "\n",
        "  if tokens_b:\n",
        "    for token in tokens_b:\n",
        "      tokens.append(token)\n",
        "      segment_ids.append(1)\n",
        "    tokens.append(\"[SEP]\")\n",
        "    segment_ids.append(1)\n",
        "\n",
        "  input_ids = tokenizer.convert_tokens_to_ids(tokens)\n",
        "\n",
        "  # The mask has 1 for real tokens and 0 for padding tokens. Only real\n",
        "  # tokens are attended to.\n",
        "  input_mask = [1] * len(input_ids)\n",
        "\n",
        "  # Zero-pad up to the sequence length.\n",
        "  while len(input_ids) < max_seq_length:\n",
        "    input_ids.append(0)\n",
        "    input_mask.append(0)\n",
        "    segment_ids.append(0)\n",
        "\n",
        "  assert len(input_ids) == max_seq_length\n",
        "  assert len(input_mask) == max_seq_length\n",
        "  assert len(segment_ids) == max_seq_length\n",
        "\n",
        "#   label_id = label_map[example.label]\n",
        "  #actually this is label_ids - a list of label ids\n",
        "  label_id = [1 if l in example.label else 0 for l in label_list]\n",
        "    \n",
        "  if ex_index < 5:\n",
        "    tf.logging.info(\"*** Example ***\")\n",
        "    tf.logging.info(\"guid: %s\" % (example.guid))\n",
        "    tf.logging.info(\"tokens: %s\" % \" \".join(\n",
        "        [tokenization.printable_text(x) for x in tokens]))\n",
        "    tf.logging.info(\"input_ids: %s\" % \" \".join([str(x) for x in input_ids]))\n",
        "    tf.logging.info(\"input_mask: %s\" % \" \".join([str(x) for x in input_mask]))\n",
        "    tf.logging.info(\"segment_ids: %s\" % \" \".join([str(x) for x in segment_ids]))\n",
        "    tf.logging.info(\"label: %s (id = %s)\" % (str(example.label), str(label_id)))\n",
        "\n",
        "  feature = InputFeatures(\n",
        "      input_ids=input_ids,\n",
        "      input_mask=input_mask,\n",
        "      segment_ids=segment_ids,\n",
        "      label_id=label_id,\n",
        "      is_real_example=True)\n",
        "  return feature\n",
        "\n",
        "def file_based_input_fn_builder(input_file, seq_length, label_list, is_training,\n",
        "                                drop_remainder):\n",
        "  \"\"\"Creates an `input_fn` closure to be passed to TPUEstimator.\"\"\"\n",
        "\n",
        "  name_to_features = {\n",
        "      \"input_ids\": tf.FixedLenFeature([seq_length], tf.int64),\n",
        "      \"input_mask\": tf.FixedLenFeature([seq_length], tf.int64),\n",
        "      \"segment_ids\": tf.FixedLenFeature([seq_length], tf.int64),\n",
        "      \"label_ids\": tf.FixedLenFeature([len(label_list)], tf.int64),\n",
        "      \"is_real_example\": tf.FixedLenFeature([], tf.int64),\n",
        "  }\n",
        "\n",
        "  def _decode_record(record, name_to_features):\n",
        "    \"\"\"Decodes a record to a TensorFlow example.\"\"\"\n",
        "    example = tf.parse_single_example(record, name_to_features)\n",
        "\n",
        "    # tf.Example only supports tf.int64, but the TPU only supports tf.int32.\n",
        "    # So cast all int64 to int32.\n",
        "    for name in list(example.keys()):\n",
        "      t = example[name]\n",
        "      if t.dtype == tf.int64:\n",
        "        t = tf.to_int32(t)\n",
        "      example[name] = t\n",
        "\n",
        "    return example\n",
        "\n",
        "  def input_fn(params):\n",
        "    \"\"\"The actual input function.\"\"\"\n",
        "    batch_size = params[\"batch_size\"]\n",
        "\n",
        "    # For training, we want a lot of parallel reading and shuffling.\n",
        "    # For eval, we want no shuffling and parallel reading doesn't matter.\n",
        "    d = tf.data.TFRecordDataset(input_file)\n",
        "    if is_training:\n",
        "      d = d.repeat()\n",
        "      d = d.shuffle(buffer_size=100)\n",
        "\n",
        "    d = d.apply(\n",
        "        tf.contrib.data.map_and_batch(\n",
        "            lambda record: _decode_record(record, name_to_features),\n",
        "            batch_size=batch_size,\n",
        "            drop_remainder=drop_remainder))\n",
        "\n",
        "    return d\n",
        "\n",
        "  return input_fn\n"
      ],
      "metadata": {
        "id": "PymlL-QMKErk"
      },
      "execution_count": 27,
      "outputs": []
    },
    {
      "cell_type": "code",
      "source": [
        "def main(_):\n",
        "  tf.logging.set_verbosity(tf.logging.INFO)\n",
        "\n",
        "  docs = get_reuters_documents(FLAGS.reuters_data_dir)\n",
        "  data = [(u'{title}\\n\\n{body}'.format(**doc), doc['topics']) for doc in docs if doc['topics']]\n",
        "  texts, labels= zip(*data)\n",
        "  #this is the labels to remove\n",
        "  label_freq = count_labels(labels)\n",
        "  labels_small = [l for l in label_freq if label_freq[l] <= FLAGS.threshold]\n",
        "  labels_tokeep = [l for l in label_freq if label_freq[l] > FLAGS.threshold]\n",
        "  #if a label is considered to be a small category (according to the threshold setup), replace it to \"other\"\n",
        "  texts_cleaned, labels_cleaned = clean (texts, labels, labels_small)\n",
        "  #split train/test\n",
        "  texts_train, texts_test, labels_train, labels_test = \\\n",
        "      train_test_split(texts_cleaned, labels_cleaned, test_size=0.3, random_state=12345)\n",
        "\n",
        "\n",
        "\n",
        "  processors = {\n",
        "      \"reuters\": ReuterProcessor,\n",
        "  }\n",
        "\n",
        "  tokenization.validate_case_matches_checkpoint(FLAGS.do_lower_case,\n",
        "                                                FLAGS.init_checkpoint)\n",
        "\n",
        "  if not FLAGS.do_train and not FLAGS.do_eval and not FLAGS.do_predict:\n",
        "    raise ValueError(\n",
        "        \"At least one of `do_train`, `do_eval` or `do_predict' must be True.\")\n",
        "\n",
        "  bert_config = modeling.BertConfig.from_json_file(FLAGS.bert_config_file)\n",
        "\n",
        "  if FLAGS.max_seq_length > bert_config.max_position_embeddings:\n",
        "    raise ValueError(\n",
        "        \"Cannot use sequence length %d because the BERT model \"\n",
        "        \"was only trained up to sequence length %d\" %\n",
        "        (FLAGS.max_seq_length, bert_config.max_position_embeddings))\n",
        "\n",
        "  tf.gfile.MakeDirs(FLAGS.output_dir)\n",
        "\n",
        "  task_name = FLAGS.task_name.lower()\n",
        "  if task_name not in processors:\n",
        "    raise ValueError(\"Task not found: %s\" % (task_name))\n",
        "  processor = processors[task_name]()\n",
        "\n",
        "  label_list = processor.get_labels(labels_tokeep)\n",
        "\n",
        "  tokenizer = tokenization.FullTokenizer(\n",
        "      vocab_file=FLAGS.vocab_file, do_lower_case=FLAGS.do_lower_case)\n",
        "\n",
        "  tpu_cluster_resolver = None\n",
        "  if FLAGS.use_tpu and FLAGS.tpu_name:\n",
        "    tpu_cluster_resolver = tf.contrib.cluster_resolver.TPUClusterResolver(\n",
        "        FLAGS.tpu_name, zone=FLAGS.tpu_zone, project=FLAGS.gcp_project)\n",
        "\n",
        "  is_per_host = tf.contrib.tpu.InputPipelineConfig.PER_HOST_V2\n",
        "  run_config = tf.contrib.tpu.RunConfig(\n",
        "      cluster=tpu_cluster_resolver,\n",
        "      master=FLAGS.master,\n",
        "      model_dir=FLAGS.output_dir,\n",
        "      save_checkpoints_steps=FLAGS.save_checkpoints_steps,\n",
        "      tpu_config=tf.contrib.tpu.TPUConfig(\n",
        "          iterations_per_loop=FLAGS.iterations_per_loop,\n",
        "          num_shards=FLAGS.num_tpu_cores,\n",
        "          per_host_input_for_training=is_per_host))\n",
        "\n",
        "  train_examples = None\n",
        "  num_train_steps = None\n",
        "  num_warmup_steps = None\n",
        "  if FLAGS.do_train:\n",
        "    train_examples = processor.get_train_examples(texts_train, labels_train)\n",
        "    num_train_steps = int(\n",
        "        len(train_examples) / FLAGS.train_batch_size * FLAGS.num_train_epochs)\n",
        "    num_warmup_steps = int(num_train_steps * FLAGS.warmup_proportion)\n",
        "\n",
        "  model_fn = model_fn_builder(\n",
        "      bert_config=bert_config,\n",
        "      num_labels=len(label_list),\n",
        "      init_checkpoint=FLAGS.init_checkpoint,\n",
        "      learning_rate=FLAGS.learning_rate,\n",
        "      num_train_steps=num_train_steps,\n",
        "      num_warmup_steps=num_warmup_steps,\n",
        "      use_tpu=FLAGS.use_tpu,\n",
        "      use_one_hot_embeddings=FLAGS.use_tpu)\n",
        "\n",
        "  # If TPU is not available, this will fall back to normal Estimator on CPU\n",
        "  # or GPU.\n",
        "  estimator = tf.contrib.tpu.TPUEstimator(\n",
        "      use_tpu=FLAGS.use_tpu,\n",
        "      model_fn=model_fn,\n",
        "      config=run_config,\n",
        "      train_batch_size=FLAGS.train_batch_size,\n",
        "      eval_batch_size=FLAGS.eval_batch_size,\n",
        "      predict_batch_size=FLAGS.predict_batch_size)\n",
        "\n",
        "  if FLAGS.do_train:\n",
        "    train_file = os.path.join(FLAGS.output_dir, \"train.tf_record\")\n",
        "    file_based_convert_examples_to_features(\n",
        "        train_examples, label_list, FLAGS.max_seq_length, tokenizer, train_file)\n",
        "    tf.logging.info(\"***** Running training *****\")\n",
        "    tf.logging.info(\"  Num examples = %d\", len(train_examples))\n",
        "    tf.logging.info(\"  Batch size = %d\", FLAGS.train_batch_size)\n",
        "    tf.logging.info(\"  Num steps = %d\", num_train_steps)\n",
        "    train_input_fn = file_based_input_fn_builder(\n",
        "        input_file=train_file,\n",
        "        seq_length=FLAGS.max_seq_length,\n",
        "        label_list=label_list,\n",
        "        is_training=True,\n",
        "        drop_remainder=True)\n",
        "    estimator.train(input_fn=train_input_fn, max_steps=num_train_steps)\n",
        "\n",
        "  if FLAGS.do_eval:\n",
        "    eval_examples = processor.get_dev_examples(texts_test, labels_test)\n",
        "    num_actual_eval_examples = len(eval_examples)\n",
        "    if FLAGS.use_tpu:\n",
        "      # TPU requires a fixed batch size for all batches, therefore the number\n",
        "      # of examples must be a multiple of the batch size, or else examples\n",
        "      # will get dropped. So we pad with fake examples which are ignored\n",
        "      # later on. These do NOT count towards the metric (all tf.metrics\n",
        "      # support a per-instance weight, and these get a weight of 0.0).\n",
        "      while len(eval_examples) % FLAGS.eval_batch_size != 0:\n",
        "        eval_examples.append(PaddingInputExample())\n",
        "\n",
        "    eval_file = os.path.join(FLAGS.output_dir, \"eval.tf_record\")\n",
        "    file_based_convert_examples_to_features(\n",
        "        eval_examples, label_list, FLAGS.max_seq_length, tokenizer, eval_file)\n",
        "\n",
        "    tf.logging.info(\"***** Running evaluation *****\")\n",
        "    tf.logging.info(\"  Num examples = %d (%d actual, %d padding)\",\n",
        "                    len(eval_examples), num_actual_eval_examples,\n",
        "                    len(eval_examples) - num_actual_eval_examples)\n",
        "    tf.logging.info(\"  Batch size = %d\", FLAGS.eval_batch_size)\n",
        "\n",
        "    # This tells the estimator to run through the entire set.\n",
        "    eval_steps = None\n",
        "    # However, if running eval on the TPU, you will need to specify the\n",
        "    # number of steps.\n",
        "    if FLAGS.use_tpu:\n",
        "      assert len(eval_examples) % FLAGS.eval_batch_size == 0\n",
        "      eval_steps = int(len(eval_examples) // FLAGS.eval_batch_size)\n",
        "\n",
        "    eval_drop_remainder = True if FLAGS.use_tpu else False\n",
        "    eval_input_fn = file_based_input_fn_builder(\n",
        "        input_file=eval_file,\n",
        "        seq_length=FLAGS.max_seq_length,\n",
        "        label_list=label_list,\n",
        "        is_training=False,\n",
        "        drop_remainder=eval_drop_remainder)\n",
        "\n",
        "    result = estimator.evaluate(input_fn=eval_input_fn, steps=eval_steps)\n",
        "\n",
        "    output_eval_file = os.path.join(FLAGS.output_dir, \"eval_results.txt\")\n",
        "    with tf.gfile.GFile(output_eval_file, \"w\") as writer:\n",
        "      tf.logging.info(\"***** Eval results *****\")\n",
        "      for key in sorted(result.keys()):\n",
        "        tf.logging.info(\"  %s = %s\", key, str(result[key]))\n",
        "        writer.write(\"%s = %s\\n\" % (key, str(result[key])))\n",
        "\n",
        "  if FLAGS.do_predict:\n",
        "    predict_examples = processor.get_dev_examples(texts_test, labels_test)[:10]\n",
        "    num_actual_predict_examples = len(predict_examples)\n",
        "    if FLAGS.use_tpu:\n",
        "    # TPU requires a fixed batch size for all batches, therefore the number\n",
        "    # of examples must be a multiple of the batch size, or else examples\n",
        "    # will get dropped. So we pad with fake examples which are ignored\n",
        "    # later on.\n",
        "      while len(predict_examples) % FLAGS.predict_batch_size != 0:\n",
        "        predict_examples.append(PaddingInputExample())\n",
        "\n",
        "    predict_file = os.path.join(FLAGS.output_dir, \"predict.tf_record\")\n",
        "    file_based_convert_examples_to_features(predict_examples, label_list,\n",
        "                                            FLAGS.max_seq_length, tokenizer,\n",
        "                                            predict_file)\n",
        "\n",
        "    tf.logging.info(\"***** Running prediction*****\")\n",
        "    tf.logging.info(\"  Num examples = %d (%d actual, %d padding)\",\n",
        "                    len(predict_examples), num_actual_predict_examples,\n",
        "                    len(predict_examples) - num_actual_predict_examples)\n",
        "    tf.logging.info(\"  Batch size = %d\", FLAGS.predict_batch_size)\n",
        "\n",
        "    predict_drop_remainder = True if FLAGS.use_tpu else False\n",
        "    predict_input_fn = file_based_input_fn_builder(\n",
        "        input_file=predict_file,\n",
        "        seq_length=FLAGS.max_seq_length,\n",
        "        label_list=label_list,\n",
        "        is_training=False,\n",
        "        drop_remainder=predict_drop_remainder)\n",
        "\n",
        "    result = estimator.predict(input_fn=predict_input_fn)\n",
        "    label_map = {}\n",
        "    for (i, label) in enumerate(label_list):\n",
        "      label_map[label] = i\n",
        "    # label_id = [1 if l in example.label else 0 for l in label_list]\n",
        "    labels = np.array([[1 if l in ex.label else 0 for l in label_list] for ex in predict_examples])\n",
        "    pred = np.array([prediction[\"predictions\"] for prediction in result])\n",
        "    \n",
        "    print(\"---------------accuracy score----------------\")\n",
        "    print(accuracy_score(labels, pred))\n",
        "    \n",
        "    print(\"---------------hamming loss----------------\")\n",
        "    print(hamming_loss(labels, pred))\n",
        "    \n",
        "    cms = multilabel_confusion_matrix(labels, pred)\n",
        "    print(\"---------------confusion matrices----------------\")\n",
        "    for i, cm in enumerate(cms):\n",
        "      print(label_list[i])\n",
        "      print(cm)\n"
      ],
      "metadata": {
        "id": "wXlwpx1ESoqt"
      },
      "execution_count": 28,
      "outputs": []
    },
    {
      "cell_type": "code",
      "source": [
        "# for key in tf.app.flags.FLAGS.flag_values_dict():\n",
        "#   print(key, FLAGS[key].value)"
      ],
      "metadata": {
        "id": "WSPLKUutTO4i"
      },
      "execution_count": 31,
      "outputs": []
    },
    {
      "cell_type": "code",
      "source": [
        "# #set needed flag values -- TRAINING\n",
        "# FLAGS[\"reuters_data_dir\"].value = \"gdrive/My Drive/Colab Notebooks/reuters21578\"\n",
        "# FLAGS[\"task_name\"].value = \"reuters\"\n",
        "# FLAGS[\"vocab_file\"].value = \"gdrive/My Drive/Colab Notebooks/models/uncased_L-12_H-768_A-12/uncased_L-12_H-768_A-12/vocab.txt\"\n",
        "# FLAGS[\"bert_config_file\"].value = \"gdrive/My Drive/Colab Notebooks/models/uncased_L-12_H-768_A-12/uncased_L-12_H-768_A-12/bert_config.json\"\n",
        "# FLAGS[\"output_dir\"].value = \"gdrive/My Drive/Colab Notebooks/models/model_20220317\"\n",
        "# FLAGS[\"do_train\"].value = True\n",
        "# FLAGS[\"do_eval\"].value = True\n",
        "# FLAGS[\"do_predict\"].value = False"
      ],
      "metadata": {
        "id": "oxTSHSr_TZVN"
      },
      "execution_count": 39,
      "outputs": []
    },
    {
      "cell_type": "code",
      "source": [
        "#set needed flag values\n",
        "FLAGS[\"reuters_data_dir\"].value = \"gdrive/My Drive/Colab Notebooks/reuters21578\"\n",
        "FLAGS[\"task_name\"].value = \"reuters\"\n",
        "FLAGS[\"vocab_file\"].value = \"gdrive/My Drive/Colab Notebooks/models/uncased_L-12_H-768_A-12/uncased_L-12_H-768_A-12/vocab.txt\"\n",
        "FLAGS[\"bert_config_file\"].value = \"gdrive/My Drive/Colab Notebooks/models/uncased_L-12_H-768_A-12/uncased_L-12_H-768_A-12/bert_config.json\"\n",
        "FLAGS[\"output_dir\"].value = \"gdrive/My Drive/Colab Notebooks/models/model_20220317\"\n",
        "FLAGS[\"do_train\"].value = False\n",
        "FLAGS[\"do_eval\"].value = False\n",
        "FLAGS[\"do_predict\"].value = True"
      ],
      "metadata": {
        "id": "vJulVjesYkWC"
      },
      "execution_count": 24,
      "outputs": []
    },
    {
      "cell_type": "code",
      "source": [
        "flags.mark_flag_as_required(\"reuters_data_dir\")\n",
        "flags.mark_flag_as_required(\"task_name\")\n",
        "flags.mark_flag_as_required(\"vocab_file\")\n",
        "flags.mark_flag_as_required(\"bert_config_file\")\n",
        "flags.mark_flag_as_required(\"output_dir\")\n",
        "tf.app.run()"
      ],
      "metadata": {
        "colab": {
          "base_uri": "https://localhost:8080/"
        },
        "id": "jBpMzK-xSwbP",
        "outputId": "6aed98bf-f872-4f3a-dda9-1e5583a963a8"
      },
      "execution_count": null,
      "outputs": [
        {
          "output_type": "stream",
          "name": "stdout",
          "text": [
            "WARNING:tensorflow:Estimator's model_fn (<function model_fn_builder.<locals>.model_fn at 0x7efd66958830>) includes params argument, but params are not passed to Estimator.\n"
          ]
        },
        {
          "output_type": "stream",
          "name": "stderr",
          "text": [
            "W0320 01:22:50.346183 139628830963584 estimator.py:1994] Estimator's model_fn (<function model_fn_builder.<locals>.model_fn at 0x7efd66958830>) includes params argument, but params are not passed to Estimator.\n"
          ]
        },
        {
          "output_type": "stream",
          "name": "stdout",
          "text": [
            "INFO:tensorflow:Using config: {'_model_dir': 'gdrive/My Drive/Colab Notebooks/models/model_20220317', '_tf_random_seed': None, '_save_summary_steps': 100, '_save_checkpoints_steps': 1000, '_save_checkpoints_secs': None, '_session_config': allow_soft_placement: true\n",
            "graph_options {\n",
            "  rewrite_options {\n",
            "    meta_optimizer_iterations: ONE\n",
            "  }\n",
            "}\n",
            ", '_keep_checkpoint_max': 5, '_keep_checkpoint_every_n_hours': 10000, '_log_step_count_steps': None, '_train_distribute': None, '_device_fn': None, '_protocol': None, '_eval_distribute': None, '_experimental_distribute': None, '_experimental_max_worker_delay_secs': None, '_session_creation_timeout_secs': 7200, '_service': None, '_cluster_spec': <tensorflow.python.training.server_lib.ClusterSpec object at 0x7efd59394f50>, '_task_type': 'worker', '_task_id': 0, '_global_id_in_cluster': 0, '_master': '', '_evaluation_master': '', '_is_chief': True, '_num_ps_replicas': 0, '_num_worker_replicas': 1, '_tpu_config': TPUConfig(iterations_per_loop=1000, num_shards=8, num_cores_per_replica=None, per_host_input_for_training=3, tpu_job_name=None, initial_infeed_sleep_secs=None, input_partition_dims=None, eval_training_input_configuration=2, experimental_host_call_every_n_steps=1), '_cluster': None}\n"
          ]
        },
        {
          "output_type": "stream",
          "name": "stderr",
          "text": [
            "I0320 01:22:50.354732 139628830963584 estimator.py:212] Using config: {'_model_dir': 'gdrive/My Drive/Colab Notebooks/models/model_20220317', '_tf_random_seed': None, '_save_summary_steps': 100, '_save_checkpoints_steps': 1000, '_save_checkpoints_secs': None, '_session_config': allow_soft_placement: true\n",
            "graph_options {\n",
            "  rewrite_options {\n",
            "    meta_optimizer_iterations: ONE\n",
            "  }\n",
            "}\n",
            ", '_keep_checkpoint_max': 5, '_keep_checkpoint_every_n_hours': 10000, '_log_step_count_steps': None, '_train_distribute': None, '_device_fn': None, '_protocol': None, '_eval_distribute': None, '_experimental_distribute': None, '_experimental_max_worker_delay_secs': None, '_session_creation_timeout_secs': 7200, '_service': None, '_cluster_spec': <tensorflow.python.training.server_lib.ClusterSpec object at 0x7efd59394f50>, '_task_type': 'worker', '_task_id': 0, '_global_id_in_cluster': 0, '_master': '', '_evaluation_master': '', '_is_chief': True, '_num_ps_replicas': 0, '_num_worker_replicas': 1, '_tpu_config': TPUConfig(iterations_per_loop=1000, num_shards=8, num_cores_per_replica=None, per_host_input_for_training=3, tpu_job_name=None, initial_infeed_sleep_secs=None, input_partition_dims=None, eval_training_input_configuration=2, experimental_host_call_every_n_steps=1), '_cluster': None}\n"
          ]
        },
        {
          "output_type": "stream",
          "name": "stdout",
          "text": [
            "INFO:tensorflow:_TPUContext: eval_on_tpu True\n"
          ]
        },
        {
          "output_type": "stream",
          "name": "stderr",
          "text": [
            "I0320 01:22:50.362545 139628830963584 tpu_context.py:220] _TPUContext: eval_on_tpu True\n"
          ]
        },
        {
          "output_type": "stream",
          "name": "stdout",
          "text": [
            "WARNING:tensorflow:eval_on_tpu ignored because use_tpu is False.\n"
          ]
        },
        {
          "output_type": "stream",
          "name": "stderr",
          "text": [
            "W0320 01:22:50.370462 139628830963584 tpu_context.py:222] eval_on_tpu ignored because use_tpu is False.\n"
          ]
        },
        {
          "output_type": "stream",
          "name": "stdout",
          "text": [
            "INFO:tensorflow:Writing example 0 of 5915\n"
          ]
        },
        {
          "output_type": "stream",
          "name": "stderr",
          "text": [
            "I0320 01:22:50.813707 139628830963584 <ipython-input-27-fe97ffe00ed6>:306] Writing example 0 of 5915\n"
          ]
        },
        {
          "output_type": "stream",
          "name": "stdout",
          "text": [
            "INFO:tensorflow:*** Example ***\n"
          ]
        },
        {
          "output_type": "stream",
          "name": "stderr",
          "text": [
            "I0320 01:22:50.825102 139628830963584 <ipython-input-27-fe97ffe00ed6>:408] *** Example ***\n"
          ]
        },
        {
          "output_type": "stream",
          "name": "stdout",
          "text": [
            "INFO:tensorflow:guid: dev-0\n"
          ]
        },
        {
          "output_type": "stream",
          "name": "stderr",
          "text": [
            "I0320 01:22:50.831960 139628830963584 <ipython-input-27-fe97ffe00ed6>:409] guid: dev-0\n"
          ]
        },
        {
          "output_type": "stream",
          "name": "stdout",
          "text": [
            "INFO:tensorflow:tokens: [CLS] v ##w , toyota light truck deal close to conclusion volkswagen ag < vow ##g . f > said negotiations with toyota motor corp < toy ##o . t > over a joint production accord have reached \" an advanced stage . \" an announcement on an agreement to assemble toyota hi lux light trucks at v ##w ' s hanover plant is expected next week , industry sources close to v ##w said . the financial times newspaper quoted v ##w managing board chairman carl hahn saying he was certain the two companies would agree to produce one ton ##ne pick - up trucks from 1988 . re ##uter [SEP]\n"
          ]
        },
        {
          "output_type": "stream",
          "name": "stderr",
          "text": [
            "I0320 01:22:50.836565 139628830963584 <ipython-input-27-fe97ffe00ed6>:411] tokens: [CLS] v ##w , toyota light truck deal close to conclusion volkswagen ag < vow ##g . f > said negotiations with toyota motor corp < toy ##o . t > over a joint production accord have reached \" an advanced stage . \" an announcement on an agreement to assemble toyota hi lux light trucks at v ##w ' s hanover plant is expected next week , industry sources close to v ##w said . the financial times newspaper quoted v ##w managing board chairman carl hahn saying he was certain the two companies would agree to produce one ton ##ne pick - up trucks from 1988 . re ##uter [SEP]\n"
          ]
        },
        {
          "output_type": "stream",
          "name": "stdout",
          "text": [
            "INFO:tensorflow:input_ids: 101 1058 2860 1010 11742 2422 4744 3066 2485 2000 7091 18817 12943 1026 19076 2290 1012 1042 1028 2056 7776 2007 11742 5013 13058 1026 9121 2080 1012 1056 1028 2058 1037 4101 2537 15802 2031 2584 1000 2019 3935 2754 1012 1000 2019 8874 2006 2019 3820 2000 21365 11742 7632 28359 2422 9322 2012 1058 2860 1005 1055 14393 3269 2003 3517 2279 2733 1010 3068 4216 2485 2000 1058 2860 2056 1012 1996 3361 2335 3780 9339 1058 2860 6605 2604 3472 5529 24266 3038 2002 2001 3056 1996 2048 3316 2052 5993 2000 3965 2028 10228 2638 4060 1011 2039 9322 2013 2997 1012 2128 19901 102 0 0 0 0 0 0 0 0 0 0 0 0 0 0 0 0\n"
          ]
        },
        {
          "output_type": "stream",
          "name": "stderr",
          "text": [
            "I0320 01:22:50.842440 139628830963584 <ipython-input-27-fe97ffe00ed6>:412] input_ids: 101 1058 2860 1010 11742 2422 4744 3066 2485 2000 7091 18817 12943 1026 19076 2290 1012 1042 1028 2056 7776 2007 11742 5013 13058 1026 9121 2080 1012 1056 1028 2058 1037 4101 2537 15802 2031 2584 1000 2019 3935 2754 1012 1000 2019 8874 2006 2019 3820 2000 21365 11742 7632 28359 2422 9322 2012 1058 2860 1005 1055 14393 3269 2003 3517 2279 2733 1010 3068 4216 2485 2000 1058 2860 2056 1012 1996 3361 2335 3780 9339 1058 2860 6605 2604 3472 5529 24266 3038 2002 2001 3056 1996 2048 3316 2052 5993 2000 3965 2028 10228 2638 4060 1011 2039 9322 2013 2997 1012 2128 19901 102 0 0 0 0 0 0 0 0 0 0 0 0 0 0 0 0\n"
          ]
        },
        {
          "output_type": "stream",
          "name": "stdout",
          "text": [
            "INFO:tensorflow:input_mask: 1 1 1 1 1 1 1 1 1 1 1 1 1 1 1 1 1 1 1 1 1 1 1 1 1 1 1 1 1 1 1 1 1 1 1 1 1 1 1 1 1 1 1 1 1 1 1 1 1 1 1 1 1 1 1 1 1 1 1 1 1 1 1 1 1 1 1 1 1 1 1 1 1 1 1 1 1 1 1 1 1 1 1 1 1 1 1 1 1 1 1 1 1 1 1 1 1 1 1 1 1 1 1 1 1 1 1 1 1 1 1 1 0 0 0 0 0 0 0 0 0 0 0 0 0 0 0 0\n"
          ]
        },
        {
          "output_type": "stream",
          "name": "stderr",
          "text": [
            "I0320 01:22:50.847881 139628830963584 <ipython-input-27-fe97ffe00ed6>:413] input_mask: 1 1 1 1 1 1 1 1 1 1 1 1 1 1 1 1 1 1 1 1 1 1 1 1 1 1 1 1 1 1 1 1 1 1 1 1 1 1 1 1 1 1 1 1 1 1 1 1 1 1 1 1 1 1 1 1 1 1 1 1 1 1 1 1 1 1 1 1 1 1 1 1 1 1 1 1 1 1 1 1 1 1 1 1 1 1 1 1 1 1 1 1 1 1 1 1 1 1 1 1 1 1 1 1 1 1 1 1 1 1 1 1 0 0 0 0 0 0 0 0 0 0 0 0 0 0 0 0\n"
          ]
        },
        {
          "output_type": "stream",
          "name": "stdout",
          "text": [
            "INFO:tensorflow:segment_ids: 0 0 0 0 0 0 0 0 0 0 0 0 0 0 0 0 0 0 0 0 0 0 0 0 0 0 0 0 0 0 0 0 0 0 0 0 0 0 0 0 0 0 0 0 0 0 0 0 0 0 0 0 0 0 0 0 0 0 0 0 0 0 0 0 0 0 0 0 0 0 0 0 0 0 0 0 0 0 0 0 0 0 0 0 0 0 0 0 0 0 0 0 0 0 0 0 0 0 0 0 0 0 0 0 0 0 0 0 0 0 0 0 0 0 0 0 0 0 0 0 0 0 0 0 0 0 0 0\n"
          ]
        },
        {
          "output_type": "stream",
          "name": "stderr",
          "text": [
            "I0320 01:22:50.852503 139628830963584 <ipython-input-27-fe97ffe00ed6>:414] segment_ids: 0 0 0 0 0 0 0 0 0 0 0 0 0 0 0 0 0 0 0 0 0 0 0 0 0 0 0 0 0 0 0 0 0 0 0 0 0 0 0 0 0 0 0 0 0 0 0 0 0 0 0 0 0 0 0 0 0 0 0 0 0 0 0 0 0 0 0 0 0 0 0 0 0 0 0 0 0 0 0 0 0 0 0 0 0 0 0 0 0 0 0 0 0 0 0 0 0 0 0 0 0 0 0 0 0 0 0 0 0 0 0 0 0 0 0 0 0 0 0 0 0 0 0 0 0 0 0 0\n"
          ]
        },
        {
          "output_type": "stream",
          "name": "stdout",
          "text": [
            "INFO:tensorflow:label: ['west-germany'] (id = [0, 0, 0, 0, 0, 0, 0, 0, 0, 0, 0, 0, 0, 0, 0, 0, 0, 0, 0, 0, 0, 0, 0, 0, 0, 0, 0, 0, 0, 0, 0, 0, 0, 0, 0, 0, 0, 0, 0, 0, 0, 0, 0, 1, 0, 0, 0, 0, 0, 0, 0])\n"
          ]
        },
        {
          "output_type": "stream",
          "name": "stderr",
          "text": [
            "I0320 01:22:50.861102 139628830963584 <ipython-input-27-fe97ffe00ed6>:415] label: ['west-germany'] (id = [0, 0, 0, 0, 0, 0, 0, 0, 0, 0, 0, 0, 0, 0, 0, 0, 0, 0, 0, 0, 0, 0, 0, 0, 0, 0, 0, 0, 0, 0, 0, 0, 0, 0, 0, 0, 0, 0, 0, 0, 0, 0, 0, 1, 0, 0, 0, 0, 0, 0, 0])\n"
          ]
        },
        {
          "output_type": "stream",
          "name": "stdout",
          "text": [
            "INFO:tensorflow:*** Example ***\n"
          ]
        },
        {
          "output_type": "stream",
          "name": "stderr",
          "text": [
            "I0320 01:22:50.872071 139628830963584 <ipython-input-27-fe97ffe00ed6>:408] *** Example ***\n"
          ]
        },
        {
          "output_type": "stream",
          "name": "stdout",
          "text": [
            "INFO:tensorflow:guid: dev-1\n"
          ]
        },
        {
          "output_type": "stream",
          "name": "stderr",
          "text": [
            "I0320 01:22:50.878700 139628830963584 <ipython-input-27-fe97ffe00ed6>:409] guid: dev-1\n"
          ]
        },
        {
          "output_type": "stream",
          "name": "stdout",
          "text": [
            "INFO:tensorflow:tokens: [CLS] world bank loans hungary 70 ml ##n dl ##rs the world bank said it approved a 70 ml ##n dl ##r loan to hungary to help finance a 83 ##3 . 1 ml ##n dl ##r telecommunications project . the bank noted that hungary , which until recently had given telecommunications low priority , recognized that inadequate telecommunications are a serious constraint to economic development and reform . the project extends through 1991 and will help mag ##yar post ##a , the state enterprise overseeing the telecommunications sector , meet its long - term development goals . re ##uter [SEP]\n"
          ]
        },
        {
          "output_type": "stream",
          "name": "stderr",
          "text": [
            "I0320 01:22:50.883998 139628830963584 <ipython-input-27-fe97ffe00ed6>:411] tokens: [CLS] world bank loans hungary 70 ml ##n dl ##rs the world bank said it approved a 70 ml ##n dl ##r loan to hungary to help finance a 83 ##3 . 1 ml ##n dl ##r telecommunications project . the bank noted that hungary , which until recently had given telecommunications low priority , recognized that inadequate telecommunications are a serious constraint to economic development and reform . the project extends through 1991 and will help mag ##yar post ##a , the state enterprise overseeing the telecommunications sector , meet its long - term development goals . re ##uter [SEP]\n"
          ]
        },
        {
          "output_type": "stream",
          "name": "stdout",
          "text": [
            "INFO:tensorflow:input_ids: 101 2088 2924 10940 5872 3963 19875 2078 21469 2869 1996 2088 2924 2056 2009 4844 1037 3963 19875 2078 21469 2099 5414 2000 5872 2000 2393 5446 1037 6640 2509 1012 1015 19875 2078 21469 2099 12108 2622 1012 1996 2924 3264 2008 5872 1010 2029 2127 3728 2018 2445 12108 2659 9470 1010 3858 2008 14710 12108 2024 1037 3809 27142 2000 3171 2458 1998 5290 1012 1996 2622 8908 2083 2889 1998 2097 2393 23848 13380 2695 2050 1010 1996 2110 6960 19642 1996 12108 4753 1010 3113 2049 2146 1011 2744 2458 3289 1012 2128 19901 102 0 0 0 0 0 0 0 0 0 0 0 0 0 0 0 0 0 0 0 0 0 0 0 0 0 0 0\n"
          ]
        },
        {
          "output_type": "stream",
          "name": "stderr",
          "text": [
            "I0320 01:22:50.891756 139628830963584 <ipython-input-27-fe97ffe00ed6>:412] input_ids: 101 2088 2924 10940 5872 3963 19875 2078 21469 2869 1996 2088 2924 2056 2009 4844 1037 3963 19875 2078 21469 2099 5414 2000 5872 2000 2393 5446 1037 6640 2509 1012 1015 19875 2078 21469 2099 12108 2622 1012 1996 2924 3264 2008 5872 1010 2029 2127 3728 2018 2445 12108 2659 9470 1010 3858 2008 14710 12108 2024 1037 3809 27142 2000 3171 2458 1998 5290 1012 1996 2622 8908 2083 2889 1998 2097 2393 23848 13380 2695 2050 1010 1996 2110 6960 19642 1996 12108 4753 1010 3113 2049 2146 1011 2744 2458 3289 1012 2128 19901 102 0 0 0 0 0 0 0 0 0 0 0 0 0 0 0 0 0 0 0 0 0 0 0 0 0 0 0\n"
          ]
        },
        {
          "output_type": "stream",
          "name": "stdout",
          "text": [
            "INFO:tensorflow:input_mask: 1 1 1 1 1 1 1 1 1 1 1 1 1 1 1 1 1 1 1 1 1 1 1 1 1 1 1 1 1 1 1 1 1 1 1 1 1 1 1 1 1 1 1 1 1 1 1 1 1 1 1 1 1 1 1 1 1 1 1 1 1 1 1 1 1 1 1 1 1 1 1 1 1 1 1 1 1 1 1 1 1 1 1 1 1 1 1 1 1 1 1 1 1 1 1 1 1 1 1 1 1 0 0 0 0 0 0 0 0 0 0 0 0 0 0 0 0 0 0 0 0 0 0 0 0 0 0 0\n"
          ]
        },
        {
          "output_type": "stream",
          "name": "stderr",
          "text": [
            "I0320 01:22:50.897002 139628830963584 <ipython-input-27-fe97ffe00ed6>:413] input_mask: 1 1 1 1 1 1 1 1 1 1 1 1 1 1 1 1 1 1 1 1 1 1 1 1 1 1 1 1 1 1 1 1 1 1 1 1 1 1 1 1 1 1 1 1 1 1 1 1 1 1 1 1 1 1 1 1 1 1 1 1 1 1 1 1 1 1 1 1 1 1 1 1 1 1 1 1 1 1 1 1 1 1 1 1 1 1 1 1 1 1 1 1 1 1 1 1 1 1 1 1 1 0 0 0 0 0 0 0 0 0 0 0 0 0 0 0 0 0 0 0 0 0 0 0 0 0 0 0\n"
          ]
        },
        {
          "output_type": "stream",
          "name": "stdout",
          "text": [
            "INFO:tensorflow:segment_ids: 0 0 0 0 0 0 0 0 0 0 0 0 0 0 0 0 0 0 0 0 0 0 0 0 0 0 0 0 0 0 0 0 0 0 0 0 0 0 0 0 0 0 0 0 0 0 0 0 0 0 0 0 0 0 0 0 0 0 0 0 0 0 0 0 0 0 0 0 0 0 0 0 0 0 0 0 0 0 0 0 0 0 0 0 0 0 0 0 0 0 0 0 0 0 0 0 0 0 0 0 0 0 0 0 0 0 0 0 0 0 0 0 0 0 0 0 0 0 0 0 0 0 0 0 0 0 0 0\n"
          ]
        },
        {
          "output_type": "stream",
          "name": "stderr",
          "text": [
            "I0320 01:22:50.900262 139628830963584 <ipython-input-27-fe97ffe00ed6>:414] segment_ids: 0 0 0 0 0 0 0 0 0 0 0 0 0 0 0 0 0 0 0 0 0 0 0 0 0 0 0 0 0 0 0 0 0 0 0 0 0 0 0 0 0 0 0 0 0 0 0 0 0 0 0 0 0 0 0 0 0 0 0 0 0 0 0 0 0 0 0 0 0 0 0 0 0 0 0 0 0 0 0 0 0 0 0 0 0 0 0 0 0 0 0 0 0 0 0 0 0 0 0 0 0 0 0 0 0 0 0 0 0 0 0 0 0 0 0 0 0 0 0 0 0 0 0 0 0 0 0 0\n"
          ]
        },
        {
          "output_type": "stream",
          "name": "stdout",
          "text": [
            "INFO:tensorflow:label: ['usa', 'other'] (id = [1, 1, 0, 0, 0, 0, 0, 0, 0, 0, 0, 0, 0, 0, 0, 0, 0, 0, 0, 0, 0, 0, 0, 0, 0, 0, 0, 0, 0, 0, 0, 0, 0, 0, 0, 0, 0, 0, 0, 0, 0, 0, 0, 0, 0, 0, 0, 0, 0, 0, 0])\n"
          ]
        },
        {
          "output_type": "stream",
          "name": "stderr",
          "text": [
            "I0320 01:22:50.905489 139628830963584 <ipython-input-27-fe97ffe00ed6>:415] label: ['usa', 'other'] (id = [1, 1, 0, 0, 0, 0, 0, 0, 0, 0, 0, 0, 0, 0, 0, 0, 0, 0, 0, 0, 0, 0, 0, 0, 0, 0, 0, 0, 0, 0, 0, 0, 0, 0, 0, 0, 0, 0, 0, 0, 0, 0, 0, 0, 0, 0, 0, 0, 0, 0, 0])\n"
          ]
        },
        {
          "output_type": "stream",
          "name": "stdout",
          "text": [
            "INFO:tensorflow:*** Example ***\n"
          ]
        },
        {
          "output_type": "stream",
          "name": "stderr",
          "text": [
            "I0320 01:22:50.914921 139628830963584 <ipython-input-27-fe97ffe00ed6>:408] *** Example ***\n"
          ]
        },
        {
          "output_type": "stream",
          "name": "stdout",
          "text": [
            "INFO:tensorflow:guid: dev-2\n"
          ]
        },
        {
          "output_type": "stream",
          "name": "stderr",
          "text": [
            "I0320 01:22:50.926533 139628830963584 <ipython-input-27-fe97ffe00ed6>:409] guid: dev-2\n"
          ]
        },
        {
          "output_type": "stream",
          "name": "stdout",
          "text": [
            "INFO:tensorflow:tokens: [CLS] ny ##se says santa fe < sf ##x > declines comment the new york stock exchange said santa fe southern pacific corp declined to comment on inquiries regarding the unusual activity in its stock . earlier , analysts and traders said the stock rose sharply after henley group < hen ##g > disclosed in a securities and exchange commission filing that it holds almost eight ml ##n shares in the railroad and real estate conglomerate . the stock was trading at 38 - 3 / 4 , up 2 - 5 / 8 on early afternoon turnover of over one million shares . re ##uter [SEP]\n"
          ]
        },
        {
          "output_type": "stream",
          "name": "stderr",
          "text": [
            "I0320 01:22:50.929554 139628830963584 <ipython-input-27-fe97ffe00ed6>:411] tokens: [CLS] ny ##se says santa fe < sf ##x > declines comment the new york stock exchange said santa fe southern pacific corp declined to comment on inquiries regarding the unusual activity in its stock . earlier , analysts and traders said the stock rose sharply after henley group < hen ##g > disclosed in a securities and exchange commission filing that it holds almost eight ml ##n shares in the railroad and real estate conglomerate . the stock was trading at 38 - 3 / 4 , up 2 - 5 / 8 on early afternoon turnover of over one million shares . re ##uter [SEP]\n"
          ]
        },
        {
          "output_type": "stream",
          "name": "stdout",
          "text": [
            "INFO:tensorflow:input_ids: 101 6396 3366 2758 4203 10768 1026 16420 2595 1028 26451 7615 1996 2047 2259 4518 3863 2056 4203 10768 2670 3534 13058 6430 2000 7615 2006 27050 4953 1996 5866 4023 1999 2049 4518 1012 3041 1010 18288 1998 13066 2056 1996 4518 3123 9249 2044 20768 2177 1026 21863 2290 1028 21362 1999 1037 12012 1998 3863 3222 15242 2008 2009 4324 2471 2809 19875 2078 6661 1999 1996 4296 1998 2613 3776 22453 1012 1996 4518 2001 6202 2012 4229 1011 1017 1013 1018 1010 2039 1016 1011 1019 1013 1022 2006 2220 5027 20991 1997 2058 2028 2454 6661 1012 2128 19901 102 0 0 0 0 0 0 0 0 0 0 0 0 0 0 0 0 0 0 0 0 0\n"
          ]
        },
        {
          "output_type": "stream",
          "name": "stderr",
          "text": [
            "I0320 01:22:50.932496 139628830963584 <ipython-input-27-fe97ffe00ed6>:412] input_ids: 101 6396 3366 2758 4203 10768 1026 16420 2595 1028 26451 7615 1996 2047 2259 4518 3863 2056 4203 10768 2670 3534 13058 6430 2000 7615 2006 27050 4953 1996 5866 4023 1999 2049 4518 1012 3041 1010 18288 1998 13066 2056 1996 4518 3123 9249 2044 20768 2177 1026 21863 2290 1028 21362 1999 1037 12012 1998 3863 3222 15242 2008 2009 4324 2471 2809 19875 2078 6661 1999 1996 4296 1998 2613 3776 22453 1012 1996 4518 2001 6202 2012 4229 1011 1017 1013 1018 1010 2039 1016 1011 1019 1013 1022 2006 2220 5027 20991 1997 2058 2028 2454 6661 1012 2128 19901 102 0 0 0 0 0 0 0 0 0 0 0 0 0 0 0 0 0 0 0 0 0\n"
          ]
        },
        {
          "output_type": "stream",
          "name": "stdout",
          "text": [
            "INFO:tensorflow:input_mask: 1 1 1 1 1 1 1 1 1 1 1 1 1 1 1 1 1 1 1 1 1 1 1 1 1 1 1 1 1 1 1 1 1 1 1 1 1 1 1 1 1 1 1 1 1 1 1 1 1 1 1 1 1 1 1 1 1 1 1 1 1 1 1 1 1 1 1 1 1 1 1 1 1 1 1 1 1 1 1 1 1 1 1 1 1 1 1 1 1 1 1 1 1 1 1 1 1 1 1 1 1 1 1 1 1 1 1 0 0 0 0 0 0 0 0 0 0 0 0 0 0 0 0 0 0 0 0 0\n"
          ]
        },
        {
          "output_type": "stream",
          "name": "stderr",
          "text": [
            "I0320 01:22:50.935644 139628830963584 <ipython-input-27-fe97ffe00ed6>:413] input_mask: 1 1 1 1 1 1 1 1 1 1 1 1 1 1 1 1 1 1 1 1 1 1 1 1 1 1 1 1 1 1 1 1 1 1 1 1 1 1 1 1 1 1 1 1 1 1 1 1 1 1 1 1 1 1 1 1 1 1 1 1 1 1 1 1 1 1 1 1 1 1 1 1 1 1 1 1 1 1 1 1 1 1 1 1 1 1 1 1 1 1 1 1 1 1 1 1 1 1 1 1 1 1 1 1 1 1 1 0 0 0 0 0 0 0 0 0 0 0 0 0 0 0 0 0 0 0 0 0\n"
          ]
        },
        {
          "output_type": "stream",
          "name": "stdout",
          "text": [
            "INFO:tensorflow:segment_ids: 0 0 0 0 0 0 0 0 0 0 0 0 0 0 0 0 0 0 0 0 0 0 0 0 0 0 0 0 0 0 0 0 0 0 0 0 0 0 0 0 0 0 0 0 0 0 0 0 0 0 0 0 0 0 0 0 0 0 0 0 0 0 0 0 0 0 0 0 0 0 0 0 0 0 0 0 0 0 0 0 0 0 0 0 0 0 0 0 0 0 0 0 0 0 0 0 0 0 0 0 0 0 0 0 0 0 0 0 0 0 0 0 0 0 0 0 0 0 0 0 0 0 0 0 0 0 0 0\n"
          ]
        },
        {
          "output_type": "stream",
          "name": "stderr",
          "text": [
            "I0320 01:22:50.942779 139628830963584 <ipython-input-27-fe97ffe00ed6>:414] segment_ids: 0 0 0 0 0 0 0 0 0 0 0 0 0 0 0 0 0 0 0 0 0 0 0 0 0 0 0 0 0 0 0 0 0 0 0 0 0 0 0 0 0 0 0 0 0 0 0 0 0 0 0 0 0 0 0 0 0 0 0 0 0 0 0 0 0 0 0 0 0 0 0 0 0 0 0 0 0 0 0 0 0 0 0 0 0 0 0 0 0 0 0 0 0 0 0 0 0 0 0 0 0 0 0 0 0 0 0 0 0 0 0 0 0 0 0 0 0 0 0 0 0 0 0 0 0 0 0 0\n"
          ]
        },
        {
          "output_type": "stream",
          "name": "stdout",
          "text": [
            "INFO:tensorflow:label: ['usa', 'other'] (id = [1, 1, 0, 0, 0, 0, 0, 0, 0, 0, 0, 0, 0, 0, 0, 0, 0, 0, 0, 0, 0, 0, 0, 0, 0, 0, 0, 0, 0, 0, 0, 0, 0, 0, 0, 0, 0, 0, 0, 0, 0, 0, 0, 0, 0, 0, 0, 0, 0, 0, 0])\n"
          ]
        },
        {
          "output_type": "stream",
          "name": "stderr",
          "text": [
            "I0320 01:22:50.946356 139628830963584 <ipython-input-27-fe97ffe00ed6>:415] label: ['usa', 'other'] (id = [1, 1, 0, 0, 0, 0, 0, 0, 0, 0, 0, 0, 0, 0, 0, 0, 0, 0, 0, 0, 0, 0, 0, 0, 0, 0, 0, 0, 0, 0, 0, 0, 0, 0, 0, 0, 0, 0, 0, 0, 0, 0, 0, 0, 0, 0, 0, 0, 0, 0, 0])\n"
          ]
        },
        {
          "output_type": "stream",
          "name": "stdout",
          "text": [
            "INFO:tensorflow:*** Example ***\n"
          ]
        },
        {
          "output_type": "stream",
          "name": "stderr",
          "text": [
            "I0320 01:22:50.953201 139628830963584 <ipython-input-27-fe97ffe00ed6>:408] *** Example ***\n"
          ]
        },
        {
          "output_type": "stream",
          "name": "stdout",
          "text": [
            "INFO:tensorflow:guid: dev-3\n"
          ]
        },
        {
          "output_type": "stream",
          "name": "stderr",
          "text": [
            "I0320 01:22:50.957401 139628830963584 <ipython-input-27-fe97ffe00ed6>:409] guid: dev-3\n"
          ]
        },
        {
          "output_type": "stream",
          "name": "stdout",
          "text": [
            "INFO:tensorflow:tokens: [CLS] morgan gu ##aran ##ty joins dealers for bs ##af program morgan gu ##aran ##ty ltd said it has been added to the group of dealers for the euro - commercial paper program for bas ##f corp that was launched last year . the program is for an unspecified amount and is guaranteed by the parent bas ##f ag . the other dealers are union bank of switzerland and morgan stanley international . re ##uter [SEP]\n"
          ]
        },
        {
          "output_type": "stream",
          "name": "stderr",
          "text": [
            "I0320 01:22:50.960174 139628830963584 <ipython-input-27-fe97ffe00ed6>:411] tokens: [CLS] morgan gu ##aran ##ty joins dealers for bs ##af program morgan gu ##aran ##ty ltd said it has been added to the group of dealers for the euro - commercial paper program for bas ##f corp that was launched last year . the program is for an unspecified amount and is guaranteed by the parent bas ##f ag . the other dealers are union bank of switzerland and morgan stanley international . re ##uter [SEP]\n"
          ]
        },
        {
          "output_type": "stream",
          "name": "stdout",
          "text": [
            "INFO:tensorflow:input_ids: 101 5253 19739 20486 3723 9794 16743 2005 18667 10354 2565 5253 19739 20486 3723 5183 2056 2009 2038 2042 2794 2000 1996 2177 1997 16743 2005 1996 9944 1011 3293 3259 2565 2005 19021 2546 13058 2008 2001 3390 2197 2095 1012 1996 2565 2003 2005 2019 25851 3815 1998 2003 12361 2011 1996 6687 19021 2546 12943 1012 1996 2060 16743 2024 2586 2924 1997 5288 1998 5253 6156 2248 1012 2128 19901 102 0 0 0 0 0 0 0 0 0 0 0 0 0 0 0 0 0 0 0 0 0 0 0 0 0 0 0 0 0 0 0 0 0 0 0 0 0 0 0 0 0 0 0 0 0 0 0 0 0 0 0 0\n"
          ]
        },
        {
          "output_type": "stream",
          "name": "stderr",
          "text": [
            "I0320 01:22:50.963358 139628830963584 <ipython-input-27-fe97ffe00ed6>:412] input_ids: 101 5253 19739 20486 3723 9794 16743 2005 18667 10354 2565 5253 19739 20486 3723 5183 2056 2009 2038 2042 2794 2000 1996 2177 1997 16743 2005 1996 9944 1011 3293 3259 2565 2005 19021 2546 13058 2008 2001 3390 2197 2095 1012 1996 2565 2003 2005 2019 25851 3815 1998 2003 12361 2011 1996 6687 19021 2546 12943 1012 1996 2060 16743 2024 2586 2924 1997 5288 1998 5253 6156 2248 1012 2128 19901 102 0 0 0 0 0 0 0 0 0 0 0 0 0 0 0 0 0 0 0 0 0 0 0 0 0 0 0 0 0 0 0 0 0 0 0 0 0 0 0 0 0 0 0 0 0 0 0 0 0 0 0 0\n"
          ]
        },
        {
          "output_type": "stream",
          "name": "stdout",
          "text": [
            "INFO:tensorflow:input_mask: 1 1 1 1 1 1 1 1 1 1 1 1 1 1 1 1 1 1 1 1 1 1 1 1 1 1 1 1 1 1 1 1 1 1 1 1 1 1 1 1 1 1 1 1 1 1 1 1 1 1 1 1 1 1 1 1 1 1 1 1 1 1 1 1 1 1 1 1 1 1 1 1 1 1 1 1 0 0 0 0 0 0 0 0 0 0 0 0 0 0 0 0 0 0 0 0 0 0 0 0 0 0 0 0 0 0 0 0 0 0 0 0 0 0 0 0 0 0 0 0 0 0 0 0 0 0 0 0\n"
          ]
        },
        {
          "output_type": "stream",
          "name": "stderr",
          "text": [
            "I0320 01:22:50.966960 139628830963584 <ipython-input-27-fe97ffe00ed6>:413] input_mask: 1 1 1 1 1 1 1 1 1 1 1 1 1 1 1 1 1 1 1 1 1 1 1 1 1 1 1 1 1 1 1 1 1 1 1 1 1 1 1 1 1 1 1 1 1 1 1 1 1 1 1 1 1 1 1 1 1 1 1 1 1 1 1 1 1 1 1 1 1 1 1 1 1 1 1 1 0 0 0 0 0 0 0 0 0 0 0 0 0 0 0 0 0 0 0 0 0 0 0 0 0 0 0 0 0 0 0 0 0 0 0 0 0 0 0 0 0 0 0 0 0 0 0 0 0 0 0 0\n"
          ]
        },
        {
          "output_type": "stream",
          "name": "stdout",
          "text": [
            "INFO:tensorflow:segment_ids: 0 0 0 0 0 0 0 0 0 0 0 0 0 0 0 0 0 0 0 0 0 0 0 0 0 0 0 0 0 0 0 0 0 0 0 0 0 0 0 0 0 0 0 0 0 0 0 0 0 0 0 0 0 0 0 0 0 0 0 0 0 0 0 0 0 0 0 0 0 0 0 0 0 0 0 0 0 0 0 0 0 0 0 0 0 0 0 0 0 0 0 0 0 0 0 0 0 0 0 0 0 0 0 0 0 0 0 0 0 0 0 0 0 0 0 0 0 0 0 0 0 0 0 0 0 0 0 0\n"
          ]
        },
        {
          "output_type": "stream",
          "name": "stderr",
          "text": [
            "I0320 01:22:50.970228 139628830963584 <ipython-input-27-fe97ffe00ed6>:414] segment_ids: 0 0 0 0 0 0 0 0 0 0 0 0 0 0 0 0 0 0 0 0 0 0 0 0 0 0 0 0 0 0 0 0 0 0 0 0 0 0 0 0 0 0 0 0 0 0 0 0 0 0 0 0 0 0 0 0 0 0 0 0 0 0 0 0 0 0 0 0 0 0 0 0 0 0 0 0 0 0 0 0 0 0 0 0 0 0 0 0 0 0 0 0 0 0 0 0 0 0 0 0 0 0 0 0 0 0 0 0 0 0 0 0 0 0 0 0 0 0 0 0 0 0 0 0 0 0 0 0\n"
          ]
        },
        {
          "output_type": "stream",
          "name": "stdout",
          "text": [
            "INFO:tensorflow:label: ['uk'] (id = [0, 0, 0, 0, 0, 0, 0, 0, 0, 0, 0, 0, 0, 0, 0, 1, 0, 0, 0, 0, 0, 0, 0, 0, 0, 0, 0, 0, 0, 0, 0, 0, 0, 0, 0, 0, 0, 0, 0, 0, 0, 0, 0, 0, 0, 0, 0, 0, 0, 0, 0])\n"
          ]
        },
        {
          "output_type": "stream",
          "name": "stderr",
          "text": [
            "I0320 01:22:50.973474 139628830963584 <ipython-input-27-fe97ffe00ed6>:415] label: ['uk'] (id = [0, 0, 0, 0, 0, 0, 0, 0, 0, 0, 0, 0, 0, 0, 0, 1, 0, 0, 0, 0, 0, 0, 0, 0, 0, 0, 0, 0, 0, 0, 0, 0, 0, 0, 0, 0, 0, 0, 0, 0, 0, 0, 0, 0, 0, 0, 0, 0, 0, 0, 0])\n"
          ]
        },
        {
          "output_type": "stream",
          "name": "stdout",
          "text": [
            "INFO:tensorflow:*** Example ***\n"
          ]
        },
        {
          "output_type": "stream",
          "name": "stderr",
          "text": [
            "I0320 01:22:50.981124 139628830963584 <ipython-input-27-fe97ffe00ed6>:408] *** Example ***\n"
          ]
        },
        {
          "output_type": "stream",
          "name": "stdout",
          "text": [
            "INFO:tensorflow:guid: dev-4\n"
          ]
        },
        {
          "output_type": "stream",
          "name": "stderr",
          "text": [
            "I0320 01:22:50.984373 139628830963584 <ipython-input-27-fe97ffe00ed6>:409] guid: dev-4\n"
          ]
        },
        {
          "output_type": "stream",
          "name": "stdout",
          "text": [
            "INFO:tensorflow:tokens: [CLS] japan line selling tanker ##s and bulk ##ers major tanker operator , japan line ltd < j ##lit . t > , is selling 20 v ##lc ##cs and several bulk carriers for scrap or further trading , industry sources said . the tanker disposal ##s include japan orchid ( 231 , 72 ##2 d ##wt ) , japan lu ##pin ##us ( 233 , 64 ##1 d ##wt ) , sovereign ( 233 , 313 d ##wt ) , rose ##bay ( 274 , 53 ##1 d ##wt ) , sa ##ff ##ron ( 268 , 03 ##8 d ##wt ) and cattle ##ya ( 267 , 80 ##7 d ##wt ) , all of which have been reported on the london sale and purchase [SEP]\n"
          ]
        },
        {
          "output_type": "stream",
          "name": "stderr",
          "text": [
            "I0320 01:22:50.987477 139628830963584 <ipython-input-27-fe97ffe00ed6>:411] tokens: [CLS] japan line selling tanker ##s and bulk ##ers major tanker operator , japan line ltd < j ##lit . t > , is selling 20 v ##lc ##cs and several bulk carriers for scrap or further trading , industry sources said . the tanker disposal ##s include japan orchid ( 231 , 72 ##2 d ##wt ) , japan lu ##pin ##us ( 233 , 64 ##1 d ##wt ) , sovereign ( 233 , 313 d ##wt ) , rose ##bay ( 274 , 53 ##1 d ##wt ) , sa ##ff ##ron ( 268 , 03 ##8 d ##wt ) and cattle ##ya ( 267 , 80 ##7 d ##wt ) , all of which have been reported on the london sale and purchase [SEP]\n"
          ]
        },
        {
          "output_type": "stream",
          "name": "stdout",
          "text": [
            "INFO:tensorflow:input_ids: 101 2900 2240 4855 20135 2015 1998 9625 2545 2350 20135 6872 1010 2900 2240 5183 1026 1046 15909 1012 1056 1028 1010 2003 4855 2322 1058 15472 6169 1998 2195 9625 11363 2005 15121 2030 2582 6202 1010 3068 4216 2056 1012 1996 20135 13148 2015 2421 2900 15573 1006 20304 1010 5824 2475 1040 26677 1007 1010 2900 11320 8091 2271 1006 22115 1010 4185 2487 1040 26677 1007 1010 11074 1006 22115 1010 22997 1040 26677 1007 1010 3123 15907 1006 25586 1010 5187 2487 1040 26677 1007 1010 7842 4246 4948 1006 25143 1010 6021 2620 1040 26677 1007 1998 7125 3148 1006 25491 1010 3770 2581 1040 26677 1007 1010 2035 1997 2029 2031 2042 2988 2006 1996 2414 5096 1998 5309 102\n"
          ]
        },
        {
          "output_type": "stream",
          "name": "stderr",
          "text": [
            "I0320 01:22:50.990699 139628830963584 <ipython-input-27-fe97ffe00ed6>:412] input_ids: 101 2900 2240 4855 20135 2015 1998 9625 2545 2350 20135 6872 1010 2900 2240 5183 1026 1046 15909 1012 1056 1028 1010 2003 4855 2322 1058 15472 6169 1998 2195 9625 11363 2005 15121 2030 2582 6202 1010 3068 4216 2056 1012 1996 20135 13148 2015 2421 2900 15573 1006 20304 1010 5824 2475 1040 26677 1007 1010 2900 11320 8091 2271 1006 22115 1010 4185 2487 1040 26677 1007 1010 11074 1006 22115 1010 22997 1040 26677 1007 1010 3123 15907 1006 25586 1010 5187 2487 1040 26677 1007 1010 7842 4246 4948 1006 25143 1010 6021 2620 1040 26677 1007 1998 7125 3148 1006 25491 1010 3770 2581 1040 26677 1007 1010 2035 1997 2029 2031 2042 2988 2006 1996 2414 5096 1998 5309 102\n"
          ]
        },
        {
          "output_type": "stream",
          "name": "stdout",
          "text": [
            "INFO:tensorflow:input_mask: 1 1 1 1 1 1 1 1 1 1 1 1 1 1 1 1 1 1 1 1 1 1 1 1 1 1 1 1 1 1 1 1 1 1 1 1 1 1 1 1 1 1 1 1 1 1 1 1 1 1 1 1 1 1 1 1 1 1 1 1 1 1 1 1 1 1 1 1 1 1 1 1 1 1 1 1 1 1 1 1 1 1 1 1 1 1 1 1 1 1 1 1 1 1 1 1 1 1 1 1 1 1 1 1 1 1 1 1 1 1 1 1 1 1 1 1 1 1 1 1 1 1 1 1 1 1 1 1\n"
          ]
        },
        {
          "output_type": "stream",
          "name": "stderr",
          "text": [
            "I0320 01:22:50.993895 139628830963584 <ipython-input-27-fe97ffe00ed6>:413] input_mask: 1 1 1 1 1 1 1 1 1 1 1 1 1 1 1 1 1 1 1 1 1 1 1 1 1 1 1 1 1 1 1 1 1 1 1 1 1 1 1 1 1 1 1 1 1 1 1 1 1 1 1 1 1 1 1 1 1 1 1 1 1 1 1 1 1 1 1 1 1 1 1 1 1 1 1 1 1 1 1 1 1 1 1 1 1 1 1 1 1 1 1 1 1 1 1 1 1 1 1 1 1 1 1 1 1 1 1 1 1 1 1 1 1 1 1 1 1 1 1 1 1 1 1 1 1 1 1 1\n"
          ]
        },
        {
          "output_type": "stream",
          "name": "stdout",
          "text": [
            "INFO:tensorflow:segment_ids: 0 0 0 0 0 0 0 0 0 0 0 0 0 0 0 0 0 0 0 0 0 0 0 0 0 0 0 0 0 0 0 0 0 0 0 0 0 0 0 0 0 0 0 0 0 0 0 0 0 0 0 0 0 0 0 0 0 0 0 0 0 0 0 0 0 0 0 0 0 0 0 0 0 0 0 0 0 0 0 0 0 0 0 0 0 0 0 0 0 0 0 0 0 0 0 0 0 0 0 0 0 0 0 0 0 0 0 0 0 0 0 0 0 0 0 0 0 0 0 0 0 0 0 0 0 0 0 0\n"
          ]
        },
        {
          "output_type": "stream",
          "name": "stderr",
          "text": [
            "I0320 01:22:50.996757 139628830963584 <ipython-input-27-fe97ffe00ed6>:414] segment_ids: 0 0 0 0 0 0 0 0 0 0 0 0 0 0 0 0 0 0 0 0 0 0 0 0 0 0 0 0 0 0 0 0 0 0 0 0 0 0 0 0 0 0 0 0 0 0 0 0 0 0 0 0 0 0 0 0 0 0 0 0 0 0 0 0 0 0 0 0 0 0 0 0 0 0 0 0 0 0 0 0 0 0 0 0 0 0 0 0 0 0 0 0 0 0 0 0 0 0 0 0 0 0 0 0 0 0 0 0 0 0 0 0 0 0 0 0 0 0 0 0 0 0 0 0 0 0 0 0\n"
          ]
        },
        {
          "output_type": "stream",
          "name": "stdout",
          "text": [
            "INFO:tensorflow:label: ['ship', 'japan'] (id = [0, 0, 0, 0, 0, 0, 0, 0, 0, 0, 0, 0, 0, 0, 0, 0, 0, 1, 0, 0, 0, 0, 0, 0, 0, 0, 0, 0, 0, 0, 0, 1, 0, 0, 0, 0, 0, 0, 0, 0, 0, 0, 0, 0, 0, 0, 0, 0, 0, 0, 0])\n"
          ]
        },
        {
          "output_type": "stream",
          "name": "stderr",
          "text": [
            "I0320 01:22:50.999615 139628830963584 <ipython-input-27-fe97ffe00ed6>:415] label: ['ship', 'japan'] (id = [0, 0, 0, 0, 0, 0, 0, 0, 0, 0, 0, 0, 0, 0, 0, 0, 0, 1, 0, 0, 0, 0, 0, 0, 0, 0, 0, 0, 0, 0, 0, 1, 0, 0, 0, 0, 0, 0, 0, 0, 0, 0, 0, 0, 0, 0, 0, 0, 0, 0, 0])\n"
          ]
        },
        {
          "output_type": "stream",
          "name": "stdout",
          "text": [
            "INFO:tensorflow:***** Running evaluation *****\n"
          ]
        },
        {
          "output_type": "stream",
          "name": "stderr",
          "text": [
            "I0320 01:23:09.780450 139628830963584 <ipython-input-28-41b5d1afd9f4>:126] ***** Running evaluation *****\n"
          ]
        },
        {
          "output_type": "stream",
          "name": "stdout",
          "text": [
            "INFO:tensorflow:  Num examples = 5915 (5915 actual, 0 padding)\n"
          ]
        },
        {
          "output_type": "stream",
          "name": "stderr",
          "text": [
            "I0320 01:23:09.790834 139628830963584 <ipython-input-28-41b5d1afd9f4>:129]   Num examples = 5915 (5915 actual, 0 padding)\n"
          ]
        },
        {
          "output_type": "stream",
          "name": "stdout",
          "text": [
            "INFO:tensorflow:  Batch size = 8\n"
          ]
        },
        {
          "output_type": "stream",
          "name": "stderr",
          "text": [
            "I0320 01:23:09.799601 139628830963584 <ipython-input-28-41b5d1afd9f4>:130]   Batch size = 8\n"
          ]
        },
        {
          "output_type": "stream",
          "name": "stdout",
          "text": [
            "WARNING:tensorflow:Entity <function file_based_input_fn_builder.<locals>.input_fn.<locals>.<lambda> at 0x7efd59952560> could not be transformed and will be executed as-is. Please report this to the AutoGraph team. When filing the bug, set the verbosity to 10 (on Linux, `export AUTOGRAPH_VERBOSITY=10`) and attach the full output. Cause: module 'gast' has no attribute 'Str'\n"
          ]
        },
        {
          "output_type": "stream",
          "name": "stderr",
          "text": [
            "W0320 01:23:09.847125 139628830963584 ag_logging.py:146] Entity <function file_based_input_fn_builder.<locals>.input_fn.<locals>.<lambda> at 0x7efd59952560> could not be transformed and will be executed as-is. Please report this to the AutoGraph team. When filing the bug, set the verbosity to 10 (on Linux, `export AUTOGRAPH_VERBOSITY=10`) and attach the full output. Cause: module 'gast' has no attribute 'Str'\n"
          ]
        },
        {
          "output_type": "stream",
          "name": "stdout",
          "text": [
            "WARNING: Entity <function file_based_input_fn_builder.<locals>.input_fn.<locals>.<lambda> at 0x7efd59952560> could not be transformed and will be executed as-is. Please report this to the AutoGraph team. When filing the bug, set the verbosity to 10 (on Linux, `export AUTOGRAPH_VERBOSITY=10`) and attach the full output. Cause: module 'gast' has no attribute 'Str'\n",
            "INFO:tensorflow:Calling model_fn.\n"
          ]
        },
        {
          "output_type": "stream",
          "name": "stderr",
          "text": [
            "I0320 01:23:09.889652 139628830963584 estimator.py:1148] Calling model_fn.\n"
          ]
        },
        {
          "output_type": "stream",
          "name": "stdout",
          "text": [
            "INFO:tensorflow:Running eval on CPU\n"
          ]
        },
        {
          "output_type": "stream",
          "name": "stderr",
          "text": [
            "I0320 01:23:09.898937 139628830963584 tpu_estimator.py:3124] Running eval on CPU\n"
          ]
        },
        {
          "output_type": "stream",
          "name": "stdout",
          "text": [
            "INFO:tensorflow:*** Features ***\n"
          ]
        },
        {
          "output_type": "stream",
          "name": "stderr",
          "text": [
            "I0320 01:23:09.901459 139628830963584 <ipython-input-27-fe97ffe00ed6>:212] *** Features ***\n"
          ]
        },
        {
          "output_type": "stream",
          "name": "stdout",
          "text": [
            "INFO:tensorflow:  name = input_ids, shape = (?, 128)\n"
          ]
        },
        {
          "output_type": "stream",
          "name": "stderr",
          "text": [
            "I0320 01:23:09.910560 139628830963584 <ipython-input-27-fe97ffe00ed6>:214]   name = input_ids, shape = (?, 128)\n"
          ]
        },
        {
          "output_type": "stream",
          "name": "stdout",
          "text": [
            "INFO:tensorflow:  name = input_mask, shape = (?, 128)\n"
          ]
        },
        {
          "output_type": "stream",
          "name": "stderr",
          "text": [
            "I0320 01:23:09.916073 139628830963584 <ipython-input-27-fe97ffe00ed6>:214]   name = input_mask, shape = (?, 128)\n"
          ]
        },
        {
          "output_type": "stream",
          "name": "stdout",
          "text": [
            "INFO:tensorflow:  name = is_real_example, shape = (?,)\n"
          ]
        },
        {
          "output_type": "stream",
          "name": "stderr",
          "text": [
            "I0320 01:23:09.921784 139628830963584 <ipython-input-27-fe97ffe00ed6>:214]   name = is_real_example, shape = (?,)\n"
          ]
        },
        {
          "output_type": "stream",
          "name": "stdout",
          "text": [
            "INFO:tensorflow:  name = label_ids, shape = (?, 51)\n"
          ]
        },
        {
          "output_type": "stream",
          "name": "stderr",
          "text": [
            "I0320 01:23:09.927908 139628830963584 <ipython-input-27-fe97ffe00ed6>:214]   name = label_ids, shape = (?, 51)\n"
          ]
        },
        {
          "output_type": "stream",
          "name": "stdout",
          "text": [
            "INFO:tensorflow:  name = segment_ids, shape = (?, 128)\n"
          ]
        },
        {
          "output_type": "stream",
          "name": "stderr",
          "text": [
            "I0320 01:23:09.933209 139628830963584 <ipython-input-27-fe97ffe00ed6>:214]   name = segment_ids, shape = (?, 128)\n"
          ]
        },
        {
          "output_type": "stream",
          "name": "stdout",
          "text": [
            "INFO:tensorflow:**** Trainable Variables ****\n"
          ]
        },
        {
          "output_type": "stream",
          "name": "stderr",
          "text": [
            "I0320 01:23:12.323028 139628830963584 <ipython-input-27-fe97ffe00ed6>:248] **** Trainable Variables ****\n"
          ]
        },
        {
          "output_type": "stream",
          "name": "stdout",
          "text": [
            "INFO:tensorflow:  name = bert/embeddings/word_embeddings:0, shape = (30522, 768)\n"
          ]
        },
        {
          "output_type": "stream",
          "name": "stderr",
          "text": [
            "I0320 01:23:12.327811 139628830963584 <ipython-input-27-fe97ffe00ed6>:254]   name = bert/embeddings/word_embeddings:0, shape = (30522, 768)\n"
          ]
        },
        {
          "output_type": "stream",
          "name": "stdout",
          "text": [
            "INFO:tensorflow:  name = bert/embeddings/token_type_embeddings:0, shape = (2, 768)\n"
          ]
        },
        {
          "output_type": "stream",
          "name": "stderr",
          "text": [
            "I0320 01:23:12.332765 139628830963584 <ipython-input-27-fe97ffe00ed6>:254]   name = bert/embeddings/token_type_embeddings:0, shape = (2, 768)\n"
          ]
        },
        {
          "output_type": "stream",
          "name": "stdout",
          "text": [
            "INFO:tensorflow:  name = bert/embeddings/position_embeddings:0, shape = (512, 768)\n"
          ]
        },
        {
          "output_type": "stream",
          "name": "stderr",
          "text": [
            "I0320 01:23:12.335778 139628830963584 <ipython-input-27-fe97ffe00ed6>:254]   name = bert/embeddings/position_embeddings:0, shape = (512, 768)\n"
          ]
        },
        {
          "output_type": "stream",
          "name": "stdout",
          "text": [
            "INFO:tensorflow:  name = bert/embeddings/LayerNorm/beta:0, shape = (768,)\n"
          ]
        },
        {
          "output_type": "stream",
          "name": "stderr",
          "text": [
            "I0320 01:23:12.340344 139628830963584 <ipython-input-27-fe97ffe00ed6>:254]   name = bert/embeddings/LayerNorm/beta:0, shape = (768,)\n"
          ]
        },
        {
          "output_type": "stream",
          "name": "stdout",
          "text": [
            "INFO:tensorflow:  name = bert/embeddings/LayerNorm/gamma:0, shape = (768,)\n"
          ]
        },
        {
          "output_type": "stream",
          "name": "stderr",
          "text": [
            "I0320 01:23:12.343267 139628830963584 <ipython-input-27-fe97ffe00ed6>:254]   name = bert/embeddings/LayerNorm/gamma:0, shape = (768,)\n"
          ]
        },
        {
          "output_type": "stream",
          "name": "stdout",
          "text": [
            "INFO:tensorflow:  name = bert/encoder/layer_0/attention/self/query/kernel:0, shape = (768, 768)\n"
          ]
        },
        {
          "output_type": "stream",
          "name": "stderr",
          "text": [
            "I0320 01:23:12.346250 139628830963584 <ipython-input-27-fe97ffe00ed6>:254]   name = bert/encoder/layer_0/attention/self/query/kernel:0, shape = (768, 768)\n"
          ]
        },
        {
          "output_type": "stream",
          "name": "stdout",
          "text": [
            "INFO:tensorflow:  name = bert/encoder/layer_0/attention/self/query/bias:0, shape = (768,)\n"
          ]
        },
        {
          "output_type": "stream",
          "name": "stderr",
          "text": [
            "I0320 01:23:12.349172 139628830963584 <ipython-input-27-fe97ffe00ed6>:254]   name = bert/encoder/layer_0/attention/self/query/bias:0, shape = (768,)\n"
          ]
        },
        {
          "output_type": "stream",
          "name": "stdout",
          "text": [
            "INFO:tensorflow:  name = bert/encoder/layer_0/attention/self/key/kernel:0, shape = (768, 768)\n"
          ]
        },
        {
          "output_type": "stream",
          "name": "stderr",
          "text": [
            "I0320 01:23:12.352195 139628830963584 <ipython-input-27-fe97ffe00ed6>:254]   name = bert/encoder/layer_0/attention/self/key/kernel:0, shape = (768, 768)\n"
          ]
        },
        {
          "output_type": "stream",
          "name": "stdout",
          "text": [
            "INFO:tensorflow:  name = bert/encoder/layer_0/attention/self/key/bias:0, shape = (768,)\n"
          ]
        },
        {
          "output_type": "stream",
          "name": "stderr",
          "text": [
            "I0320 01:23:12.355150 139628830963584 <ipython-input-27-fe97ffe00ed6>:254]   name = bert/encoder/layer_0/attention/self/key/bias:0, shape = (768,)\n"
          ]
        },
        {
          "output_type": "stream",
          "name": "stdout",
          "text": [
            "INFO:tensorflow:  name = bert/encoder/layer_0/attention/self/value/kernel:0, shape = (768, 768)\n"
          ]
        },
        {
          "output_type": "stream",
          "name": "stderr",
          "text": [
            "I0320 01:23:12.358107 139628830963584 <ipython-input-27-fe97ffe00ed6>:254]   name = bert/encoder/layer_0/attention/self/value/kernel:0, shape = (768, 768)\n"
          ]
        },
        {
          "output_type": "stream",
          "name": "stdout",
          "text": [
            "INFO:tensorflow:  name = bert/encoder/layer_0/attention/self/value/bias:0, shape = (768,)\n"
          ]
        },
        {
          "output_type": "stream",
          "name": "stderr",
          "text": [
            "I0320 01:23:12.361028 139628830963584 <ipython-input-27-fe97ffe00ed6>:254]   name = bert/encoder/layer_0/attention/self/value/bias:0, shape = (768,)\n"
          ]
        },
        {
          "output_type": "stream",
          "name": "stdout",
          "text": [
            "INFO:tensorflow:  name = bert/encoder/layer_0/attention/output/dense/kernel:0, shape = (768, 768)\n"
          ]
        },
        {
          "output_type": "stream",
          "name": "stderr",
          "text": [
            "I0320 01:23:12.364012 139628830963584 <ipython-input-27-fe97ffe00ed6>:254]   name = bert/encoder/layer_0/attention/output/dense/kernel:0, shape = (768, 768)\n"
          ]
        },
        {
          "output_type": "stream",
          "name": "stdout",
          "text": [
            "INFO:tensorflow:  name = bert/encoder/layer_0/attention/output/dense/bias:0, shape = (768,)\n"
          ]
        },
        {
          "output_type": "stream",
          "name": "stderr",
          "text": [
            "I0320 01:23:12.366929 139628830963584 <ipython-input-27-fe97ffe00ed6>:254]   name = bert/encoder/layer_0/attention/output/dense/bias:0, shape = (768,)\n"
          ]
        },
        {
          "output_type": "stream",
          "name": "stdout",
          "text": [
            "INFO:tensorflow:  name = bert/encoder/layer_0/attention/output/LayerNorm/beta:0, shape = (768,)\n"
          ]
        },
        {
          "output_type": "stream",
          "name": "stderr",
          "text": [
            "I0320 01:23:12.369894 139628830963584 <ipython-input-27-fe97ffe00ed6>:254]   name = bert/encoder/layer_0/attention/output/LayerNorm/beta:0, shape = (768,)\n"
          ]
        },
        {
          "output_type": "stream",
          "name": "stdout",
          "text": [
            "INFO:tensorflow:  name = bert/encoder/layer_0/attention/output/LayerNorm/gamma:0, shape = (768,)\n"
          ]
        },
        {
          "output_type": "stream",
          "name": "stderr",
          "text": [
            "I0320 01:23:12.372810 139628830963584 <ipython-input-27-fe97ffe00ed6>:254]   name = bert/encoder/layer_0/attention/output/LayerNorm/gamma:0, shape = (768,)\n"
          ]
        },
        {
          "output_type": "stream",
          "name": "stdout",
          "text": [
            "INFO:tensorflow:  name = bert/encoder/layer_0/intermediate/dense/kernel:0, shape = (768, 3072)\n"
          ]
        },
        {
          "output_type": "stream",
          "name": "stderr",
          "text": [
            "I0320 01:23:12.375813 139628830963584 <ipython-input-27-fe97ffe00ed6>:254]   name = bert/encoder/layer_0/intermediate/dense/kernel:0, shape = (768, 3072)\n"
          ]
        },
        {
          "output_type": "stream",
          "name": "stdout",
          "text": [
            "INFO:tensorflow:  name = bert/encoder/layer_0/intermediate/dense/bias:0, shape = (3072,)\n"
          ]
        },
        {
          "output_type": "stream",
          "name": "stderr",
          "text": [
            "I0320 01:23:12.378797 139628830963584 <ipython-input-27-fe97ffe00ed6>:254]   name = bert/encoder/layer_0/intermediate/dense/bias:0, shape = (3072,)\n"
          ]
        },
        {
          "output_type": "stream",
          "name": "stdout",
          "text": [
            "INFO:tensorflow:  name = bert/encoder/layer_0/output/dense/kernel:0, shape = (3072, 768)\n"
          ]
        },
        {
          "output_type": "stream",
          "name": "stderr",
          "text": [
            "I0320 01:23:12.381699 139628830963584 <ipython-input-27-fe97ffe00ed6>:254]   name = bert/encoder/layer_0/output/dense/kernel:0, shape = (3072, 768)\n"
          ]
        },
        {
          "output_type": "stream",
          "name": "stdout",
          "text": [
            "INFO:tensorflow:  name = bert/encoder/layer_0/output/dense/bias:0, shape = (768,)\n"
          ]
        },
        {
          "output_type": "stream",
          "name": "stderr",
          "text": [
            "I0320 01:23:12.384685 139628830963584 <ipython-input-27-fe97ffe00ed6>:254]   name = bert/encoder/layer_0/output/dense/bias:0, shape = (768,)\n"
          ]
        },
        {
          "output_type": "stream",
          "name": "stdout",
          "text": [
            "INFO:tensorflow:  name = bert/encoder/layer_0/output/LayerNorm/beta:0, shape = (768,)\n"
          ]
        },
        {
          "output_type": "stream",
          "name": "stderr",
          "text": [
            "I0320 01:23:12.387544 139628830963584 <ipython-input-27-fe97ffe00ed6>:254]   name = bert/encoder/layer_0/output/LayerNorm/beta:0, shape = (768,)\n"
          ]
        },
        {
          "output_type": "stream",
          "name": "stdout",
          "text": [
            "INFO:tensorflow:  name = bert/encoder/layer_0/output/LayerNorm/gamma:0, shape = (768,)\n"
          ]
        },
        {
          "output_type": "stream",
          "name": "stderr",
          "text": [
            "I0320 01:23:12.390724 139628830963584 <ipython-input-27-fe97ffe00ed6>:254]   name = bert/encoder/layer_0/output/LayerNorm/gamma:0, shape = (768,)\n"
          ]
        },
        {
          "output_type": "stream",
          "name": "stdout",
          "text": [
            "INFO:tensorflow:  name = bert/encoder/layer_1/attention/self/query/kernel:0, shape = (768, 768)\n"
          ]
        },
        {
          "output_type": "stream",
          "name": "stderr",
          "text": [
            "I0320 01:23:12.393890 139628830963584 <ipython-input-27-fe97ffe00ed6>:254]   name = bert/encoder/layer_1/attention/self/query/kernel:0, shape = (768, 768)\n"
          ]
        },
        {
          "output_type": "stream",
          "name": "stdout",
          "text": [
            "INFO:tensorflow:  name = bert/encoder/layer_1/attention/self/query/bias:0, shape = (768,)\n"
          ]
        },
        {
          "output_type": "stream",
          "name": "stderr",
          "text": [
            "I0320 01:23:12.396692 139628830963584 <ipython-input-27-fe97ffe00ed6>:254]   name = bert/encoder/layer_1/attention/self/query/bias:0, shape = (768,)\n"
          ]
        },
        {
          "output_type": "stream",
          "name": "stdout",
          "text": [
            "INFO:tensorflow:  name = bert/encoder/layer_1/attention/self/key/kernel:0, shape = (768, 768)\n"
          ]
        },
        {
          "output_type": "stream",
          "name": "stderr",
          "text": [
            "I0320 01:23:12.399493 139628830963584 <ipython-input-27-fe97ffe00ed6>:254]   name = bert/encoder/layer_1/attention/self/key/kernel:0, shape = (768, 768)\n"
          ]
        },
        {
          "output_type": "stream",
          "name": "stdout",
          "text": [
            "INFO:tensorflow:  name = bert/encoder/layer_1/attention/self/key/bias:0, shape = (768,)\n"
          ]
        },
        {
          "output_type": "stream",
          "name": "stderr",
          "text": [
            "I0320 01:23:12.402361 139628830963584 <ipython-input-27-fe97ffe00ed6>:254]   name = bert/encoder/layer_1/attention/self/key/bias:0, shape = (768,)\n"
          ]
        },
        {
          "output_type": "stream",
          "name": "stdout",
          "text": [
            "INFO:tensorflow:  name = bert/encoder/layer_1/attention/self/value/kernel:0, shape = (768, 768)\n"
          ]
        },
        {
          "output_type": "stream",
          "name": "stderr",
          "text": [
            "I0320 01:23:12.405172 139628830963584 <ipython-input-27-fe97ffe00ed6>:254]   name = bert/encoder/layer_1/attention/self/value/kernel:0, shape = (768, 768)\n"
          ]
        },
        {
          "output_type": "stream",
          "name": "stdout",
          "text": [
            "INFO:tensorflow:  name = bert/encoder/layer_1/attention/self/value/bias:0, shape = (768,)\n"
          ]
        },
        {
          "output_type": "stream",
          "name": "stderr",
          "text": [
            "I0320 01:23:12.408028 139628830963584 <ipython-input-27-fe97ffe00ed6>:254]   name = bert/encoder/layer_1/attention/self/value/bias:0, shape = (768,)\n"
          ]
        },
        {
          "output_type": "stream",
          "name": "stdout",
          "text": [
            "INFO:tensorflow:  name = bert/encoder/layer_1/attention/output/dense/kernel:0, shape = (768, 768)\n"
          ]
        },
        {
          "output_type": "stream",
          "name": "stderr",
          "text": [
            "I0320 01:23:12.410862 139628830963584 <ipython-input-27-fe97ffe00ed6>:254]   name = bert/encoder/layer_1/attention/output/dense/kernel:0, shape = (768, 768)\n"
          ]
        },
        {
          "output_type": "stream",
          "name": "stdout",
          "text": [
            "INFO:tensorflow:  name = bert/encoder/layer_1/attention/output/dense/bias:0, shape = (768,)\n"
          ]
        },
        {
          "output_type": "stream",
          "name": "stderr",
          "text": [
            "I0320 01:23:12.413750 139628830963584 <ipython-input-27-fe97ffe00ed6>:254]   name = bert/encoder/layer_1/attention/output/dense/bias:0, shape = (768,)\n"
          ]
        },
        {
          "output_type": "stream",
          "name": "stdout",
          "text": [
            "INFO:tensorflow:  name = bert/encoder/layer_1/attention/output/LayerNorm/beta:0, shape = (768,)\n"
          ]
        },
        {
          "output_type": "stream",
          "name": "stderr",
          "text": [
            "I0320 01:23:12.416700 139628830963584 <ipython-input-27-fe97ffe00ed6>:254]   name = bert/encoder/layer_1/attention/output/LayerNorm/beta:0, shape = (768,)\n"
          ]
        },
        {
          "output_type": "stream",
          "name": "stdout",
          "text": [
            "INFO:tensorflow:  name = bert/encoder/layer_1/attention/output/LayerNorm/gamma:0, shape = (768,)\n"
          ]
        },
        {
          "output_type": "stream",
          "name": "stderr",
          "text": [
            "I0320 01:23:12.419618 139628830963584 <ipython-input-27-fe97ffe00ed6>:254]   name = bert/encoder/layer_1/attention/output/LayerNorm/gamma:0, shape = (768,)\n"
          ]
        },
        {
          "output_type": "stream",
          "name": "stdout",
          "text": [
            "INFO:tensorflow:  name = bert/encoder/layer_1/intermediate/dense/kernel:0, shape = (768, 3072)\n"
          ]
        },
        {
          "output_type": "stream",
          "name": "stderr",
          "text": [
            "I0320 01:23:12.422358 139628830963584 <ipython-input-27-fe97ffe00ed6>:254]   name = bert/encoder/layer_1/intermediate/dense/kernel:0, shape = (768, 3072)\n"
          ]
        },
        {
          "output_type": "stream",
          "name": "stdout",
          "text": [
            "INFO:tensorflow:  name = bert/encoder/layer_1/intermediate/dense/bias:0, shape = (3072,)\n"
          ]
        },
        {
          "output_type": "stream",
          "name": "stderr",
          "text": [
            "I0320 01:23:12.425357 139628830963584 <ipython-input-27-fe97ffe00ed6>:254]   name = bert/encoder/layer_1/intermediate/dense/bias:0, shape = (3072,)\n"
          ]
        },
        {
          "output_type": "stream",
          "name": "stdout",
          "text": [
            "INFO:tensorflow:  name = bert/encoder/layer_1/output/dense/kernel:0, shape = (3072, 768)\n"
          ]
        },
        {
          "output_type": "stream",
          "name": "stderr",
          "text": [
            "I0320 01:23:12.428118 139628830963584 <ipython-input-27-fe97ffe00ed6>:254]   name = bert/encoder/layer_1/output/dense/kernel:0, shape = (3072, 768)\n"
          ]
        },
        {
          "output_type": "stream",
          "name": "stdout",
          "text": [
            "INFO:tensorflow:  name = bert/encoder/layer_1/output/dense/bias:0, shape = (768,)\n"
          ]
        },
        {
          "output_type": "stream",
          "name": "stderr",
          "text": [
            "I0320 01:23:12.431327 139628830963584 <ipython-input-27-fe97ffe00ed6>:254]   name = bert/encoder/layer_1/output/dense/bias:0, shape = (768,)\n"
          ]
        },
        {
          "output_type": "stream",
          "name": "stdout",
          "text": [
            "INFO:tensorflow:  name = bert/encoder/layer_1/output/LayerNorm/beta:0, shape = (768,)\n"
          ]
        },
        {
          "output_type": "stream",
          "name": "stderr",
          "text": [
            "I0320 01:23:12.434077 139628830963584 <ipython-input-27-fe97ffe00ed6>:254]   name = bert/encoder/layer_1/output/LayerNorm/beta:0, shape = (768,)\n"
          ]
        },
        {
          "output_type": "stream",
          "name": "stdout",
          "text": [
            "INFO:tensorflow:  name = bert/encoder/layer_1/output/LayerNorm/gamma:0, shape = (768,)\n"
          ]
        },
        {
          "output_type": "stream",
          "name": "stderr",
          "text": [
            "I0320 01:23:12.436661 139628830963584 <ipython-input-27-fe97ffe00ed6>:254]   name = bert/encoder/layer_1/output/LayerNorm/gamma:0, shape = (768,)\n"
          ]
        },
        {
          "output_type": "stream",
          "name": "stdout",
          "text": [
            "INFO:tensorflow:  name = bert/encoder/layer_2/attention/self/query/kernel:0, shape = (768, 768)\n"
          ]
        },
        {
          "output_type": "stream",
          "name": "stderr",
          "text": [
            "I0320 01:23:12.439396 139628830963584 <ipython-input-27-fe97ffe00ed6>:254]   name = bert/encoder/layer_2/attention/self/query/kernel:0, shape = (768, 768)\n"
          ]
        },
        {
          "output_type": "stream",
          "name": "stdout",
          "text": [
            "INFO:tensorflow:  name = bert/encoder/layer_2/attention/self/query/bias:0, shape = (768,)\n"
          ]
        },
        {
          "output_type": "stream",
          "name": "stderr",
          "text": [
            "I0320 01:23:12.442053 139628830963584 <ipython-input-27-fe97ffe00ed6>:254]   name = bert/encoder/layer_2/attention/self/query/bias:0, shape = (768,)\n"
          ]
        },
        {
          "output_type": "stream",
          "name": "stdout",
          "text": [
            "INFO:tensorflow:  name = bert/encoder/layer_2/attention/self/key/kernel:0, shape = (768, 768)\n"
          ]
        },
        {
          "output_type": "stream",
          "name": "stderr",
          "text": [
            "I0320 01:23:12.444891 139628830963584 <ipython-input-27-fe97ffe00ed6>:254]   name = bert/encoder/layer_2/attention/self/key/kernel:0, shape = (768, 768)\n"
          ]
        },
        {
          "output_type": "stream",
          "name": "stdout",
          "text": [
            "INFO:tensorflow:  name = bert/encoder/layer_2/attention/self/key/bias:0, shape = (768,)\n"
          ]
        },
        {
          "output_type": "stream",
          "name": "stderr",
          "text": [
            "I0320 01:23:12.447672 139628830963584 <ipython-input-27-fe97ffe00ed6>:254]   name = bert/encoder/layer_2/attention/self/key/bias:0, shape = (768,)\n"
          ]
        },
        {
          "output_type": "stream",
          "name": "stdout",
          "text": [
            "INFO:tensorflow:  name = bert/encoder/layer_2/attention/self/value/kernel:0, shape = (768, 768)\n"
          ]
        },
        {
          "output_type": "stream",
          "name": "stderr",
          "text": [
            "I0320 01:23:12.450595 139628830963584 <ipython-input-27-fe97ffe00ed6>:254]   name = bert/encoder/layer_2/attention/self/value/kernel:0, shape = (768, 768)\n"
          ]
        },
        {
          "output_type": "stream",
          "name": "stdout",
          "text": [
            "INFO:tensorflow:  name = bert/encoder/layer_2/attention/self/value/bias:0, shape = (768,)\n"
          ]
        },
        {
          "output_type": "stream",
          "name": "stderr",
          "text": [
            "I0320 01:23:12.453348 139628830963584 <ipython-input-27-fe97ffe00ed6>:254]   name = bert/encoder/layer_2/attention/self/value/bias:0, shape = (768,)\n"
          ]
        },
        {
          "output_type": "stream",
          "name": "stdout",
          "text": [
            "INFO:tensorflow:  name = bert/encoder/layer_2/attention/output/dense/kernel:0, shape = (768, 768)\n"
          ]
        },
        {
          "output_type": "stream",
          "name": "stderr",
          "text": [
            "I0320 01:23:12.456069 139628830963584 <ipython-input-27-fe97ffe00ed6>:254]   name = bert/encoder/layer_2/attention/output/dense/kernel:0, shape = (768, 768)\n"
          ]
        },
        {
          "output_type": "stream",
          "name": "stdout",
          "text": [
            "INFO:tensorflow:  name = bert/encoder/layer_2/attention/output/dense/bias:0, shape = (768,)\n"
          ]
        },
        {
          "output_type": "stream",
          "name": "stderr",
          "text": [
            "I0320 01:23:12.458902 139628830963584 <ipython-input-27-fe97ffe00ed6>:254]   name = bert/encoder/layer_2/attention/output/dense/bias:0, shape = (768,)\n"
          ]
        },
        {
          "output_type": "stream",
          "name": "stdout",
          "text": [
            "INFO:tensorflow:  name = bert/encoder/layer_2/attention/output/LayerNorm/beta:0, shape = (768,)\n"
          ]
        },
        {
          "output_type": "stream",
          "name": "stderr",
          "text": [
            "I0320 01:23:12.461549 139628830963584 <ipython-input-27-fe97ffe00ed6>:254]   name = bert/encoder/layer_2/attention/output/LayerNorm/beta:0, shape = (768,)\n"
          ]
        },
        {
          "output_type": "stream",
          "name": "stdout",
          "text": [
            "INFO:tensorflow:  name = bert/encoder/layer_2/attention/output/LayerNorm/gamma:0, shape = (768,)\n"
          ]
        },
        {
          "output_type": "stream",
          "name": "stderr",
          "text": [
            "I0320 01:23:12.464453 139628830963584 <ipython-input-27-fe97ffe00ed6>:254]   name = bert/encoder/layer_2/attention/output/LayerNorm/gamma:0, shape = (768,)\n"
          ]
        },
        {
          "output_type": "stream",
          "name": "stdout",
          "text": [
            "INFO:tensorflow:  name = bert/encoder/layer_2/intermediate/dense/kernel:0, shape = (768, 3072)\n"
          ]
        },
        {
          "output_type": "stream",
          "name": "stderr",
          "text": [
            "I0320 01:23:12.467204 139628830963584 <ipython-input-27-fe97ffe00ed6>:254]   name = bert/encoder/layer_2/intermediate/dense/kernel:0, shape = (768, 3072)\n"
          ]
        },
        {
          "output_type": "stream",
          "name": "stdout",
          "text": [
            "INFO:tensorflow:  name = bert/encoder/layer_2/intermediate/dense/bias:0, shape = (3072,)\n"
          ]
        },
        {
          "output_type": "stream",
          "name": "stderr",
          "text": [
            "I0320 01:23:12.470004 139628830963584 <ipython-input-27-fe97ffe00ed6>:254]   name = bert/encoder/layer_2/intermediate/dense/bias:0, shape = (3072,)\n"
          ]
        },
        {
          "output_type": "stream",
          "name": "stdout",
          "text": [
            "INFO:tensorflow:  name = bert/encoder/layer_2/output/dense/kernel:0, shape = (3072, 768)\n"
          ]
        },
        {
          "output_type": "stream",
          "name": "stderr",
          "text": [
            "I0320 01:23:12.473107 139628830963584 <ipython-input-27-fe97ffe00ed6>:254]   name = bert/encoder/layer_2/output/dense/kernel:0, shape = (3072, 768)\n"
          ]
        },
        {
          "output_type": "stream",
          "name": "stdout",
          "text": [
            "INFO:tensorflow:  name = bert/encoder/layer_2/output/dense/bias:0, shape = (768,)\n"
          ]
        },
        {
          "output_type": "stream",
          "name": "stderr",
          "text": [
            "I0320 01:23:12.475868 139628830963584 <ipython-input-27-fe97ffe00ed6>:254]   name = bert/encoder/layer_2/output/dense/bias:0, shape = (768,)\n"
          ]
        },
        {
          "output_type": "stream",
          "name": "stdout",
          "text": [
            "INFO:tensorflow:  name = bert/encoder/layer_2/output/LayerNorm/beta:0, shape = (768,)\n"
          ]
        },
        {
          "output_type": "stream",
          "name": "stderr",
          "text": [
            "I0320 01:23:12.478709 139628830963584 <ipython-input-27-fe97ffe00ed6>:254]   name = bert/encoder/layer_2/output/LayerNorm/beta:0, shape = (768,)\n"
          ]
        },
        {
          "output_type": "stream",
          "name": "stdout",
          "text": [
            "INFO:tensorflow:  name = bert/encoder/layer_2/output/LayerNorm/gamma:0, shape = (768,)\n"
          ]
        },
        {
          "output_type": "stream",
          "name": "stderr",
          "text": [
            "I0320 01:23:12.481364 139628830963584 <ipython-input-27-fe97ffe00ed6>:254]   name = bert/encoder/layer_2/output/LayerNorm/gamma:0, shape = (768,)\n"
          ]
        },
        {
          "output_type": "stream",
          "name": "stdout",
          "text": [
            "INFO:tensorflow:  name = bert/encoder/layer_3/attention/self/query/kernel:0, shape = (768, 768)\n"
          ]
        },
        {
          "output_type": "stream",
          "name": "stderr",
          "text": [
            "I0320 01:23:12.484242 139628830963584 <ipython-input-27-fe97ffe00ed6>:254]   name = bert/encoder/layer_3/attention/self/query/kernel:0, shape = (768, 768)\n"
          ]
        },
        {
          "output_type": "stream",
          "name": "stdout",
          "text": [
            "INFO:tensorflow:  name = bert/encoder/layer_3/attention/self/query/bias:0, shape = (768,)\n"
          ]
        },
        {
          "output_type": "stream",
          "name": "stderr",
          "text": [
            "I0320 01:23:12.487061 139628830963584 <ipython-input-27-fe97ffe00ed6>:254]   name = bert/encoder/layer_3/attention/self/query/bias:0, shape = (768,)\n"
          ]
        },
        {
          "output_type": "stream",
          "name": "stdout",
          "text": [
            "INFO:tensorflow:  name = bert/encoder/layer_3/attention/self/key/kernel:0, shape = (768, 768)\n"
          ]
        },
        {
          "output_type": "stream",
          "name": "stderr",
          "text": [
            "I0320 01:23:12.489829 139628830963584 <ipython-input-27-fe97ffe00ed6>:254]   name = bert/encoder/layer_3/attention/self/key/kernel:0, shape = (768, 768)\n"
          ]
        },
        {
          "output_type": "stream",
          "name": "stdout",
          "text": [
            "INFO:tensorflow:  name = bert/encoder/layer_3/attention/self/key/bias:0, shape = (768,)\n"
          ]
        },
        {
          "output_type": "stream",
          "name": "stderr",
          "text": [
            "I0320 01:23:12.492688 139628830963584 <ipython-input-27-fe97ffe00ed6>:254]   name = bert/encoder/layer_3/attention/self/key/bias:0, shape = (768,)\n"
          ]
        },
        {
          "output_type": "stream",
          "name": "stdout",
          "text": [
            "INFO:tensorflow:  name = bert/encoder/layer_3/attention/self/value/kernel:0, shape = (768, 768)\n"
          ]
        },
        {
          "output_type": "stream",
          "name": "stderr",
          "text": [
            "I0320 01:23:12.495389 139628830963584 <ipython-input-27-fe97ffe00ed6>:254]   name = bert/encoder/layer_3/attention/self/value/kernel:0, shape = (768, 768)\n"
          ]
        },
        {
          "output_type": "stream",
          "name": "stdout",
          "text": [
            "INFO:tensorflow:  name = bert/encoder/layer_3/attention/self/value/bias:0, shape = (768,)\n"
          ]
        },
        {
          "output_type": "stream",
          "name": "stderr",
          "text": [
            "I0320 01:23:12.498379 139628830963584 <ipython-input-27-fe97ffe00ed6>:254]   name = bert/encoder/layer_3/attention/self/value/bias:0, shape = (768,)\n"
          ]
        },
        {
          "output_type": "stream",
          "name": "stdout",
          "text": [
            "INFO:tensorflow:  name = bert/encoder/layer_3/attention/output/dense/kernel:0, shape = (768, 768)\n"
          ]
        },
        {
          "output_type": "stream",
          "name": "stderr",
          "text": [
            "I0320 01:23:12.501752 139628830963584 <ipython-input-27-fe97ffe00ed6>:254]   name = bert/encoder/layer_3/attention/output/dense/kernel:0, shape = (768, 768)\n"
          ]
        },
        {
          "output_type": "stream",
          "name": "stdout",
          "text": [
            "INFO:tensorflow:  name = bert/encoder/layer_3/attention/output/dense/bias:0, shape = (768,)\n"
          ]
        },
        {
          "output_type": "stream",
          "name": "stderr",
          "text": [
            "I0320 01:23:12.504852 139628830963584 <ipython-input-27-fe97ffe00ed6>:254]   name = bert/encoder/layer_3/attention/output/dense/bias:0, shape = (768,)\n"
          ]
        },
        {
          "output_type": "stream",
          "name": "stdout",
          "text": [
            "INFO:tensorflow:  name = bert/encoder/layer_3/attention/output/LayerNorm/beta:0, shape = (768,)\n"
          ]
        },
        {
          "output_type": "stream",
          "name": "stderr",
          "text": [
            "I0320 01:23:12.507884 139628830963584 <ipython-input-27-fe97ffe00ed6>:254]   name = bert/encoder/layer_3/attention/output/LayerNorm/beta:0, shape = (768,)\n"
          ]
        },
        {
          "output_type": "stream",
          "name": "stdout",
          "text": [
            "INFO:tensorflow:  name = bert/encoder/layer_3/attention/output/LayerNorm/gamma:0, shape = (768,)\n"
          ]
        },
        {
          "output_type": "stream",
          "name": "stderr",
          "text": [
            "I0320 01:23:12.510977 139628830963584 <ipython-input-27-fe97ffe00ed6>:254]   name = bert/encoder/layer_3/attention/output/LayerNorm/gamma:0, shape = (768,)\n"
          ]
        },
        {
          "output_type": "stream",
          "name": "stdout",
          "text": [
            "INFO:tensorflow:  name = bert/encoder/layer_3/intermediate/dense/kernel:0, shape = (768, 3072)\n"
          ]
        },
        {
          "output_type": "stream",
          "name": "stderr",
          "text": [
            "I0320 01:23:12.514390 139628830963584 <ipython-input-27-fe97ffe00ed6>:254]   name = bert/encoder/layer_3/intermediate/dense/kernel:0, shape = (768, 3072)\n"
          ]
        },
        {
          "output_type": "stream",
          "name": "stdout",
          "text": [
            "INFO:tensorflow:  name = bert/encoder/layer_3/intermediate/dense/bias:0, shape = (3072,)\n"
          ]
        },
        {
          "output_type": "stream",
          "name": "stderr",
          "text": [
            "I0320 01:23:12.517607 139628830963584 <ipython-input-27-fe97ffe00ed6>:254]   name = bert/encoder/layer_3/intermediate/dense/bias:0, shape = (3072,)\n"
          ]
        },
        {
          "output_type": "stream",
          "name": "stdout",
          "text": [
            "INFO:tensorflow:  name = bert/encoder/layer_3/output/dense/kernel:0, shape = (3072, 768)\n"
          ]
        },
        {
          "output_type": "stream",
          "name": "stderr",
          "text": [
            "I0320 01:23:12.520630 139628830963584 <ipython-input-27-fe97ffe00ed6>:254]   name = bert/encoder/layer_3/output/dense/kernel:0, shape = (3072, 768)\n"
          ]
        },
        {
          "output_type": "stream",
          "name": "stdout",
          "text": [
            "INFO:tensorflow:  name = bert/encoder/layer_3/output/dense/bias:0, shape = (768,)\n"
          ]
        },
        {
          "output_type": "stream",
          "name": "stderr",
          "text": [
            "I0320 01:23:12.523806 139628830963584 <ipython-input-27-fe97ffe00ed6>:254]   name = bert/encoder/layer_3/output/dense/bias:0, shape = (768,)\n"
          ]
        },
        {
          "output_type": "stream",
          "name": "stdout",
          "text": [
            "INFO:tensorflow:  name = bert/encoder/layer_3/output/LayerNorm/beta:0, shape = (768,)\n"
          ]
        },
        {
          "output_type": "stream",
          "name": "stderr",
          "text": [
            "I0320 01:23:12.526660 139628830963584 <ipython-input-27-fe97ffe00ed6>:254]   name = bert/encoder/layer_3/output/LayerNorm/beta:0, shape = (768,)\n"
          ]
        },
        {
          "output_type": "stream",
          "name": "stdout",
          "text": [
            "INFO:tensorflow:  name = bert/encoder/layer_3/output/LayerNorm/gamma:0, shape = (768,)\n"
          ]
        },
        {
          "output_type": "stream",
          "name": "stderr",
          "text": [
            "I0320 01:23:12.529591 139628830963584 <ipython-input-27-fe97ffe00ed6>:254]   name = bert/encoder/layer_3/output/LayerNorm/gamma:0, shape = (768,)\n"
          ]
        },
        {
          "output_type": "stream",
          "name": "stdout",
          "text": [
            "INFO:tensorflow:  name = bert/encoder/layer_4/attention/self/query/kernel:0, shape = (768, 768)\n"
          ]
        },
        {
          "output_type": "stream",
          "name": "stderr",
          "text": [
            "I0320 01:23:12.532373 139628830963584 <ipython-input-27-fe97ffe00ed6>:254]   name = bert/encoder/layer_4/attention/self/query/kernel:0, shape = (768, 768)\n"
          ]
        },
        {
          "output_type": "stream",
          "name": "stdout",
          "text": [
            "INFO:tensorflow:  name = bert/encoder/layer_4/attention/self/query/bias:0, shape = (768,)\n"
          ]
        },
        {
          "output_type": "stream",
          "name": "stderr",
          "text": [
            "I0320 01:23:12.535266 139628830963584 <ipython-input-27-fe97ffe00ed6>:254]   name = bert/encoder/layer_4/attention/self/query/bias:0, shape = (768,)\n"
          ]
        },
        {
          "output_type": "stream",
          "name": "stdout",
          "text": [
            "INFO:tensorflow:  name = bert/encoder/layer_4/attention/self/key/kernel:0, shape = (768, 768)\n"
          ]
        },
        {
          "output_type": "stream",
          "name": "stderr",
          "text": [
            "I0320 01:23:12.538169 139628830963584 <ipython-input-27-fe97ffe00ed6>:254]   name = bert/encoder/layer_4/attention/self/key/kernel:0, shape = (768, 768)\n"
          ]
        },
        {
          "output_type": "stream",
          "name": "stdout",
          "text": [
            "INFO:tensorflow:  name = bert/encoder/layer_4/attention/self/key/bias:0, shape = (768,)\n"
          ]
        },
        {
          "output_type": "stream",
          "name": "stderr",
          "text": [
            "I0320 01:23:12.541129 139628830963584 <ipython-input-27-fe97ffe00ed6>:254]   name = bert/encoder/layer_4/attention/self/key/bias:0, shape = (768,)\n"
          ]
        },
        {
          "output_type": "stream",
          "name": "stdout",
          "text": [
            "INFO:tensorflow:  name = bert/encoder/layer_4/attention/self/value/kernel:0, shape = (768, 768)\n"
          ]
        },
        {
          "output_type": "stream",
          "name": "stderr",
          "text": [
            "I0320 01:23:12.544094 139628830963584 <ipython-input-27-fe97ffe00ed6>:254]   name = bert/encoder/layer_4/attention/self/value/kernel:0, shape = (768, 768)\n"
          ]
        },
        {
          "output_type": "stream",
          "name": "stdout",
          "text": [
            "INFO:tensorflow:  name = bert/encoder/layer_4/attention/self/value/bias:0, shape = (768,)\n"
          ]
        },
        {
          "output_type": "stream",
          "name": "stderr",
          "text": [
            "I0320 01:23:12.546908 139628830963584 <ipython-input-27-fe97ffe00ed6>:254]   name = bert/encoder/layer_4/attention/self/value/bias:0, shape = (768,)\n"
          ]
        },
        {
          "output_type": "stream",
          "name": "stdout",
          "text": [
            "INFO:tensorflow:  name = bert/encoder/layer_4/attention/output/dense/kernel:0, shape = (768, 768)\n"
          ]
        },
        {
          "output_type": "stream",
          "name": "stderr",
          "text": [
            "I0320 01:23:12.552952 139628830963584 <ipython-input-27-fe97ffe00ed6>:254]   name = bert/encoder/layer_4/attention/output/dense/kernel:0, shape = (768, 768)\n"
          ]
        },
        {
          "output_type": "stream",
          "name": "stdout",
          "text": [
            "INFO:tensorflow:  name = bert/encoder/layer_4/attention/output/dense/bias:0, shape = (768,)\n"
          ]
        },
        {
          "output_type": "stream",
          "name": "stderr",
          "text": [
            "I0320 01:23:12.555842 139628830963584 <ipython-input-27-fe97ffe00ed6>:254]   name = bert/encoder/layer_4/attention/output/dense/bias:0, shape = (768,)\n"
          ]
        },
        {
          "output_type": "stream",
          "name": "stdout",
          "text": [
            "INFO:tensorflow:  name = bert/encoder/layer_4/attention/output/LayerNorm/beta:0, shape = (768,)\n"
          ]
        },
        {
          "output_type": "stream",
          "name": "stderr",
          "text": [
            "I0320 01:23:12.558809 139628830963584 <ipython-input-27-fe97ffe00ed6>:254]   name = bert/encoder/layer_4/attention/output/LayerNorm/beta:0, shape = (768,)\n"
          ]
        },
        {
          "output_type": "stream",
          "name": "stdout",
          "text": [
            "INFO:tensorflow:  name = bert/encoder/layer_4/attention/output/LayerNorm/gamma:0, shape = (768,)\n"
          ]
        },
        {
          "output_type": "stream",
          "name": "stderr",
          "text": [
            "I0320 01:23:12.561687 139628830963584 <ipython-input-27-fe97ffe00ed6>:254]   name = bert/encoder/layer_4/attention/output/LayerNorm/gamma:0, shape = (768,)\n"
          ]
        },
        {
          "output_type": "stream",
          "name": "stdout",
          "text": [
            "INFO:tensorflow:  name = bert/encoder/layer_4/intermediate/dense/kernel:0, shape = (768, 3072)\n"
          ]
        },
        {
          "output_type": "stream",
          "name": "stderr",
          "text": [
            "I0320 01:23:12.564470 139628830963584 <ipython-input-27-fe97ffe00ed6>:254]   name = bert/encoder/layer_4/intermediate/dense/kernel:0, shape = (768, 3072)\n"
          ]
        },
        {
          "output_type": "stream",
          "name": "stdout",
          "text": [
            "INFO:tensorflow:  name = bert/encoder/layer_4/intermediate/dense/bias:0, shape = (3072,)\n"
          ]
        },
        {
          "output_type": "stream",
          "name": "stderr",
          "text": [
            "I0320 01:23:12.567340 139628830963584 <ipython-input-27-fe97ffe00ed6>:254]   name = bert/encoder/layer_4/intermediate/dense/bias:0, shape = (3072,)\n"
          ]
        },
        {
          "output_type": "stream",
          "name": "stdout",
          "text": [
            "INFO:tensorflow:  name = bert/encoder/layer_4/output/dense/kernel:0, shape = (3072, 768)\n"
          ]
        },
        {
          "output_type": "stream",
          "name": "stderr",
          "text": [
            "I0320 01:23:12.570276 139628830963584 <ipython-input-27-fe97ffe00ed6>:254]   name = bert/encoder/layer_4/output/dense/kernel:0, shape = (3072, 768)\n"
          ]
        },
        {
          "output_type": "stream",
          "name": "stdout",
          "text": [
            "INFO:tensorflow:  name = bert/encoder/layer_4/output/dense/bias:0, shape = (768,)\n"
          ]
        },
        {
          "output_type": "stream",
          "name": "stderr",
          "text": [
            "I0320 01:23:12.573139 139628830963584 <ipython-input-27-fe97ffe00ed6>:254]   name = bert/encoder/layer_4/output/dense/bias:0, shape = (768,)\n"
          ]
        },
        {
          "output_type": "stream",
          "name": "stdout",
          "text": [
            "INFO:tensorflow:  name = bert/encoder/layer_4/output/LayerNorm/beta:0, shape = (768,)\n"
          ]
        },
        {
          "output_type": "stream",
          "name": "stderr",
          "text": [
            "I0320 01:23:12.576096 139628830963584 <ipython-input-27-fe97ffe00ed6>:254]   name = bert/encoder/layer_4/output/LayerNorm/beta:0, shape = (768,)\n"
          ]
        },
        {
          "output_type": "stream",
          "name": "stdout",
          "text": [
            "INFO:tensorflow:  name = bert/encoder/layer_4/output/LayerNorm/gamma:0, shape = (768,)\n"
          ]
        },
        {
          "output_type": "stream",
          "name": "stderr",
          "text": [
            "I0320 01:23:12.578864 139628830963584 <ipython-input-27-fe97ffe00ed6>:254]   name = bert/encoder/layer_4/output/LayerNorm/gamma:0, shape = (768,)\n"
          ]
        },
        {
          "output_type": "stream",
          "name": "stdout",
          "text": [
            "INFO:tensorflow:  name = bert/encoder/layer_5/attention/self/query/kernel:0, shape = (768, 768)\n"
          ]
        },
        {
          "output_type": "stream",
          "name": "stderr",
          "text": [
            "I0320 01:23:12.581822 139628830963584 <ipython-input-27-fe97ffe00ed6>:254]   name = bert/encoder/layer_5/attention/self/query/kernel:0, shape = (768, 768)\n"
          ]
        },
        {
          "output_type": "stream",
          "name": "stdout",
          "text": [
            "INFO:tensorflow:  name = bert/encoder/layer_5/attention/self/query/bias:0, shape = (768,)\n"
          ]
        },
        {
          "output_type": "stream",
          "name": "stderr",
          "text": [
            "I0320 01:23:12.584687 139628830963584 <ipython-input-27-fe97ffe00ed6>:254]   name = bert/encoder/layer_5/attention/self/query/bias:0, shape = (768,)\n"
          ]
        },
        {
          "output_type": "stream",
          "name": "stdout",
          "text": [
            "INFO:tensorflow:  name = bert/encoder/layer_5/attention/self/key/kernel:0, shape = (768, 768)\n"
          ]
        },
        {
          "output_type": "stream",
          "name": "stderr",
          "text": [
            "I0320 01:23:12.587584 139628830963584 <ipython-input-27-fe97ffe00ed6>:254]   name = bert/encoder/layer_5/attention/self/key/kernel:0, shape = (768, 768)\n"
          ]
        },
        {
          "output_type": "stream",
          "name": "stdout",
          "text": [
            "INFO:tensorflow:  name = bert/encoder/layer_5/attention/self/key/bias:0, shape = (768,)\n"
          ]
        },
        {
          "output_type": "stream",
          "name": "stderr",
          "text": [
            "I0320 01:23:12.590532 139628830963584 <ipython-input-27-fe97ffe00ed6>:254]   name = bert/encoder/layer_5/attention/self/key/bias:0, shape = (768,)\n"
          ]
        },
        {
          "output_type": "stream",
          "name": "stdout",
          "text": [
            "INFO:tensorflow:  name = bert/encoder/layer_5/attention/self/value/kernel:0, shape = (768, 768)\n"
          ]
        },
        {
          "output_type": "stream",
          "name": "stderr",
          "text": [
            "I0320 01:23:12.593638 139628830963584 <ipython-input-27-fe97ffe00ed6>:254]   name = bert/encoder/layer_5/attention/self/value/kernel:0, shape = (768, 768)\n"
          ]
        },
        {
          "output_type": "stream",
          "name": "stdout",
          "text": [
            "INFO:tensorflow:  name = bert/encoder/layer_5/attention/self/value/bias:0, shape = (768,)\n"
          ]
        },
        {
          "output_type": "stream",
          "name": "stderr",
          "text": [
            "I0320 01:23:12.596375 139628830963584 <ipython-input-27-fe97ffe00ed6>:254]   name = bert/encoder/layer_5/attention/self/value/bias:0, shape = (768,)\n"
          ]
        },
        {
          "output_type": "stream",
          "name": "stdout",
          "text": [
            "INFO:tensorflow:  name = bert/encoder/layer_5/attention/output/dense/kernel:0, shape = (768, 768)\n"
          ]
        },
        {
          "output_type": "stream",
          "name": "stderr",
          "text": [
            "I0320 01:23:12.599397 139628830963584 <ipython-input-27-fe97ffe00ed6>:254]   name = bert/encoder/layer_5/attention/output/dense/kernel:0, shape = (768, 768)\n"
          ]
        },
        {
          "output_type": "stream",
          "name": "stdout",
          "text": [
            "INFO:tensorflow:  name = bert/encoder/layer_5/attention/output/dense/bias:0, shape = (768,)\n"
          ]
        },
        {
          "output_type": "stream",
          "name": "stderr",
          "text": [
            "I0320 01:23:12.602274 139628830963584 <ipython-input-27-fe97ffe00ed6>:254]   name = bert/encoder/layer_5/attention/output/dense/bias:0, shape = (768,)\n"
          ]
        },
        {
          "output_type": "stream",
          "name": "stdout",
          "text": [
            "INFO:tensorflow:  name = bert/encoder/layer_5/attention/output/LayerNorm/beta:0, shape = (768,)\n"
          ]
        },
        {
          "output_type": "stream",
          "name": "stderr",
          "text": [
            "I0320 01:23:12.605236 139628830963584 <ipython-input-27-fe97ffe00ed6>:254]   name = bert/encoder/layer_5/attention/output/LayerNorm/beta:0, shape = (768,)\n"
          ]
        },
        {
          "output_type": "stream",
          "name": "stdout",
          "text": [
            "INFO:tensorflow:  name = bert/encoder/layer_5/attention/output/LayerNorm/gamma:0, shape = (768,)\n"
          ]
        },
        {
          "output_type": "stream",
          "name": "stderr",
          "text": [
            "I0320 01:23:12.608164 139628830963584 <ipython-input-27-fe97ffe00ed6>:254]   name = bert/encoder/layer_5/attention/output/LayerNorm/gamma:0, shape = (768,)\n"
          ]
        },
        {
          "output_type": "stream",
          "name": "stdout",
          "text": [
            "INFO:tensorflow:  name = bert/encoder/layer_5/intermediate/dense/kernel:0, shape = (768, 3072)\n"
          ]
        },
        {
          "output_type": "stream",
          "name": "stderr",
          "text": [
            "I0320 01:23:12.611051 139628830963584 <ipython-input-27-fe97ffe00ed6>:254]   name = bert/encoder/layer_5/intermediate/dense/kernel:0, shape = (768, 3072)\n"
          ]
        },
        {
          "output_type": "stream",
          "name": "stdout",
          "text": [
            "INFO:tensorflow:  name = bert/encoder/layer_5/intermediate/dense/bias:0, shape = (3072,)\n"
          ]
        },
        {
          "output_type": "stream",
          "name": "stderr",
          "text": [
            "I0320 01:23:12.614077 139628830963584 <ipython-input-27-fe97ffe00ed6>:254]   name = bert/encoder/layer_5/intermediate/dense/bias:0, shape = (3072,)\n"
          ]
        },
        {
          "output_type": "stream",
          "name": "stdout",
          "text": [
            "INFO:tensorflow:  name = bert/encoder/layer_5/output/dense/kernel:0, shape = (3072, 768)\n"
          ]
        },
        {
          "output_type": "stream",
          "name": "stderr",
          "text": [
            "I0320 01:23:12.616935 139628830963584 <ipython-input-27-fe97ffe00ed6>:254]   name = bert/encoder/layer_5/output/dense/kernel:0, shape = (3072, 768)\n"
          ]
        },
        {
          "output_type": "stream",
          "name": "stdout",
          "text": [
            "INFO:tensorflow:  name = bert/encoder/layer_5/output/dense/bias:0, shape = (768,)\n"
          ]
        },
        {
          "output_type": "stream",
          "name": "stderr",
          "text": [
            "I0320 01:23:12.619981 139628830963584 <ipython-input-27-fe97ffe00ed6>:254]   name = bert/encoder/layer_5/output/dense/bias:0, shape = (768,)\n"
          ]
        },
        {
          "output_type": "stream",
          "name": "stdout",
          "text": [
            "INFO:tensorflow:  name = bert/encoder/layer_5/output/LayerNorm/beta:0, shape = (768,)\n"
          ]
        },
        {
          "output_type": "stream",
          "name": "stderr",
          "text": [
            "I0320 01:23:12.622850 139628830963584 <ipython-input-27-fe97ffe00ed6>:254]   name = bert/encoder/layer_5/output/LayerNorm/beta:0, shape = (768,)\n"
          ]
        },
        {
          "output_type": "stream",
          "name": "stdout",
          "text": [
            "INFO:tensorflow:  name = bert/encoder/layer_5/output/LayerNorm/gamma:0, shape = (768,)\n"
          ]
        },
        {
          "output_type": "stream",
          "name": "stderr",
          "text": [
            "I0320 01:23:12.625775 139628830963584 <ipython-input-27-fe97ffe00ed6>:254]   name = bert/encoder/layer_5/output/LayerNorm/gamma:0, shape = (768,)\n"
          ]
        },
        {
          "output_type": "stream",
          "name": "stdout",
          "text": [
            "INFO:tensorflow:  name = bert/encoder/layer_6/attention/self/query/kernel:0, shape = (768, 768)\n"
          ]
        },
        {
          "output_type": "stream",
          "name": "stderr",
          "text": [
            "I0320 01:23:12.628722 139628830963584 <ipython-input-27-fe97ffe00ed6>:254]   name = bert/encoder/layer_6/attention/self/query/kernel:0, shape = (768, 768)\n"
          ]
        },
        {
          "output_type": "stream",
          "name": "stdout",
          "text": [
            "INFO:tensorflow:  name = bert/encoder/layer_6/attention/self/query/bias:0, shape = (768,)\n"
          ]
        },
        {
          "output_type": "stream",
          "name": "stderr",
          "text": [
            "I0320 01:23:12.631607 139628830963584 <ipython-input-27-fe97ffe00ed6>:254]   name = bert/encoder/layer_6/attention/self/query/bias:0, shape = (768,)\n"
          ]
        },
        {
          "output_type": "stream",
          "name": "stdout",
          "text": [
            "INFO:tensorflow:  name = bert/encoder/layer_6/attention/self/key/kernel:0, shape = (768, 768)\n"
          ]
        },
        {
          "output_type": "stream",
          "name": "stderr",
          "text": [
            "I0320 01:23:12.634556 139628830963584 <ipython-input-27-fe97ffe00ed6>:254]   name = bert/encoder/layer_6/attention/self/key/kernel:0, shape = (768, 768)\n"
          ]
        },
        {
          "output_type": "stream",
          "name": "stdout",
          "text": [
            "INFO:tensorflow:  name = bert/encoder/layer_6/attention/self/key/bias:0, shape = (768,)\n"
          ]
        },
        {
          "output_type": "stream",
          "name": "stderr",
          "text": [
            "I0320 01:23:12.637533 139628830963584 <ipython-input-27-fe97ffe00ed6>:254]   name = bert/encoder/layer_6/attention/self/key/bias:0, shape = (768,)\n"
          ]
        },
        {
          "output_type": "stream",
          "name": "stdout",
          "text": [
            "INFO:tensorflow:  name = bert/encoder/layer_6/attention/self/value/kernel:0, shape = (768, 768)\n"
          ]
        },
        {
          "output_type": "stream",
          "name": "stderr",
          "text": [
            "I0320 01:23:12.640507 139628830963584 <ipython-input-27-fe97ffe00ed6>:254]   name = bert/encoder/layer_6/attention/self/value/kernel:0, shape = (768, 768)\n"
          ]
        },
        {
          "output_type": "stream",
          "name": "stdout",
          "text": [
            "INFO:tensorflow:  name = bert/encoder/layer_6/attention/self/value/bias:0, shape = (768,)\n"
          ]
        },
        {
          "output_type": "stream",
          "name": "stderr",
          "text": [
            "I0320 01:23:12.643444 139628830963584 <ipython-input-27-fe97ffe00ed6>:254]   name = bert/encoder/layer_6/attention/self/value/bias:0, shape = (768,)\n"
          ]
        },
        {
          "output_type": "stream",
          "name": "stdout",
          "text": [
            "INFO:tensorflow:  name = bert/encoder/layer_6/attention/output/dense/kernel:0, shape = (768, 768)\n"
          ]
        },
        {
          "output_type": "stream",
          "name": "stderr",
          "text": [
            "I0320 01:23:12.651618 139628830963584 <ipython-input-27-fe97ffe00ed6>:254]   name = bert/encoder/layer_6/attention/output/dense/kernel:0, shape = (768, 768)\n"
          ]
        },
        {
          "output_type": "stream",
          "name": "stdout",
          "text": [
            "INFO:tensorflow:  name = bert/encoder/layer_6/attention/output/dense/bias:0, shape = (768,)\n"
          ]
        },
        {
          "output_type": "stream",
          "name": "stderr",
          "text": [
            "I0320 01:23:12.655122 139628830963584 <ipython-input-27-fe97ffe00ed6>:254]   name = bert/encoder/layer_6/attention/output/dense/bias:0, shape = (768,)\n"
          ]
        },
        {
          "output_type": "stream",
          "name": "stdout",
          "text": [
            "INFO:tensorflow:  name = bert/encoder/layer_6/attention/output/LayerNorm/beta:0, shape = (768,)\n"
          ]
        },
        {
          "output_type": "stream",
          "name": "stderr",
          "text": [
            "I0320 01:23:12.659210 139628830963584 <ipython-input-27-fe97ffe00ed6>:254]   name = bert/encoder/layer_6/attention/output/LayerNorm/beta:0, shape = (768,)\n"
          ]
        },
        {
          "output_type": "stream",
          "name": "stdout",
          "text": [
            "INFO:tensorflow:  name = bert/encoder/layer_6/attention/output/LayerNorm/gamma:0, shape = (768,)\n"
          ]
        },
        {
          "output_type": "stream",
          "name": "stderr",
          "text": [
            "I0320 01:23:12.665798 139628830963584 <ipython-input-27-fe97ffe00ed6>:254]   name = bert/encoder/layer_6/attention/output/LayerNorm/gamma:0, shape = (768,)\n"
          ]
        },
        {
          "output_type": "stream",
          "name": "stdout",
          "text": [
            "INFO:tensorflow:  name = bert/encoder/layer_6/intermediate/dense/kernel:0, shape = (768, 3072)\n"
          ]
        },
        {
          "output_type": "stream",
          "name": "stderr",
          "text": [
            "I0320 01:23:12.671160 139628830963584 <ipython-input-27-fe97ffe00ed6>:254]   name = bert/encoder/layer_6/intermediate/dense/kernel:0, shape = (768, 3072)\n"
          ]
        },
        {
          "output_type": "stream",
          "name": "stdout",
          "text": [
            "INFO:tensorflow:  name = bert/encoder/layer_6/intermediate/dense/bias:0, shape = (3072,)\n"
          ]
        },
        {
          "output_type": "stream",
          "name": "stderr",
          "text": [
            "I0320 01:23:12.676163 139628830963584 <ipython-input-27-fe97ffe00ed6>:254]   name = bert/encoder/layer_6/intermediate/dense/bias:0, shape = (3072,)\n"
          ]
        },
        {
          "output_type": "stream",
          "name": "stdout",
          "text": [
            "INFO:tensorflow:  name = bert/encoder/layer_6/output/dense/kernel:0, shape = (3072, 768)\n"
          ]
        },
        {
          "output_type": "stream",
          "name": "stderr",
          "text": [
            "I0320 01:23:12.681769 139628830963584 <ipython-input-27-fe97ffe00ed6>:254]   name = bert/encoder/layer_6/output/dense/kernel:0, shape = (3072, 768)\n"
          ]
        },
        {
          "output_type": "stream",
          "name": "stdout",
          "text": [
            "INFO:tensorflow:  name = bert/encoder/layer_6/output/dense/bias:0, shape = (768,)\n"
          ]
        },
        {
          "output_type": "stream",
          "name": "stderr",
          "text": [
            "I0320 01:23:12.686287 139628830963584 <ipython-input-27-fe97ffe00ed6>:254]   name = bert/encoder/layer_6/output/dense/bias:0, shape = (768,)\n"
          ]
        },
        {
          "output_type": "stream",
          "name": "stdout",
          "text": [
            "INFO:tensorflow:  name = bert/encoder/layer_6/output/LayerNorm/beta:0, shape = (768,)\n"
          ]
        },
        {
          "output_type": "stream",
          "name": "stderr",
          "text": [
            "I0320 01:23:12.691664 139628830963584 <ipython-input-27-fe97ffe00ed6>:254]   name = bert/encoder/layer_6/output/LayerNorm/beta:0, shape = (768,)\n"
          ]
        },
        {
          "output_type": "stream",
          "name": "stdout",
          "text": [
            "INFO:tensorflow:  name = bert/encoder/layer_6/output/LayerNorm/gamma:0, shape = (768,)\n"
          ]
        },
        {
          "output_type": "stream",
          "name": "stderr",
          "text": [
            "I0320 01:23:12.697321 139628830963584 <ipython-input-27-fe97ffe00ed6>:254]   name = bert/encoder/layer_6/output/LayerNorm/gamma:0, shape = (768,)\n"
          ]
        },
        {
          "output_type": "stream",
          "name": "stdout",
          "text": [
            "INFO:tensorflow:  name = bert/encoder/layer_7/attention/self/query/kernel:0, shape = (768, 768)\n"
          ]
        },
        {
          "output_type": "stream",
          "name": "stderr",
          "text": [
            "I0320 01:23:12.704229 139628830963584 <ipython-input-27-fe97ffe00ed6>:254]   name = bert/encoder/layer_7/attention/self/query/kernel:0, shape = (768, 768)\n"
          ]
        },
        {
          "output_type": "stream",
          "name": "stdout",
          "text": [
            "INFO:tensorflow:  name = bert/encoder/layer_7/attention/self/query/bias:0, shape = (768,)\n"
          ]
        },
        {
          "output_type": "stream",
          "name": "stderr",
          "text": [
            "I0320 01:23:12.707978 139628830963584 <ipython-input-27-fe97ffe00ed6>:254]   name = bert/encoder/layer_7/attention/self/query/bias:0, shape = (768,)\n"
          ]
        },
        {
          "output_type": "stream",
          "name": "stdout",
          "text": [
            "INFO:tensorflow:  name = bert/encoder/layer_7/attention/self/key/kernel:0, shape = (768, 768)\n"
          ]
        },
        {
          "output_type": "stream",
          "name": "stderr",
          "text": [
            "I0320 01:23:12.710905 139628830963584 <ipython-input-27-fe97ffe00ed6>:254]   name = bert/encoder/layer_7/attention/self/key/kernel:0, shape = (768, 768)\n"
          ]
        },
        {
          "output_type": "stream",
          "name": "stdout",
          "text": [
            "INFO:tensorflow:  name = bert/encoder/layer_7/attention/self/key/bias:0, shape = (768,)\n"
          ]
        },
        {
          "output_type": "stream",
          "name": "stderr",
          "text": [
            "I0320 01:23:12.714747 139628830963584 <ipython-input-27-fe97ffe00ed6>:254]   name = bert/encoder/layer_7/attention/self/key/bias:0, shape = (768,)\n"
          ]
        },
        {
          "output_type": "stream",
          "name": "stdout",
          "text": [
            "INFO:tensorflow:  name = bert/encoder/layer_7/attention/self/value/kernel:0, shape = (768, 768)\n"
          ]
        },
        {
          "output_type": "stream",
          "name": "stderr",
          "text": [
            "I0320 01:23:12.717654 139628830963584 <ipython-input-27-fe97ffe00ed6>:254]   name = bert/encoder/layer_7/attention/self/value/kernel:0, shape = (768, 768)\n"
          ]
        },
        {
          "output_type": "stream",
          "name": "stdout",
          "text": [
            "INFO:tensorflow:  name = bert/encoder/layer_7/attention/self/value/bias:0, shape = (768,)\n"
          ]
        },
        {
          "output_type": "stream",
          "name": "stderr",
          "text": [
            "I0320 01:23:12.722368 139628830963584 <ipython-input-27-fe97ffe00ed6>:254]   name = bert/encoder/layer_7/attention/self/value/bias:0, shape = (768,)\n"
          ]
        },
        {
          "output_type": "stream",
          "name": "stdout",
          "text": [
            "INFO:tensorflow:  name = bert/encoder/layer_7/attention/output/dense/kernel:0, shape = (768, 768)\n"
          ]
        },
        {
          "output_type": "stream",
          "name": "stderr",
          "text": [
            "I0320 01:23:12.727941 139628830963584 <ipython-input-27-fe97ffe00ed6>:254]   name = bert/encoder/layer_7/attention/output/dense/kernel:0, shape = (768, 768)\n"
          ]
        },
        {
          "output_type": "stream",
          "name": "stdout",
          "text": [
            "INFO:tensorflow:  name = bert/encoder/layer_7/attention/output/dense/bias:0, shape = (768,)\n"
          ]
        },
        {
          "output_type": "stream",
          "name": "stderr",
          "text": [
            "I0320 01:23:12.733815 139628830963584 <ipython-input-27-fe97ffe00ed6>:254]   name = bert/encoder/layer_7/attention/output/dense/bias:0, shape = (768,)\n"
          ]
        },
        {
          "output_type": "stream",
          "name": "stdout",
          "text": [
            "INFO:tensorflow:  name = bert/encoder/layer_7/attention/output/LayerNorm/beta:0, shape = (768,)\n"
          ]
        },
        {
          "output_type": "stream",
          "name": "stderr",
          "text": [
            "I0320 01:23:12.737953 139628830963584 <ipython-input-27-fe97ffe00ed6>:254]   name = bert/encoder/layer_7/attention/output/LayerNorm/beta:0, shape = (768,)\n"
          ]
        },
        {
          "output_type": "stream",
          "name": "stdout",
          "text": [
            "INFO:tensorflow:  name = bert/encoder/layer_7/attention/output/LayerNorm/gamma:0, shape = (768,)\n"
          ]
        },
        {
          "output_type": "stream",
          "name": "stderr",
          "text": [
            "I0320 01:23:12.742705 139628830963584 <ipython-input-27-fe97ffe00ed6>:254]   name = bert/encoder/layer_7/attention/output/LayerNorm/gamma:0, shape = (768,)\n"
          ]
        },
        {
          "output_type": "stream",
          "name": "stdout",
          "text": [
            "INFO:tensorflow:  name = bert/encoder/layer_7/intermediate/dense/kernel:0, shape = (768, 3072)\n"
          ]
        },
        {
          "output_type": "stream",
          "name": "stderr",
          "text": [
            "I0320 01:23:12.748355 139628830963584 <ipython-input-27-fe97ffe00ed6>:254]   name = bert/encoder/layer_7/intermediate/dense/kernel:0, shape = (768, 3072)\n"
          ]
        },
        {
          "output_type": "stream",
          "name": "stdout",
          "text": [
            "INFO:tensorflow:  name = bert/encoder/layer_7/intermediate/dense/bias:0, shape = (3072,)\n"
          ]
        },
        {
          "output_type": "stream",
          "name": "stderr",
          "text": [
            "I0320 01:23:12.753702 139628830963584 <ipython-input-27-fe97ffe00ed6>:254]   name = bert/encoder/layer_7/intermediate/dense/bias:0, shape = (3072,)\n"
          ]
        },
        {
          "output_type": "stream",
          "name": "stdout",
          "text": [
            "INFO:tensorflow:  name = bert/encoder/layer_7/output/dense/kernel:0, shape = (3072, 768)\n"
          ]
        },
        {
          "output_type": "stream",
          "name": "stderr",
          "text": [
            "I0320 01:23:12.758294 139628830963584 <ipython-input-27-fe97ffe00ed6>:254]   name = bert/encoder/layer_7/output/dense/kernel:0, shape = (3072, 768)\n"
          ]
        },
        {
          "output_type": "stream",
          "name": "stdout",
          "text": [
            "INFO:tensorflow:  name = bert/encoder/layer_7/output/dense/bias:0, shape = (768,)\n"
          ]
        },
        {
          "output_type": "stream",
          "name": "stderr",
          "text": [
            "I0320 01:23:12.764115 139628830963584 <ipython-input-27-fe97ffe00ed6>:254]   name = bert/encoder/layer_7/output/dense/bias:0, shape = (768,)\n"
          ]
        },
        {
          "output_type": "stream",
          "name": "stdout",
          "text": [
            "INFO:tensorflow:  name = bert/encoder/layer_7/output/LayerNorm/beta:0, shape = (768,)\n"
          ]
        },
        {
          "output_type": "stream",
          "name": "stderr",
          "text": [
            "I0320 01:23:12.768231 139628830963584 <ipython-input-27-fe97ffe00ed6>:254]   name = bert/encoder/layer_7/output/LayerNorm/beta:0, shape = (768,)\n"
          ]
        },
        {
          "output_type": "stream",
          "name": "stdout",
          "text": [
            "INFO:tensorflow:  name = bert/encoder/layer_7/output/LayerNorm/gamma:0, shape = (768,)\n"
          ]
        },
        {
          "output_type": "stream",
          "name": "stderr",
          "text": [
            "I0320 01:23:12.773868 139628830963584 <ipython-input-27-fe97ffe00ed6>:254]   name = bert/encoder/layer_7/output/LayerNorm/gamma:0, shape = (768,)\n"
          ]
        },
        {
          "output_type": "stream",
          "name": "stdout",
          "text": [
            "INFO:tensorflow:  name = bert/encoder/layer_8/attention/self/query/kernel:0, shape = (768, 768)\n"
          ]
        },
        {
          "output_type": "stream",
          "name": "stderr",
          "text": [
            "I0320 01:23:12.782504 139628830963584 <ipython-input-27-fe97ffe00ed6>:254]   name = bert/encoder/layer_8/attention/self/query/kernel:0, shape = (768, 768)\n"
          ]
        },
        {
          "output_type": "stream",
          "name": "stdout",
          "text": [
            "INFO:tensorflow:  name = bert/encoder/layer_8/attention/self/query/bias:0, shape = (768,)\n"
          ]
        },
        {
          "output_type": "stream",
          "name": "stderr",
          "text": [
            "I0320 01:23:12.786067 139628830963584 <ipython-input-27-fe97ffe00ed6>:254]   name = bert/encoder/layer_8/attention/self/query/bias:0, shape = (768,)\n"
          ]
        },
        {
          "output_type": "stream",
          "name": "stdout",
          "text": [
            "INFO:tensorflow:  name = bert/encoder/layer_8/attention/self/key/kernel:0, shape = (768, 768)\n"
          ]
        },
        {
          "output_type": "stream",
          "name": "stderr",
          "text": [
            "I0320 01:23:12.789839 139628830963584 <ipython-input-27-fe97ffe00ed6>:254]   name = bert/encoder/layer_8/attention/self/key/kernel:0, shape = (768, 768)\n"
          ]
        },
        {
          "output_type": "stream",
          "name": "stdout",
          "text": [
            "INFO:tensorflow:  name = bert/encoder/layer_8/attention/self/key/bias:0, shape = (768,)\n"
          ]
        },
        {
          "output_type": "stream",
          "name": "stderr",
          "text": [
            "I0320 01:23:12.793515 139628830963584 <ipython-input-27-fe97ffe00ed6>:254]   name = bert/encoder/layer_8/attention/self/key/bias:0, shape = (768,)\n"
          ]
        },
        {
          "output_type": "stream",
          "name": "stdout",
          "text": [
            "INFO:tensorflow:  name = bert/encoder/layer_8/attention/self/value/kernel:0, shape = (768, 768)\n"
          ]
        },
        {
          "output_type": "stream",
          "name": "stderr",
          "text": [
            "I0320 01:23:12.798860 139628830963584 <ipython-input-27-fe97ffe00ed6>:254]   name = bert/encoder/layer_8/attention/self/value/kernel:0, shape = (768, 768)\n"
          ]
        },
        {
          "output_type": "stream",
          "name": "stdout",
          "text": [
            "INFO:tensorflow:  name = bert/encoder/layer_8/attention/self/value/bias:0, shape = (768,)\n"
          ]
        },
        {
          "output_type": "stream",
          "name": "stderr",
          "text": [
            "I0320 01:23:12.806163 139628830963584 <ipython-input-27-fe97ffe00ed6>:254]   name = bert/encoder/layer_8/attention/self/value/bias:0, shape = (768,)\n"
          ]
        },
        {
          "output_type": "stream",
          "name": "stdout",
          "text": [
            "INFO:tensorflow:  name = bert/encoder/layer_8/attention/output/dense/kernel:0, shape = (768, 768)\n"
          ]
        },
        {
          "output_type": "stream",
          "name": "stderr",
          "text": [
            "I0320 01:23:12.809537 139628830963584 <ipython-input-27-fe97ffe00ed6>:254]   name = bert/encoder/layer_8/attention/output/dense/kernel:0, shape = (768, 768)\n"
          ]
        },
        {
          "output_type": "stream",
          "name": "stdout",
          "text": [
            "INFO:tensorflow:  name = bert/encoder/layer_8/attention/output/dense/bias:0, shape = (768,)\n"
          ]
        },
        {
          "output_type": "stream",
          "name": "stderr",
          "text": [
            "I0320 01:23:12.816245 139628830963584 <ipython-input-27-fe97ffe00ed6>:254]   name = bert/encoder/layer_8/attention/output/dense/bias:0, shape = (768,)\n"
          ]
        },
        {
          "output_type": "stream",
          "name": "stdout",
          "text": [
            "INFO:tensorflow:  name = bert/encoder/layer_8/attention/output/LayerNorm/beta:0, shape = (768,)\n"
          ]
        },
        {
          "output_type": "stream",
          "name": "stderr",
          "text": [
            "I0320 01:23:12.820489 139628830963584 <ipython-input-27-fe97ffe00ed6>:254]   name = bert/encoder/layer_8/attention/output/LayerNorm/beta:0, shape = (768,)\n"
          ]
        },
        {
          "output_type": "stream",
          "name": "stdout",
          "text": [
            "INFO:tensorflow:  name = bert/encoder/layer_8/attention/output/LayerNorm/gamma:0, shape = (768,)\n"
          ]
        },
        {
          "output_type": "stream",
          "name": "stderr",
          "text": [
            "I0320 01:23:12.823691 139628830963584 <ipython-input-27-fe97ffe00ed6>:254]   name = bert/encoder/layer_8/attention/output/LayerNorm/gamma:0, shape = (768,)\n"
          ]
        },
        {
          "output_type": "stream",
          "name": "stdout",
          "text": [
            "INFO:tensorflow:  name = bert/encoder/layer_8/intermediate/dense/kernel:0, shape = (768, 3072)\n"
          ]
        },
        {
          "output_type": "stream",
          "name": "stderr",
          "text": [
            "I0320 01:23:12.826945 139628830963584 <ipython-input-27-fe97ffe00ed6>:254]   name = bert/encoder/layer_8/intermediate/dense/kernel:0, shape = (768, 3072)\n"
          ]
        },
        {
          "output_type": "stream",
          "name": "stdout",
          "text": [
            "INFO:tensorflow:  name = bert/encoder/layer_8/intermediate/dense/bias:0, shape = (3072,)\n"
          ]
        },
        {
          "output_type": "stream",
          "name": "stderr",
          "text": [
            "I0320 01:23:12.830271 139628830963584 <ipython-input-27-fe97ffe00ed6>:254]   name = bert/encoder/layer_8/intermediate/dense/bias:0, shape = (3072,)\n"
          ]
        },
        {
          "output_type": "stream",
          "name": "stdout",
          "text": [
            "INFO:tensorflow:  name = bert/encoder/layer_8/output/dense/kernel:0, shape = (3072, 768)\n"
          ]
        },
        {
          "output_type": "stream",
          "name": "stderr",
          "text": [
            "I0320 01:23:12.833893 139628830963584 <ipython-input-27-fe97ffe00ed6>:254]   name = bert/encoder/layer_8/output/dense/kernel:0, shape = (3072, 768)\n"
          ]
        },
        {
          "output_type": "stream",
          "name": "stdout",
          "text": [
            "INFO:tensorflow:  name = bert/encoder/layer_8/output/dense/bias:0, shape = (768,)\n"
          ]
        },
        {
          "output_type": "stream",
          "name": "stderr",
          "text": [
            "I0320 01:23:12.837817 139628830963584 <ipython-input-27-fe97ffe00ed6>:254]   name = bert/encoder/layer_8/output/dense/bias:0, shape = (768,)\n"
          ]
        },
        {
          "output_type": "stream",
          "name": "stdout",
          "text": [
            "INFO:tensorflow:  name = bert/encoder/layer_8/output/LayerNorm/beta:0, shape = (768,)\n"
          ]
        },
        {
          "output_type": "stream",
          "name": "stderr",
          "text": [
            "I0320 01:23:12.841550 139628830963584 <ipython-input-27-fe97ffe00ed6>:254]   name = bert/encoder/layer_8/output/LayerNorm/beta:0, shape = (768,)\n"
          ]
        },
        {
          "output_type": "stream",
          "name": "stdout",
          "text": [
            "INFO:tensorflow:  name = bert/encoder/layer_8/output/LayerNorm/gamma:0, shape = (768,)\n"
          ]
        },
        {
          "output_type": "stream",
          "name": "stderr",
          "text": [
            "I0320 01:23:12.845178 139628830963584 <ipython-input-27-fe97ffe00ed6>:254]   name = bert/encoder/layer_8/output/LayerNorm/gamma:0, shape = (768,)\n"
          ]
        },
        {
          "output_type": "stream",
          "name": "stdout",
          "text": [
            "INFO:tensorflow:  name = bert/encoder/layer_9/attention/self/query/kernel:0, shape = (768, 768)\n"
          ]
        },
        {
          "output_type": "stream",
          "name": "stderr",
          "text": [
            "I0320 01:23:12.848635 139628830963584 <ipython-input-27-fe97ffe00ed6>:254]   name = bert/encoder/layer_9/attention/self/query/kernel:0, shape = (768, 768)\n"
          ]
        },
        {
          "output_type": "stream",
          "name": "stdout",
          "text": [
            "INFO:tensorflow:  name = bert/encoder/layer_9/attention/self/query/bias:0, shape = (768,)\n"
          ]
        },
        {
          "output_type": "stream",
          "name": "stderr",
          "text": [
            "I0320 01:23:12.852041 139628830963584 <ipython-input-27-fe97ffe00ed6>:254]   name = bert/encoder/layer_9/attention/self/query/bias:0, shape = (768,)\n"
          ]
        },
        {
          "output_type": "stream",
          "name": "stdout",
          "text": [
            "INFO:tensorflow:  name = bert/encoder/layer_9/attention/self/key/kernel:0, shape = (768, 768)\n"
          ]
        },
        {
          "output_type": "stream",
          "name": "stderr",
          "text": [
            "I0320 01:23:12.855614 139628830963584 <ipython-input-27-fe97ffe00ed6>:254]   name = bert/encoder/layer_9/attention/self/key/kernel:0, shape = (768, 768)\n"
          ]
        },
        {
          "output_type": "stream",
          "name": "stdout",
          "text": [
            "INFO:tensorflow:  name = bert/encoder/layer_9/attention/self/key/bias:0, shape = (768,)\n"
          ]
        },
        {
          "output_type": "stream",
          "name": "stderr",
          "text": [
            "I0320 01:23:12.858871 139628830963584 <ipython-input-27-fe97ffe00ed6>:254]   name = bert/encoder/layer_9/attention/self/key/bias:0, shape = (768,)\n"
          ]
        },
        {
          "output_type": "stream",
          "name": "stdout",
          "text": [
            "INFO:tensorflow:  name = bert/encoder/layer_9/attention/self/value/kernel:0, shape = (768, 768)\n"
          ]
        },
        {
          "output_type": "stream",
          "name": "stderr",
          "text": [
            "I0320 01:23:12.862193 139628830963584 <ipython-input-27-fe97ffe00ed6>:254]   name = bert/encoder/layer_9/attention/self/value/kernel:0, shape = (768, 768)\n"
          ]
        },
        {
          "output_type": "stream",
          "name": "stdout",
          "text": [
            "INFO:tensorflow:  name = bert/encoder/layer_9/attention/self/value/bias:0, shape = (768,)\n"
          ]
        },
        {
          "output_type": "stream",
          "name": "stderr",
          "text": [
            "I0320 01:23:12.865075 139628830963584 <ipython-input-27-fe97ffe00ed6>:254]   name = bert/encoder/layer_9/attention/self/value/bias:0, shape = (768,)\n"
          ]
        },
        {
          "output_type": "stream",
          "name": "stdout",
          "text": [
            "INFO:tensorflow:  name = bert/encoder/layer_9/attention/output/dense/kernel:0, shape = (768, 768)\n"
          ]
        },
        {
          "output_type": "stream",
          "name": "stderr",
          "text": [
            "I0320 01:23:12.868171 139628830963584 <ipython-input-27-fe97ffe00ed6>:254]   name = bert/encoder/layer_9/attention/output/dense/kernel:0, shape = (768, 768)\n"
          ]
        },
        {
          "output_type": "stream",
          "name": "stdout",
          "text": [
            "INFO:tensorflow:  name = bert/encoder/layer_9/attention/output/dense/bias:0, shape = (768,)\n"
          ]
        },
        {
          "output_type": "stream",
          "name": "stderr",
          "text": [
            "I0320 01:23:12.871192 139628830963584 <ipython-input-27-fe97ffe00ed6>:254]   name = bert/encoder/layer_9/attention/output/dense/bias:0, shape = (768,)\n"
          ]
        },
        {
          "output_type": "stream",
          "name": "stdout",
          "text": [
            "INFO:tensorflow:  name = bert/encoder/layer_9/attention/output/LayerNorm/beta:0, shape = (768,)\n"
          ]
        },
        {
          "output_type": "stream",
          "name": "stderr",
          "text": [
            "I0320 01:23:12.874195 139628830963584 <ipython-input-27-fe97ffe00ed6>:254]   name = bert/encoder/layer_9/attention/output/LayerNorm/beta:0, shape = (768,)\n"
          ]
        },
        {
          "output_type": "stream",
          "name": "stdout",
          "text": [
            "INFO:tensorflow:  name = bert/encoder/layer_9/attention/output/LayerNorm/gamma:0, shape = (768,)\n"
          ]
        },
        {
          "output_type": "stream",
          "name": "stderr",
          "text": [
            "I0320 01:23:12.877402 139628830963584 <ipython-input-27-fe97ffe00ed6>:254]   name = bert/encoder/layer_9/attention/output/LayerNorm/gamma:0, shape = (768,)\n"
          ]
        },
        {
          "output_type": "stream",
          "name": "stdout",
          "text": [
            "INFO:tensorflow:  name = bert/encoder/layer_9/intermediate/dense/kernel:0, shape = (768, 3072)\n"
          ]
        },
        {
          "output_type": "stream",
          "name": "stderr",
          "text": [
            "I0320 01:23:12.880727 139628830963584 <ipython-input-27-fe97ffe00ed6>:254]   name = bert/encoder/layer_9/intermediate/dense/kernel:0, shape = (768, 3072)\n"
          ]
        },
        {
          "output_type": "stream",
          "name": "stdout",
          "text": [
            "INFO:tensorflow:  name = bert/encoder/layer_9/intermediate/dense/bias:0, shape = (3072,)\n"
          ]
        },
        {
          "output_type": "stream",
          "name": "stderr",
          "text": [
            "I0320 01:23:12.883997 139628830963584 <ipython-input-27-fe97ffe00ed6>:254]   name = bert/encoder/layer_9/intermediate/dense/bias:0, shape = (3072,)\n"
          ]
        },
        {
          "output_type": "stream",
          "name": "stdout",
          "text": [
            "INFO:tensorflow:  name = bert/encoder/layer_9/output/dense/kernel:0, shape = (3072, 768)\n"
          ]
        },
        {
          "output_type": "stream",
          "name": "stderr",
          "text": [
            "I0320 01:23:12.887487 139628830963584 <ipython-input-27-fe97ffe00ed6>:254]   name = bert/encoder/layer_9/output/dense/kernel:0, shape = (3072, 768)\n"
          ]
        },
        {
          "output_type": "stream",
          "name": "stdout",
          "text": [
            "INFO:tensorflow:  name = bert/encoder/layer_9/output/dense/bias:0, shape = (768,)\n"
          ]
        },
        {
          "output_type": "stream",
          "name": "stderr",
          "text": [
            "I0320 01:23:12.890764 139628830963584 <ipython-input-27-fe97ffe00ed6>:254]   name = bert/encoder/layer_9/output/dense/bias:0, shape = (768,)\n"
          ]
        },
        {
          "output_type": "stream",
          "name": "stdout",
          "text": [
            "INFO:tensorflow:  name = bert/encoder/layer_9/output/LayerNorm/beta:0, shape = (768,)\n"
          ]
        },
        {
          "output_type": "stream",
          "name": "stderr",
          "text": [
            "I0320 01:23:12.894150 139628830963584 <ipython-input-27-fe97ffe00ed6>:254]   name = bert/encoder/layer_9/output/LayerNorm/beta:0, shape = (768,)\n"
          ]
        },
        {
          "output_type": "stream",
          "name": "stdout",
          "text": [
            "INFO:tensorflow:  name = bert/encoder/layer_9/output/LayerNorm/gamma:0, shape = (768,)\n"
          ]
        },
        {
          "output_type": "stream",
          "name": "stderr",
          "text": [
            "I0320 01:23:12.897331 139628830963584 <ipython-input-27-fe97ffe00ed6>:254]   name = bert/encoder/layer_9/output/LayerNorm/gamma:0, shape = (768,)\n"
          ]
        },
        {
          "output_type": "stream",
          "name": "stdout",
          "text": [
            "INFO:tensorflow:  name = bert/encoder/layer_10/attention/self/query/kernel:0, shape = (768, 768)\n"
          ]
        },
        {
          "output_type": "stream",
          "name": "stderr",
          "text": [
            "I0320 01:23:12.900408 139628830963584 <ipython-input-27-fe97ffe00ed6>:254]   name = bert/encoder/layer_10/attention/self/query/kernel:0, shape = (768, 768)\n"
          ]
        },
        {
          "output_type": "stream",
          "name": "stdout",
          "text": [
            "INFO:tensorflow:  name = bert/encoder/layer_10/attention/self/query/bias:0, shape = (768,)\n"
          ]
        },
        {
          "output_type": "stream",
          "name": "stderr",
          "text": [
            "I0320 01:23:12.903663 139628830963584 <ipython-input-27-fe97ffe00ed6>:254]   name = bert/encoder/layer_10/attention/self/query/bias:0, shape = (768,)\n"
          ]
        },
        {
          "output_type": "stream",
          "name": "stdout",
          "text": [
            "INFO:tensorflow:  name = bert/encoder/layer_10/attention/self/key/kernel:0, shape = (768, 768)\n"
          ]
        },
        {
          "output_type": "stream",
          "name": "stderr",
          "text": [
            "I0320 01:23:12.908861 139628830963584 <ipython-input-27-fe97ffe00ed6>:254]   name = bert/encoder/layer_10/attention/self/key/kernel:0, shape = (768, 768)\n"
          ]
        },
        {
          "output_type": "stream",
          "name": "stdout",
          "text": [
            "INFO:tensorflow:  name = bert/encoder/layer_10/attention/self/key/bias:0, shape = (768,)\n"
          ]
        },
        {
          "output_type": "stream",
          "name": "stderr",
          "text": [
            "I0320 01:23:12.913819 139628830963584 <ipython-input-27-fe97ffe00ed6>:254]   name = bert/encoder/layer_10/attention/self/key/bias:0, shape = (768,)\n"
          ]
        },
        {
          "output_type": "stream",
          "name": "stdout",
          "text": [
            "INFO:tensorflow:  name = bert/encoder/layer_10/attention/self/value/kernel:0, shape = (768, 768)\n"
          ]
        },
        {
          "output_type": "stream",
          "name": "stderr",
          "text": [
            "I0320 01:23:12.919499 139628830963584 <ipython-input-27-fe97ffe00ed6>:254]   name = bert/encoder/layer_10/attention/self/value/kernel:0, shape = (768, 768)\n"
          ]
        },
        {
          "output_type": "stream",
          "name": "stdout",
          "text": [
            "INFO:tensorflow:  name = bert/encoder/layer_10/attention/self/value/bias:0, shape = (768,)\n"
          ]
        },
        {
          "output_type": "stream",
          "name": "stderr",
          "text": [
            "I0320 01:23:12.922671 139628830963584 <ipython-input-27-fe97ffe00ed6>:254]   name = bert/encoder/layer_10/attention/self/value/bias:0, shape = (768,)\n"
          ]
        },
        {
          "output_type": "stream",
          "name": "stdout",
          "text": [
            "INFO:tensorflow:  name = bert/encoder/layer_10/attention/output/dense/kernel:0, shape = (768, 768)\n"
          ]
        },
        {
          "output_type": "stream",
          "name": "stderr",
          "text": [
            "I0320 01:23:12.926973 139628830963584 <ipython-input-27-fe97ffe00ed6>:254]   name = bert/encoder/layer_10/attention/output/dense/kernel:0, shape = (768, 768)\n"
          ]
        },
        {
          "output_type": "stream",
          "name": "stdout",
          "text": [
            "INFO:tensorflow:  name = bert/encoder/layer_10/attention/output/dense/bias:0, shape = (768,)\n"
          ]
        },
        {
          "output_type": "stream",
          "name": "stderr",
          "text": [
            "I0320 01:23:12.930465 139628830963584 <ipython-input-27-fe97ffe00ed6>:254]   name = bert/encoder/layer_10/attention/output/dense/bias:0, shape = (768,)\n"
          ]
        },
        {
          "output_type": "stream",
          "name": "stdout",
          "text": [
            "INFO:tensorflow:  name = bert/encoder/layer_10/attention/output/LayerNorm/beta:0, shape = (768,)\n"
          ]
        },
        {
          "output_type": "stream",
          "name": "stderr",
          "text": [
            "I0320 01:23:12.933720 139628830963584 <ipython-input-27-fe97ffe00ed6>:254]   name = bert/encoder/layer_10/attention/output/LayerNorm/beta:0, shape = (768,)\n"
          ]
        },
        {
          "output_type": "stream",
          "name": "stdout",
          "text": [
            "INFO:tensorflow:  name = bert/encoder/layer_10/attention/output/LayerNorm/gamma:0, shape = (768,)\n"
          ]
        },
        {
          "output_type": "stream",
          "name": "stderr",
          "text": [
            "I0320 01:23:12.936924 139628830963584 <ipython-input-27-fe97ffe00ed6>:254]   name = bert/encoder/layer_10/attention/output/LayerNorm/gamma:0, shape = (768,)\n"
          ]
        },
        {
          "output_type": "stream",
          "name": "stdout",
          "text": [
            "INFO:tensorflow:  name = bert/encoder/layer_10/intermediate/dense/kernel:0, shape = (768, 3072)\n"
          ]
        },
        {
          "output_type": "stream",
          "name": "stderr",
          "text": [
            "I0320 01:23:12.940193 139628830963584 <ipython-input-27-fe97ffe00ed6>:254]   name = bert/encoder/layer_10/intermediate/dense/kernel:0, shape = (768, 3072)\n"
          ]
        },
        {
          "output_type": "stream",
          "name": "stdout",
          "text": [
            "INFO:tensorflow:  name = bert/encoder/layer_10/intermediate/dense/bias:0, shape = (3072,)\n"
          ]
        },
        {
          "output_type": "stream",
          "name": "stderr",
          "text": [
            "I0320 01:23:12.943112 139628830963584 <ipython-input-27-fe97ffe00ed6>:254]   name = bert/encoder/layer_10/intermediate/dense/bias:0, shape = (3072,)\n"
          ]
        },
        {
          "output_type": "stream",
          "name": "stdout",
          "text": [
            "INFO:tensorflow:  name = bert/encoder/layer_10/output/dense/kernel:0, shape = (3072, 768)\n"
          ]
        },
        {
          "output_type": "stream",
          "name": "stderr",
          "text": [
            "I0320 01:23:12.947497 139628830963584 <ipython-input-27-fe97ffe00ed6>:254]   name = bert/encoder/layer_10/output/dense/kernel:0, shape = (3072, 768)\n"
          ]
        },
        {
          "output_type": "stream",
          "name": "stdout",
          "text": [
            "INFO:tensorflow:  name = bert/encoder/layer_10/output/dense/bias:0, shape = (768,)\n"
          ]
        },
        {
          "output_type": "stream",
          "name": "stderr",
          "text": [
            "I0320 01:23:12.951815 139628830963584 <ipython-input-27-fe97ffe00ed6>:254]   name = bert/encoder/layer_10/output/dense/bias:0, shape = (768,)\n"
          ]
        },
        {
          "output_type": "stream",
          "name": "stdout",
          "text": [
            "INFO:tensorflow:  name = bert/encoder/layer_10/output/LayerNorm/beta:0, shape = (768,)\n"
          ]
        },
        {
          "output_type": "stream",
          "name": "stderr",
          "text": [
            "I0320 01:23:12.954884 139628830963584 <ipython-input-27-fe97ffe00ed6>:254]   name = bert/encoder/layer_10/output/LayerNorm/beta:0, shape = (768,)\n"
          ]
        },
        {
          "output_type": "stream",
          "name": "stdout",
          "text": [
            "INFO:tensorflow:  name = bert/encoder/layer_10/output/LayerNorm/gamma:0, shape = (768,)\n"
          ]
        },
        {
          "output_type": "stream",
          "name": "stderr",
          "text": [
            "I0320 01:23:12.961155 139628830963584 <ipython-input-27-fe97ffe00ed6>:254]   name = bert/encoder/layer_10/output/LayerNorm/gamma:0, shape = (768,)\n"
          ]
        },
        {
          "output_type": "stream",
          "name": "stdout",
          "text": [
            "INFO:tensorflow:  name = bert/encoder/layer_11/attention/self/query/kernel:0, shape = (768, 768)\n"
          ]
        },
        {
          "output_type": "stream",
          "name": "stderr",
          "text": [
            "I0320 01:23:12.964269 139628830963584 <ipython-input-27-fe97ffe00ed6>:254]   name = bert/encoder/layer_11/attention/self/query/kernel:0, shape = (768, 768)\n"
          ]
        },
        {
          "output_type": "stream",
          "name": "stdout",
          "text": [
            "INFO:tensorflow:  name = bert/encoder/layer_11/attention/self/query/bias:0, shape = (768,)\n"
          ]
        },
        {
          "output_type": "stream",
          "name": "stderr",
          "text": [
            "I0320 01:23:12.967242 139628830963584 <ipython-input-27-fe97ffe00ed6>:254]   name = bert/encoder/layer_11/attention/self/query/bias:0, shape = (768,)\n"
          ]
        },
        {
          "output_type": "stream",
          "name": "stdout",
          "text": [
            "INFO:tensorflow:  name = bert/encoder/layer_11/attention/self/key/kernel:0, shape = (768, 768)\n"
          ]
        },
        {
          "output_type": "stream",
          "name": "stderr",
          "text": [
            "I0320 01:23:12.971191 139628830963584 <ipython-input-27-fe97ffe00ed6>:254]   name = bert/encoder/layer_11/attention/self/key/kernel:0, shape = (768, 768)\n"
          ]
        },
        {
          "output_type": "stream",
          "name": "stdout",
          "text": [
            "INFO:tensorflow:  name = bert/encoder/layer_11/attention/self/key/bias:0, shape = (768,)\n"
          ]
        },
        {
          "output_type": "stream",
          "name": "stderr",
          "text": [
            "I0320 01:23:12.974209 139628830963584 <ipython-input-27-fe97ffe00ed6>:254]   name = bert/encoder/layer_11/attention/self/key/bias:0, shape = (768,)\n"
          ]
        },
        {
          "output_type": "stream",
          "name": "stdout",
          "text": [
            "INFO:tensorflow:  name = bert/encoder/layer_11/attention/self/value/kernel:0, shape = (768, 768)\n"
          ]
        },
        {
          "output_type": "stream",
          "name": "stderr",
          "text": [
            "I0320 01:23:12.979974 139628830963584 <ipython-input-27-fe97ffe00ed6>:254]   name = bert/encoder/layer_11/attention/self/value/kernel:0, shape = (768, 768)\n"
          ]
        },
        {
          "output_type": "stream",
          "name": "stdout",
          "text": [
            "INFO:tensorflow:  name = bert/encoder/layer_11/attention/self/value/bias:0, shape = (768,)\n"
          ]
        },
        {
          "output_type": "stream",
          "name": "stderr",
          "text": [
            "I0320 01:23:12.983013 139628830963584 <ipython-input-27-fe97ffe00ed6>:254]   name = bert/encoder/layer_11/attention/self/value/bias:0, shape = (768,)\n"
          ]
        },
        {
          "output_type": "stream",
          "name": "stdout",
          "text": [
            "INFO:tensorflow:  name = bert/encoder/layer_11/attention/output/dense/kernel:0, shape = (768, 768)\n"
          ]
        },
        {
          "output_type": "stream",
          "name": "stderr",
          "text": [
            "I0320 01:23:12.989499 139628830963584 <ipython-input-27-fe97ffe00ed6>:254]   name = bert/encoder/layer_11/attention/output/dense/kernel:0, shape = (768, 768)\n"
          ]
        },
        {
          "output_type": "stream",
          "name": "stdout",
          "text": [
            "INFO:tensorflow:  name = bert/encoder/layer_11/attention/output/dense/bias:0, shape = (768,)\n"
          ]
        },
        {
          "output_type": "stream",
          "name": "stderr",
          "text": [
            "I0320 01:23:12.992676 139628830963584 <ipython-input-27-fe97ffe00ed6>:254]   name = bert/encoder/layer_11/attention/output/dense/bias:0, shape = (768,)\n"
          ]
        },
        {
          "output_type": "stream",
          "name": "stdout",
          "text": [
            "INFO:tensorflow:  name = bert/encoder/layer_11/attention/output/LayerNorm/beta:0, shape = (768,)\n"
          ]
        },
        {
          "output_type": "stream",
          "name": "stderr",
          "text": [
            "I0320 01:23:12.995747 139628830963584 <ipython-input-27-fe97ffe00ed6>:254]   name = bert/encoder/layer_11/attention/output/LayerNorm/beta:0, shape = (768,)\n"
          ]
        },
        {
          "output_type": "stream",
          "name": "stdout",
          "text": [
            "INFO:tensorflow:  name = bert/encoder/layer_11/attention/output/LayerNorm/gamma:0, shape = (768,)\n"
          ]
        },
        {
          "output_type": "stream",
          "name": "stderr",
          "text": [
            "I0320 01:23:13.000262 139628830963584 <ipython-input-27-fe97ffe00ed6>:254]   name = bert/encoder/layer_11/attention/output/LayerNorm/gamma:0, shape = (768,)\n"
          ]
        },
        {
          "output_type": "stream",
          "name": "stdout",
          "text": [
            "INFO:tensorflow:  name = bert/encoder/layer_11/intermediate/dense/kernel:0, shape = (768, 3072)\n"
          ]
        },
        {
          "output_type": "stream",
          "name": "stderr",
          "text": [
            "I0320 01:23:13.008476 139628830963584 <ipython-input-27-fe97ffe00ed6>:254]   name = bert/encoder/layer_11/intermediate/dense/kernel:0, shape = (768, 3072)\n"
          ]
        },
        {
          "output_type": "stream",
          "name": "stdout",
          "text": [
            "INFO:tensorflow:  name = bert/encoder/layer_11/intermediate/dense/bias:0, shape = (3072,)\n"
          ]
        },
        {
          "output_type": "stream",
          "name": "stderr",
          "text": [
            "I0320 01:23:13.011684 139628830963584 <ipython-input-27-fe97ffe00ed6>:254]   name = bert/encoder/layer_11/intermediate/dense/bias:0, shape = (3072,)\n"
          ]
        },
        {
          "output_type": "stream",
          "name": "stdout",
          "text": [
            "INFO:tensorflow:  name = bert/encoder/layer_11/output/dense/kernel:0, shape = (3072, 768)\n"
          ]
        },
        {
          "output_type": "stream",
          "name": "stderr",
          "text": [
            "I0320 01:23:13.014773 139628830963584 <ipython-input-27-fe97ffe00ed6>:254]   name = bert/encoder/layer_11/output/dense/kernel:0, shape = (3072, 768)\n"
          ]
        },
        {
          "output_type": "stream",
          "name": "stdout",
          "text": [
            "INFO:tensorflow:  name = bert/encoder/layer_11/output/dense/bias:0, shape = (768,)\n"
          ]
        },
        {
          "output_type": "stream",
          "name": "stderr",
          "text": [
            "I0320 01:23:13.019311 139628830963584 <ipython-input-27-fe97ffe00ed6>:254]   name = bert/encoder/layer_11/output/dense/bias:0, shape = (768,)\n"
          ]
        },
        {
          "output_type": "stream",
          "name": "stdout",
          "text": [
            "INFO:tensorflow:  name = bert/encoder/layer_11/output/LayerNorm/beta:0, shape = (768,)\n"
          ]
        },
        {
          "output_type": "stream",
          "name": "stderr",
          "text": [
            "I0320 01:23:13.022397 139628830963584 <ipython-input-27-fe97ffe00ed6>:254]   name = bert/encoder/layer_11/output/LayerNorm/beta:0, shape = (768,)\n"
          ]
        },
        {
          "output_type": "stream",
          "name": "stdout",
          "text": [
            "INFO:tensorflow:  name = bert/encoder/layer_11/output/LayerNorm/gamma:0, shape = (768,)\n"
          ]
        },
        {
          "output_type": "stream",
          "name": "stderr",
          "text": [
            "I0320 01:23:13.025350 139628830963584 <ipython-input-27-fe97ffe00ed6>:254]   name = bert/encoder/layer_11/output/LayerNorm/gamma:0, shape = (768,)\n"
          ]
        },
        {
          "output_type": "stream",
          "name": "stdout",
          "text": [
            "INFO:tensorflow:  name = bert/pooler/dense/kernel:0, shape = (768, 768)\n"
          ]
        },
        {
          "output_type": "stream",
          "name": "stderr",
          "text": [
            "I0320 01:23:13.028673 139628830963584 <ipython-input-27-fe97ffe00ed6>:254]   name = bert/pooler/dense/kernel:0, shape = (768, 768)\n"
          ]
        },
        {
          "output_type": "stream",
          "name": "stdout",
          "text": [
            "INFO:tensorflow:  name = bert/pooler/dense/bias:0, shape = (768,)\n"
          ]
        },
        {
          "output_type": "stream",
          "name": "stderr",
          "text": [
            "I0320 01:23:13.031504 139628830963584 <ipython-input-27-fe97ffe00ed6>:254]   name = bert/pooler/dense/bias:0, shape = (768,)\n"
          ]
        },
        {
          "output_type": "stream",
          "name": "stdout",
          "text": [
            "INFO:tensorflow:  name = output_weights:0, shape = (51, 768)\n"
          ]
        },
        {
          "output_type": "stream",
          "name": "stderr",
          "text": [
            "I0320 01:23:13.034888 139628830963584 <ipython-input-27-fe97ffe00ed6>:254]   name = output_weights:0, shape = (51, 768)\n"
          ]
        },
        {
          "output_type": "stream",
          "name": "stdout",
          "text": [
            "INFO:tensorflow:  name = output_bias:0, shape = (51,)\n"
          ]
        },
        {
          "output_type": "stream",
          "name": "stderr",
          "text": [
            "I0320 01:23:13.037877 139628830963584 <ipython-input-27-fe97ffe00ed6>:254]   name = output_bias:0, shape = (51,)\n"
          ]
        },
        {
          "output_type": "stream",
          "name": "stdout",
          "text": [
            "INFO:tensorflow:Done calling model_fn.\n"
          ]
        },
        {
          "output_type": "stream",
          "name": "stderr",
          "text": [
            "I0320 01:23:13.588951 139628830963584 estimator.py:1150] Done calling model_fn.\n"
          ]
        },
        {
          "output_type": "stream",
          "name": "stdout",
          "text": [
            "INFO:tensorflow:Starting evaluation at 2022-03-20T01:23:13Z\n"
          ]
        },
        {
          "output_type": "stream",
          "name": "stderr",
          "text": [
            "I0320 01:23:13.691443 139628830963584 evaluation.py:255] Starting evaluation at 2022-03-20T01:23:13Z\n"
          ]
        },
        {
          "output_type": "stream",
          "name": "stdout",
          "text": [
            "INFO:tensorflow:Graph was finalized.\n"
          ]
        },
        {
          "output_type": "stream",
          "name": "stderr",
          "text": [
            "I0320 01:23:14.983587 139628830963584 monitored_session.py:240] Graph was finalized.\n"
          ]
        },
        {
          "output_type": "stream",
          "name": "stdout",
          "text": [
            "INFO:tensorflow:Restoring parameters from gdrive/My Drive/Colab Notebooks/models/model_20220317/model.ckpt-1293\n"
          ]
        },
        {
          "output_type": "stream",
          "name": "stderr",
          "text": [
            "I0320 01:23:14.997818 139628830963584 saver.py:1284] Restoring parameters from gdrive/My Drive/Colab Notebooks/models/model_20220317/model.ckpt-1293\n"
          ]
        },
        {
          "output_type": "stream",
          "name": "stdout",
          "text": [
            "INFO:tensorflow:Running local_init_op.\n"
          ]
        },
        {
          "output_type": "stream",
          "name": "stderr",
          "text": [
            "I0320 01:23:18.544484 139628830963584 session_manager.py:500] Running local_init_op.\n"
          ]
        },
        {
          "output_type": "stream",
          "name": "stdout",
          "text": [
            "INFO:tensorflow:Done running local_init_op.\n"
          ]
        },
        {
          "output_type": "stream",
          "name": "stderr",
          "text": [
            "I0320 01:23:18.624666 139628830963584 session_manager.py:502] Done running local_init_op.\n"
          ]
        }
      ]
    },
    {
      "cell_type": "code",
      "source": [
        "%load_ext tensorboard"
      ],
      "metadata": {
        "colab": {
          "base_uri": "https://localhost:8080/"
        },
        "id": "g4KkiVipjfKN",
        "outputId": "4b587998-5612-4c2a-ca16-db3da3f4910c"
      },
      "execution_count": 42,
      "outputs": [
        {
          "output_type": "stream",
          "name": "stdout",
          "text": [
            "The tensorboard extension is already loaded. To reload it, use:\n",
            "  %reload_ext tensorboard\n"
          ]
        }
      ]
    },
    {
      "cell_type": "code",
      "source": [
        "# %tensorboard --logdir  \"gdrive/My Drive/Colab Notebooks/models/model_20220317\""
      ],
      "metadata": {
        "id": "3_3gbpP2kyHk"
      },
      "execution_count": 23,
      "outputs": []
    },
    {
      "cell_type": "code",
      "source": [
        ""
      ],
      "metadata": {
        "id": "uobFrmVUfqOP"
      },
      "execution_count": null,
      "outputs": []
    }
  ]
}